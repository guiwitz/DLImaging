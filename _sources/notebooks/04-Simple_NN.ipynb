{
  "cells": [
    {
      "cell_type": "markdown",
      "metadata": {
        "id": "AI1uO_bdYDRH"
      },
      "source": [
        "[![Open In Colab](https://colab.research.google.com/assets/colab-badge.svg)](https://colab.research.google.com/github/guiwitz/DLImaging/blob/master/notebooks/04-Simple_NN.ipynb)\n",
        "# 4. Simple neural net with PyTorch\n",
        "\n",
        "Neural networks can be programmed on different levels depending on how much one needs to customize either the architecture or the training pattern. When dealing with more complex NN we will use a higher-level package (Lightning, see [Chapter 8](08-Lightning.ipynb)) which will spare us some \"manual\" work. However, in order to understand all steps involved in designing a DL algorithm, we will first use basic PyTroch. In this notebook we will see howe we can *design* a NN while in [the next notebook](05-Training.ipynb) we will se how to train it."
      ]
    },
    {
      "cell_type": "code",
      "execution_count": 1,
      "metadata": {
        "tags": [
          "hide-input"
        ],
        "id": "aWCXSn5pOquE",
        "outputId": "5ac91b18-2672-43f3-d135-ae347bde8935",
        "colab": {
          "base_uri": "https://localhost:8080/"
        }
      },
      "outputs": [
        {
          "output_type": "stream",
          "name": "stdout",
          "text": [
            "Mounted at /gdrive\n"
          ]
        }
      ],
      "source": [
        "# set path containing data folder or use default for Colab (/gdrive/My Drive)\n",
        "local_folder = \"../\"\n",
        "import urllib.request\n",
        "urllib.request.urlretrieve('https://raw.githubusercontent.com/guiwitz/DLImaging/master/utils/check_colab.py', 'check_colab.py')\n",
        "from check_colab import set_datapath\n",
        "colab, datapath = set_datapath(local_folder)"
      ]
    },
    {
      "cell_type": "markdown",
      "metadata": {
        "id": "k5noZQBcOquF"
      },
      "source": [
        "## Layer from torch.nn\n",
        "\n",
        "We will see in this notebook how to create a simple neural network for image classification using the most general mechanism in PyTorch which are modules. All module-related objects and functions are contained in ```torch.nn```. As the name indicates, these modules are really *modular* in the sense that they are indpendent parts of networks that can be combined together. Mostly we will use single modules containing the multiple layers of our architecture, but we will also see examples where multiple modules are assembled.\n",
        "\n",
        "A module is essentially an assemble of multiple other modules, and many of these are provided \"pre-made\" for us also available in ```torch.nn```. For example in the simple network used here we will only use linear layers. Before we create an actual network let's see how layers work:"
      ]
    },
    {
      "cell_type": "code",
      "execution_count": 2,
      "metadata": {
        "id": "YL9Tx6P0YDRM"
      },
      "outputs": [],
      "source": [
        "from torch import nn"
      ]
    },
    {
      "cell_type": "markdown",
      "metadata": {
        "id": "m22IXJqLOquG"
      },
      "source": [
        "We creat now a linear layer that takes a vector of size 5 as input and ouptuts a vector of size 10:"
      ]
    },
    {
      "cell_type": "code",
      "execution_count": 3,
      "metadata": {
        "id": "rMFmaxSuOquH"
      },
      "outputs": [],
      "source": [
        "lin_layer = nn.Linear(in_features=5, out_features=10)"
      ]
    },
    {
      "cell_type": "markdown",
      "metadata": {
        "id": "qDQ4D0iuOquH"
      },
      "source": [
        "This single layer already has parameters:"
      ]
    },
    {
      "cell_type": "code",
      "execution_count": 4,
      "metadata": {
        "id": "tEs08tFDOquI",
        "outputId": "fd94280b-776b-4549-95aa-ae7d31196d02",
        "colab": {
          "base_uri": "https://localhost:8080/"
        }
      },
      "outputs": [
        {
          "output_type": "execute_result",
          "data": {
            "text/plain": [
              "[Parameter containing:\n",
              " tensor([[ 0.1772, -0.2716, -0.0833,  0.4179,  0.0139],\n",
              "         [ 0.0236,  0.4233, -0.0906, -0.0667, -0.1381],\n",
              "         [ 0.0183,  0.3365, -0.0383, -0.2230,  0.1193],\n",
              "         [-0.1372, -0.1642,  0.0699,  0.2822, -0.0746],\n",
              "         [-0.4264,  0.3427, -0.1457, -0.4305, -0.0769],\n",
              "         [-0.1531, -0.0913,  0.1122, -0.1215, -0.0599],\n",
              "         [-0.0187,  0.1361, -0.3873,  0.2272, -0.3454],\n",
              "         [-0.3957, -0.3610, -0.0309,  0.3582,  0.2156],\n",
              "         [ 0.3501,  0.2927, -0.1047,  0.4398, -0.1033],\n",
              "         [ 0.2378,  0.0654, -0.3990, -0.2655,  0.1689]], requires_grad=True),\n",
              " Parameter containing:\n",
              " tensor([-0.2049, -0.0815,  0.4178, -0.3250,  0.3191, -0.3232, -0.1012,  0.0951,\n",
              "          0.0309, -0.1550], requires_grad=True)]"
            ]
          },
          "metadata": {},
          "execution_count": 4
        }
      ],
      "source": [
        "list(lin_layer.parameters())"
      ]
    },
    {
      "cell_type": "markdown",
      "metadata": {
        "id": "SIIb6gLAOquI"
      },
      "source": [
        "We see that we have indeed a 5x10 matrix plus the bias term of size 10. When we later assemble multiple modules, we will see the same time of output but with many more parameters."
      ]
    },
    {
      "cell_type": "markdown",
      "metadata": {
        "id": "U-Kp9kzeYDRR"
      },
      "source": [
        "## Passing an input\n",
        "\n",
        "Our layer takes a vector as an input so let's try to creat a vector of size 5 and pass it through the layer:"
      ]
    },
    {
      "cell_type": "code",
      "execution_count": 5,
      "metadata": {
        "id": "BrpgmCV9YDRS"
      },
      "outputs": [],
      "source": [
        "import numpy as np"
      ]
    },
    {
      "cell_type": "code",
      "execution_count": 6,
      "metadata": {
        "colab": {
          "base_uri": "https://localhost:8080/"
        },
        "id": "WgH4jbSpYDRS",
        "outputId": "c9536d97-c1a4-4a7b-bc59-54907e21b63f"
      },
      "outputs": [
        {
          "output_type": "execute_result",
          "data": {
            "text/plain": [
              "array([93, 93, 44, 15, 90])"
            ]
          },
          "metadata": {},
          "execution_count": 6
        }
      ],
      "source": [
        "myvector = np.random.randint(0,100,5)\n",
        "myvector"
      ]
    },
    {
      "cell_type": "markdown",
      "metadata": {
        "id": "qXXbN8u2YDRS"
      },
      "source": [
        "No we we pass it to ```lin_layer```:"
      ]
    },
    {
      "cell_type": "code",
      "execution_count": 7,
      "metadata": {
        "colab": {
          "base_uri": "https://localhost:8080/",
          "height": 307
        },
        "id": "lSXkG3RfYDRS",
        "outputId": "32af52b6-2fc8-47a8-db17-56a1f5d775c2",
        "tags": [
          "raises-exception"
        ]
      },
      "outputs": [
        {
          "output_type": "error",
          "ename": "TypeError",
          "evalue": "ignored",
          "traceback": [
            "\u001b[0;31m---------------------------------------------------------------------------\u001b[0m",
            "\u001b[0;31mTypeError\u001b[0m                                 Traceback (most recent call last)",
            "\u001b[0;32m<ipython-input-7-6ef7c06b0ae8>\u001b[0m in \u001b[0;36m<module>\u001b[0;34m()\u001b[0m\n\u001b[0;32m----> 1\u001b[0;31m \u001b[0mlin_layer\u001b[0m\u001b[0;34m(\u001b[0m\u001b[0mmyvector\u001b[0m\u001b[0;34m)\u001b[0m\u001b[0;34m\u001b[0m\u001b[0;34m\u001b[0m\u001b[0m\n\u001b[0m",
            "\u001b[0;32m/usr/local/lib/python3.7/dist-packages/torch/nn/modules/module.py\u001b[0m in \u001b[0;36m_call_impl\u001b[0;34m(self, *input, **kwargs)\u001b[0m\n\u001b[1;32m   1100\u001b[0m         if not (self._backward_hooks or self._forward_hooks or self._forward_pre_hooks or _global_backward_hooks\n\u001b[1;32m   1101\u001b[0m                 or _global_forward_hooks or _global_forward_pre_hooks):\n\u001b[0;32m-> 1102\u001b[0;31m             \u001b[0;32mreturn\u001b[0m \u001b[0mforward_call\u001b[0m\u001b[0;34m(\u001b[0m\u001b[0;34m*\u001b[0m\u001b[0minput\u001b[0m\u001b[0;34m,\u001b[0m \u001b[0;34m**\u001b[0m\u001b[0mkwargs\u001b[0m\u001b[0;34m)\u001b[0m\u001b[0;34m\u001b[0m\u001b[0;34m\u001b[0m\u001b[0m\n\u001b[0m\u001b[1;32m   1103\u001b[0m         \u001b[0;31m# Do not call functions when jit is used\u001b[0m\u001b[0;34m\u001b[0m\u001b[0;34m\u001b[0m\u001b[0;34m\u001b[0m\u001b[0m\n\u001b[1;32m   1104\u001b[0m         \u001b[0mfull_backward_hooks\u001b[0m\u001b[0;34m,\u001b[0m \u001b[0mnon_full_backward_hooks\u001b[0m \u001b[0;34m=\u001b[0m \u001b[0;34m[\u001b[0m\u001b[0;34m]\u001b[0m\u001b[0;34m,\u001b[0m \u001b[0;34m[\u001b[0m\u001b[0;34m]\u001b[0m\u001b[0;34m\u001b[0m\u001b[0;34m\u001b[0m\u001b[0m\n",
            "\u001b[0;32m/usr/local/lib/python3.7/dist-packages/torch/nn/modules/linear.py\u001b[0m in \u001b[0;36mforward\u001b[0;34m(self, input)\u001b[0m\n\u001b[1;32m    101\u001b[0m \u001b[0;34m\u001b[0m\u001b[0m\n\u001b[1;32m    102\u001b[0m     \u001b[0;32mdef\u001b[0m \u001b[0mforward\u001b[0m\u001b[0;34m(\u001b[0m\u001b[0mself\u001b[0m\u001b[0;34m,\u001b[0m \u001b[0minput\u001b[0m\u001b[0;34m:\u001b[0m \u001b[0mTensor\u001b[0m\u001b[0;34m)\u001b[0m \u001b[0;34m->\u001b[0m \u001b[0mTensor\u001b[0m\u001b[0;34m:\u001b[0m\u001b[0;34m\u001b[0m\u001b[0;34m\u001b[0m\u001b[0m\n\u001b[0;32m--> 103\u001b[0;31m         \u001b[0;32mreturn\u001b[0m \u001b[0mF\u001b[0m\u001b[0;34m.\u001b[0m\u001b[0mlinear\u001b[0m\u001b[0;34m(\u001b[0m\u001b[0minput\u001b[0m\u001b[0;34m,\u001b[0m \u001b[0mself\u001b[0m\u001b[0;34m.\u001b[0m\u001b[0mweight\u001b[0m\u001b[0;34m,\u001b[0m \u001b[0mself\u001b[0m\u001b[0;34m.\u001b[0m\u001b[0mbias\u001b[0m\u001b[0;34m)\u001b[0m\u001b[0;34m\u001b[0m\u001b[0;34m\u001b[0m\u001b[0m\n\u001b[0m\u001b[1;32m    104\u001b[0m \u001b[0;34m\u001b[0m\u001b[0m\n\u001b[1;32m    105\u001b[0m     \u001b[0;32mdef\u001b[0m \u001b[0mextra_repr\u001b[0m\u001b[0;34m(\u001b[0m\u001b[0mself\u001b[0m\u001b[0;34m)\u001b[0m \u001b[0;34m->\u001b[0m \u001b[0mstr\u001b[0m\u001b[0;34m:\u001b[0m\u001b[0;34m\u001b[0m\u001b[0;34m\u001b[0m\u001b[0m\n",
            "\u001b[0;32m/usr/local/lib/python3.7/dist-packages/torch/nn/functional.py\u001b[0m in \u001b[0;36mlinear\u001b[0;34m(input, weight, bias)\u001b[0m\n\u001b[1;32m   1846\u001b[0m     \u001b[0;32mif\u001b[0m \u001b[0mhas_torch_function_variadic\u001b[0m\u001b[0;34m(\u001b[0m\u001b[0minput\u001b[0m\u001b[0;34m,\u001b[0m \u001b[0mweight\u001b[0m\u001b[0;34m,\u001b[0m \u001b[0mbias\u001b[0m\u001b[0;34m)\u001b[0m\u001b[0;34m:\u001b[0m\u001b[0;34m\u001b[0m\u001b[0;34m\u001b[0m\u001b[0m\n\u001b[1;32m   1847\u001b[0m         \u001b[0;32mreturn\u001b[0m \u001b[0mhandle_torch_function\u001b[0m\u001b[0;34m(\u001b[0m\u001b[0mlinear\u001b[0m\u001b[0;34m,\u001b[0m \u001b[0;34m(\u001b[0m\u001b[0minput\u001b[0m\u001b[0;34m,\u001b[0m \u001b[0mweight\u001b[0m\u001b[0;34m,\u001b[0m \u001b[0mbias\u001b[0m\u001b[0;34m)\u001b[0m\u001b[0;34m,\u001b[0m \u001b[0minput\u001b[0m\u001b[0;34m,\u001b[0m \u001b[0mweight\u001b[0m\u001b[0;34m,\u001b[0m \u001b[0mbias\u001b[0m\u001b[0;34m=\u001b[0m\u001b[0mbias\u001b[0m\u001b[0;34m)\u001b[0m\u001b[0;34m\u001b[0m\u001b[0;34m\u001b[0m\u001b[0m\n\u001b[0;32m-> 1848\u001b[0;31m     \u001b[0;32mreturn\u001b[0m \u001b[0mtorch\u001b[0m\u001b[0;34m.\u001b[0m\u001b[0m_C\u001b[0m\u001b[0;34m.\u001b[0m\u001b[0m_nn\u001b[0m\u001b[0;34m.\u001b[0m\u001b[0mlinear\u001b[0m\u001b[0;34m(\u001b[0m\u001b[0minput\u001b[0m\u001b[0;34m,\u001b[0m \u001b[0mweight\u001b[0m\u001b[0;34m,\u001b[0m \u001b[0mbias\u001b[0m\u001b[0;34m)\u001b[0m\u001b[0;34m\u001b[0m\u001b[0;34m\u001b[0m\u001b[0m\n\u001b[0m\u001b[1;32m   1849\u001b[0m \u001b[0;34m\u001b[0m\u001b[0m\n\u001b[1;32m   1850\u001b[0m \u001b[0;34m\u001b[0m\u001b[0m\n",
            "\u001b[0;31mTypeError\u001b[0m: linear(): argument 'input' (position 1) must be Tensor, not numpy.ndarray"
          ]
        }
      ],
      "source": [
        "lin_layer(myvector)"
      ]
    },
    {
      "cell_type": "markdown",
      "metadata": {
        "id": "dR4xQZciYDRS"
      },
      "source": [
        "Of course we get an error, as the layer doesn't expect a Numpy array but a PyTorch tensor! We can have a look at what PyTorch tensors are in the [03-Tensors](03-Tensors.ipynb) notebook and come back here later.\n",
        "\n",
        "Now we can turn our Numpy array into a tensor:"
      ]
    },
    {
      "cell_type": "code",
      "execution_count": 8,
      "metadata": {
        "id": "lNz6N6ZgYDRT"
      },
      "outputs": [],
      "source": [
        "import torch"
      ]
    },
    {
      "cell_type": "code",
      "execution_count": 9,
      "metadata": {
        "colab": {
          "base_uri": "https://localhost:8080/"
        },
        "id": "eHX1lbiCYDRT",
        "outputId": "15f1f659-c3bf-4e38-8b46-9c744620b2a0"
      },
      "outputs": [
        {
          "output_type": "execute_result",
          "data": {
            "text/plain": [
              "tensor([93, 93, 44, 15, 90])"
            ]
          },
          "metadata": {},
          "execution_count": 9
        }
      ],
      "source": [
        "mytensor = torch.tensor(myvector)\n",
        "mytensor"
      ]
    },
    {
      "cell_type": "code",
      "execution_count": 10,
      "metadata": {
        "colab": {
          "base_uri": "https://localhost:8080/",
          "height": 307
        },
        "id": "m_-lAb5SYDRT",
        "outputId": "f3a52dce-44cd-4dca-dc03-9a76ae4a3450",
        "tags": [
          "raises-exception"
        ]
      },
      "outputs": [
        {
          "output_type": "error",
          "ename": "RuntimeError",
          "evalue": "ignored",
          "traceback": [
            "\u001b[0;31m---------------------------------------------------------------------------\u001b[0m",
            "\u001b[0;31mRuntimeError\u001b[0m                              Traceback (most recent call last)",
            "\u001b[0;32m<ipython-input-10-4eeffe384bb6>\u001b[0m in \u001b[0;36m<module>\u001b[0;34m()\u001b[0m\n\u001b[0;32m----> 1\u001b[0;31m \u001b[0mlin_layer\u001b[0m\u001b[0;34m(\u001b[0m\u001b[0mmytensor\u001b[0m\u001b[0;34m)\u001b[0m\u001b[0;34m\u001b[0m\u001b[0;34m\u001b[0m\u001b[0m\n\u001b[0m",
            "\u001b[0;32m/usr/local/lib/python3.7/dist-packages/torch/nn/modules/module.py\u001b[0m in \u001b[0;36m_call_impl\u001b[0;34m(self, *input, **kwargs)\u001b[0m\n\u001b[1;32m   1100\u001b[0m         if not (self._backward_hooks or self._forward_hooks or self._forward_pre_hooks or _global_backward_hooks\n\u001b[1;32m   1101\u001b[0m                 or _global_forward_hooks or _global_forward_pre_hooks):\n\u001b[0;32m-> 1102\u001b[0;31m             \u001b[0;32mreturn\u001b[0m \u001b[0mforward_call\u001b[0m\u001b[0;34m(\u001b[0m\u001b[0;34m*\u001b[0m\u001b[0minput\u001b[0m\u001b[0;34m,\u001b[0m \u001b[0;34m**\u001b[0m\u001b[0mkwargs\u001b[0m\u001b[0;34m)\u001b[0m\u001b[0;34m\u001b[0m\u001b[0;34m\u001b[0m\u001b[0m\n\u001b[0m\u001b[1;32m   1103\u001b[0m         \u001b[0;31m# Do not call functions when jit is used\u001b[0m\u001b[0;34m\u001b[0m\u001b[0;34m\u001b[0m\u001b[0;34m\u001b[0m\u001b[0m\n\u001b[1;32m   1104\u001b[0m         \u001b[0mfull_backward_hooks\u001b[0m\u001b[0;34m,\u001b[0m \u001b[0mnon_full_backward_hooks\u001b[0m \u001b[0;34m=\u001b[0m \u001b[0;34m[\u001b[0m\u001b[0;34m]\u001b[0m\u001b[0;34m,\u001b[0m \u001b[0;34m[\u001b[0m\u001b[0;34m]\u001b[0m\u001b[0;34m\u001b[0m\u001b[0;34m\u001b[0m\u001b[0m\n",
            "\u001b[0;32m/usr/local/lib/python3.7/dist-packages/torch/nn/modules/linear.py\u001b[0m in \u001b[0;36mforward\u001b[0;34m(self, input)\u001b[0m\n\u001b[1;32m    101\u001b[0m \u001b[0;34m\u001b[0m\u001b[0m\n\u001b[1;32m    102\u001b[0m     \u001b[0;32mdef\u001b[0m \u001b[0mforward\u001b[0m\u001b[0;34m(\u001b[0m\u001b[0mself\u001b[0m\u001b[0;34m,\u001b[0m \u001b[0minput\u001b[0m\u001b[0;34m:\u001b[0m \u001b[0mTensor\u001b[0m\u001b[0;34m)\u001b[0m \u001b[0;34m->\u001b[0m \u001b[0mTensor\u001b[0m\u001b[0;34m:\u001b[0m\u001b[0;34m\u001b[0m\u001b[0;34m\u001b[0m\u001b[0m\n\u001b[0;32m--> 103\u001b[0;31m         \u001b[0;32mreturn\u001b[0m \u001b[0mF\u001b[0m\u001b[0;34m.\u001b[0m\u001b[0mlinear\u001b[0m\u001b[0;34m(\u001b[0m\u001b[0minput\u001b[0m\u001b[0;34m,\u001b[0m \u001b[0mself\u001b[0m\u001b[0;34m.\u001b[0m\u001b[0mweight\u001b[0m\u001b[0;34m,\u001b[0m \u001b[0mself\u001b[0m\u001b[0;34m.\u001b[0m\u001b[0mbias\u001b[0m\u001b[0;34m)\u001b[0m\u001b[0;34m\u001b[0m\u001b[0;34m\u001b[0m\u001b[0m\n\u001b[0m\u001b[1;32m    104\u001b[0m \u001b[0;34m\u001b[0m\u001b[0m\n\u001b[1;32m    105\u001b[0m     \u001b[0;32mdef\u001b[0m \u001b[0mextra_repr\u001b[0m\u001b[0;34m(\u001b[0m\u001b[0mself\u001b[0m\u001b[0;34m)\u001b[0m \u001b[0;34m->\u001b[0m \u001b[0mstr\u001b[0m\u001b[0;34m:\u001b[0m\u001b[0;34m\u001b[0m\u001b[0;34m\u001b[0m\u001b[0m\n",
            "\u001b[0;32m/usr/local/lib/python3.7/dist-packages/torch/nn/functional.py\u001b[0m in \u001b[0;36mlinear\u001b[0;34m(input, weight, bias)\u001b[0m\n\u001b[1;32m   1846\u001b[0m     \u001b[0;32mif\u001b[0m \u001b[0mhas_torch_function_variadic\u001b[0m\u001b[0;34m(\u001b[0m\u001b[0minput\u001b[0m\u001b[0;34m,\u001b[0m \u001b[0mweight\u001b[0m\u001b[0;34m,\u001b[0m \u001b[0mbias\u001b[0m\u001b[0;34m)\u001b[0m\u001b[0;34m:\u001b[0m\u001b[0;34m\u001b[0m\u001b[0;34m\u001b[0m\u001b[0m\n\u001b[1;32m   1847\u001b[0m         \u001b[0;32mreturn\u001b[0m \u001b[0mhandle_torch_function\u001b[0m\u001b[0;34m(\u001b[0m\u001b[0mlinear\u001b[0m\u001b[0;34m,\u001b[0m \u001b[0;34m(\u001b[0m\u001b[0minput\u001b[0m\u001b[0;34m,\u001b[0m \u001b[0mweight\u001b[0m\u001b[0;34m,\u001b[0m \u001b[0mbias\u001b[0m\u001b[0;34m)\u001b[0m\u001b[0;34m,\u001b[0m \u001b[0minput\u001b[0m\u001b[0;34m,\u001b[0m \u001b[0mweight\u001b[0m\u001b[0;34m,\u001b[0m \u001b[0mbias\u001b[0m\u001b[0;34m=\u001b[0m\u001b[0mbias\u001b[0m\u001b[0;34m)\u001b[0m\u001b[0;34m\u001b[0m\u001b[0;34m\u001b[0m\u001b[0m\n\u001b[0;32m-> 1848\u001b[0;31m     \u001b[0;32mreturn\u001b[0m \u001b[0mtorch\u001b[0m\u001b[0;34m.\u001b[0m\u001b[0m_C\u001b[0m\u001b[0;34m.\u001b[0m\u001b[0m_nn\u001b[0m\u001b[0;34m.\u001b[0m\u001b[0mlinear\u001b[0m\u001b[0;34m(\u001b[0m\u001b[0minput\u001b[0m\u001b[0;34m,\u001b[0m \u001b[0mweight\u001b[0m\u001b[0;34m,\u001b[0m \u001b[0mbias\u001b[0m\u001b[0;34m)\u001b[0m\u001b[0;34m\u001b[0m\u001b[0;34m\u001b[0m\u001b[0m\n\u001b[0m\u001b[1;32m   1849\u001b[0m \u001b[0;34m\u001b[0m\u001b[0m\n\u001b[1;32m   1850\u001b[0m \u001b[0;34m\u001b[0m\u001b[0m\n",
            "\u001b[0;31mRuntimeError\u001b[0m: expected scalar type Long but found Float"
          ]
        }
      ],
      "source": [
        "lin_layer(mytensor)"
      ]
    },
    {
      "cell_type": "markdown",
      "metadata": {
        "id": "lV6W7QoJYDRT"
      },
      "source": [
        "Again an error! The error can be a bit misleading. The whole problem is that the weights in the layer are defined by default as ```float32```. Hence the input should match this but we passed an 64 bits integer which creates a conflict. Let's adjust the type of our tensor. We can either modify the tensor:"
      ]
    },
    {
      "cell_type": "code",
      "execution_count": 11,
      "metadata": {
        "id": "eCYVteuRYDRT"
      },
      "outputs": [],
      "source": [
        "mytensor_float = mytensor.float()"
      ]
    },
    {
      "cell_type": "code",
      "execution_count": 12,
      "metadata": {
        "colab": {
          "base_uri": "https://localhost:8080/"
        },
        "id": "MnABMWbkYDRU",
        "outputId": "3a3b9442-ccd1-4499-e075-c12cc40c6ab2"
      },
      "outputs": [
        {
          "output_type": "execute_result",
          "data": {
            "text/plain": [
              "tensor([93., 93., 44., 15., 90.])"
            ]
          },
          "metadata": {},
          "execution_count": 12
        }
      ],
      "source": [
        "mytensor_float"
      ]
    },
    {
      "cell_type": "code",
      "execution_count": 13,
      "metadata": {
        "colab": {
          "base_uri": "https://localhost:8080/"
        },
        "id": "9aj1UP4ZYDRU",
        "outputId": "37e582d2-cdeb-492b-b500-734f11f62d64"
      },
      "outputs": [
        {
          "output_type": "execute_result",
          "data": {
            "text/plain": [
              "torch.float32"
            ]
          },
          "metadata": {},
          "execution_count": 13
        }
      ],
      "source": [
        "mytensor_float.dtype"
      ]
    },
    {
      "cell_type": "markdown",
      "metadata": {
        "id": "BSZGPMCgOquV"
      },
      "source": [
        "or do it from the beginning when transforming our Numpy array by specifying the ```dtype``` explicitely:"
      ]
    },
    {
      "cell_type": "code",
      "execution_count": 14,
      "metadata": {
        "id": "mxKOsKrZOquV"
      },
      "outputs": [],
      "source": [
        "mytensor_float = torch.tensor(myvector, dtype=torch.float32)"
      ]
    },
    {
      "cell_type": "code",
      "execution_count": 15,
      "metadata": {
        "id": "RdKTr8KDOquV",
        "outputId": "9930c5e9-89f5-4451-ab43-0512c0d00275",
        "colab": {
          "base_uri": "https://localhost:8080/"
        }
      },
      "outputs": [
        {
          "output_type": "execute_result",
          "data": {
            "text/plain": [
              "torch.float32"
            ]
          },
          "metadata": {},
          "execution_count": 15
        }
      ],
      "source": [
        "mytensor_float.dtype"
      ]
    },
    {
      "cell_type": "markdown",
      "metadata": {
        "id": "MlZQhZ8uOquW"
      },
      "source": [
        "Now we finally have the right object to path through our network:"
      ]
    },
    {
      "cell_type": "code",
      "execution_count": 16,
      "metadata": {
        "colab": {
          "base_uri": "https://localhost:8080/"
        },
        "id": "wwrmvWgcYDRU",
        "outputId": "e18c3b68-087a-4197-b1d5-f903e329a95d"
      },
      "outputs": [
        {
          "output_type": "execute_result",
          "data": {
            "text/plain": [
              "tensor([ -5.1316,  24.0661,  39.1124, -27.7620, -27.2561, -25.3290, -33.9091,\n",
              "        -46.8651,  52.5092,  21.6992], grad_fn=<AddBackward0>)"
            ]
          },
          "metadata": {},
          "execution_count": 16
        }
      ],
      "source": [
        "output = lin_layer(mytensor_float)\n",
        "output"
      ]
    },
    {
      "cell_type": "code",
      "execution_count": 17,
      "metadata": {
        "colab": {
          "base_uri": "https://localhost:8080/"
        },
        "id": "-6bOnr9bYDRU",
        "outputId": "f4109c43-d388-4610-b1c8-17812d1f420e"
      },
      "outputs": [
        {
          "output_type": "execute_result",
          "data": {
            "text/plain": [
              "torch.Size([10])"
            ]
          },
          "metadata": {},
          "execution_count": 17
        }
      ],
      "source": [
        "output.shape"
      ]
    },
    {
      "cell_type": "markdown",
      "metadata": {
        "id": "lZXBQtGFOquX"
      },
      "source": [
        "We see that the ouput has as expected as size of 10! Of course we can now add as many other layers as we want:"
      ]
    },
    {
      "cell_type": "code",
      "execution_count": 18,
      "metadata": {
        "id": "IvIVibm_OquX"
      },
      "outputs": [],
      "source": [
        "lin_layer2 = nn.Linear(10,3)\n",
        "output = lin_layer2(output)"
      ]
    },
    {
      "cell_type": "code",
      "execution_count": 19,
      "metadata": {
        "id": "vfCxymrWOquX",
        "outputId": "7b872674-8259-45fb-e8ef-aadc516128c1",
        "colab": {
          "base_uri": "https://localhost:8080/"
        }
      },
      "outputs": [
        {
          "output_type": "execute_result",
          "data": {
            "text/plain": [
              "torch.Size([3])"
            ]
          },
          "metadata": {},
          "execution_count": 19
        }
      ],
      "source": [
        "output.size()"
      ]
    },
    {
      "cell_type": "markdown",
      "metadata": {
        "id": "gwgOrxZjOquY"
      },
      "source": [
        "## Activation\n",
        "\n",
        "In addition to *layers* we will typically also need activation functions such as soft-max. Those are implemented as modules in ```torch.nn``` as well as functions in ```torch.functional``` which we use here:"
      ]
    },
    {
      "cell_type": "code",
      "execution_count": 20,
      "metadata": {
        "id": "2-uqNcAGYDRN"
      },
      "outputs": [],
      "source": [
        "import torch.nn.functional as F"
      ]
    },
    {
      "cell_type": "markdown",
      "metadata": {
        "id": "gjZNAsaXOquY"
      },
      "source": [
        "Since we use the functional form, we can pass the output of the above linear layer directly to the activation function, here a ReLU:"
      ]
    },
    {
      "cell_type": "code",
      "execution_count": 21,
      "metadata": {
        "id": "GuIBiy7POquZ"
      },
      "outputs": [],
      "source": [
        "lin_layer_activated = F.relu(output)"
      ]
    },
    {
      "cell_type": "code",
      "execution_count": 22,
      "metadata": {
        "id": "ZLiN8fnKOquZ",
        "outputId": "bae2c6f9-c1a1-4718-c989-2efc15af26dc",
        "colab": {
          "base_uri": "https://localhost:8080/"
        }
      },
      "outputs": [
        {
          "output_type": "execute_result",
          "data": {
            "text/plain": [
              "tensor([4.6315, 0.0000, 0.0000], grad_fn=<ReluBackward0>)"
            ]
          },
          "metadata": {},
          "execution_count": 22
        }
      ],
      "source": [
        "lin_layer_activated"
      ]
    },
    {
      "cell_type": "markdown",
      "metadata": {
        "id": "TzPIWGlLYDRN"
      },
      "source": [
        "## Structure of a network\n",
        "\n",
        "Now that we have seen how to create a layers and activation functions we can assemble them into a usable network structure. In PyTorch that structure is ```nn.Module``` a base class on top of which we can build our network. We can specify what parameters we want to pass when creating this object and we also have to define a single function, ```forward```, which describes the network itself. Here's an example:"
      ]
    },
    {
      "cell_type": "code",
      "execution_count": 23,
      "metadata": {
        "id": "-orgrI3IYDRO"
      },
      "outputs": [],
      "source": [
        "class Mynetwork(nn.Module):\n",
        "    def __init__(self, myparameter1, myparameter2):\n",
        "        super(Mynetwork, self).__init__()\n",
        "        \n",
        "        # define e.g. layers here e.g.\n",
        "        self.layer1 = nn.Linear(myparameter1, 5)\n",
        "        self.layer2 = nn.Linear(5, myparameter2)\n",
        "\n",
        "    def forward(self, x):\n",
        "        \n",
        "        # define the sequence of operations in the network including e.g. activations\n",
        "        x = F.relu(self.layer1(x))\n",
        "        x = self.layer2(x)\n",
        "        \n",
        "        return x"
      ]
    },
    {
      "cell_type": "markdown",
      "metadata": {
        "id": "ij-rK7HkYDRO"
      },
      "source": [
        "Above, we have defined a simple network that is defined by two parameters, ```myparameter1, myparameter2```, and which is composed of two linear layers and ReLU unit. The differnt layers that we need are defined in ```__init__``` as object parameters and then re-used in the network definition in the ```forward``` function. ```forward``` takes an input ```x``` (e.g. an image to classify), passes it through the network and outputs the result. Therefore in principle we could instantiate a model and use it like this:\n",
        "\n",
        "```\n",
        "mymodel = Mynetwork(9,3)\n",
        "mymodel.forward(myinput)\n",
        "```\n",
        "\n",
        "However, ```nn.Module``` has a ```__call__``` attribute that allows us to use the class as a function like this:\n",
        "\n",
        "```\n",
        "mymodel = Mynetwork(9,3)\n",
        "mymodel(myinput)\n",
        "```\n",
        "\n",
        "This is actually **how a module should be properly used** in order to exploit all capabilities offered in PyTorch.\n",
        "\n",
        "Let's now try this out. We instantiate the model:"
      ]
    },
    {
      "cell_type": "code",
      "execution_count": 24,
      "metadata": {
        "id": "4nhXAob2YDRO"
      },
      "outputs": [],
      "source": [
        "mymodel = Mynetwork(9,3)"
      ]
    },
    {
      "cell_type": "markdown",
      "metadata": {
        "id": "tBL1nCf6YDRP"
      },
      "source": [
        "Just like for the single linear layer before, we can have a look at all parameters:"
      ]
    },
    {
      "cell_type": "code",
      "execution_count": 25,
      "metadata": {
        "colab": {
          "base_uri": "https://localhost:8080/"
        },
        "id": "HXGXjCKdYDRP",
        "outputId": "48b8e550-c441-4b9e-8a86-c88f14ec4dd3"
      },
      "outputs": [
        {
          "output_type": "execute_result",
          "data": {
            "text/plain": [
              "[Parameter containing:\n",
              " tensor([[ 0.0483, -0.2518, -0.0089, -0.2222, -0.2226,  0.0678, -0.0117,  0.1295,\n",
              "          -0.2652],\n",
              "         [ 0.1032,  0.1222,  0.1620, -0.3203,  0.1332,  0.0745, -0.2601,  0.1932,\n",
              "           0.0618],\n",
              "         [ 0.3046,  0.0502,  0.1105,  0.0564, -0.1664, -0.0811,  0.1039,  0.0440,\n",
              "           0.1922],\n",
              "         [ 0.0937,  0.2563,  0.1606,  0.1038, -0.0500, -0.2383,  0.1778, -0.0871,\n",
              "           0.1092],\n",
              "         [-0.3318, -0.2407, -0.0272,  0.2387, -0.2174,  0.1162, -0.1696,  0.2630,\n",
              "          -0.3218]], requires_grad=True), Parameter containing:\n",
              " tensor([ 0.1442,  0.3127, -0.3283,  0.2729, -0.2035], requires_grad=True), Parameter containing:\n",
              " tensor([[-0.3275, -0.3544, -0.0413,  0.1119, -0.1094],\n",
              "         [-0.3663,  0.0042, -0.4315, -0.1468,  0.0556],\n",
              "         [ 0.3742, -0.1017,  0.3442,  0.3889, -0.3229]], requires_grad=True), Parameter containing:\n",
              " tensor([ 0.1876,  0.3002, -0.2017], requires_grad=True)]"
            ]
          },
          "metadata": {},
          "execution_count": 25
        }
      ],
      "source": [
        "list(mymodel.parameters())"
      ]
    },
    {
      "cell_type": "markdown",
      "metadata": {
        "id": "Vht79uk8YDRQ"
      },
      "source": [
        "The output is the same, only now we see all parameters from all layers, not just a single one. We can also look at the modules contained in our network:"
      ]
    },
    {
      "cell_type": "code",
      "execution_count": 26,
      "metadata": {
        "id": "sYxhkXAhOque",
        "outputId": "fc26bb8e-6a74-457d-cdb1-1d7f04f43108",
        "colab": {
          "base_uri": "https://localhost:8080/"
        }
      },
      "outputs": [
        {
          "output_type": "execute_result",
          "data": {
            "text/plain": [
              "[Mynetwork(\n",
              "   (layer1): Linear(in_features=9, out_features=5, bias=True)\n",
              "   (layer2): Linear(in_features=5, out_features=3, bias=True)\n",
              " ),\n",
              " Linear(in_features=9, out_features=5, bias=True),\n",
              " Linear(in_features=5, out_features=3, bias=True)]"
            ]
          },
          "metadata": {},
          "execution_count": 26
        }
      ],
      "source": [
        "list(mymodel.modules())"
      ]
    },
    {
      "cell_type": "markdown",
      "metadata": {
        "id": "j8NsX6vnOque"
      },
      "source": [
        "We see some repeats because we see here modules at all levels. E.g. each linear layer is a module but our entire network is a module as well.\n",
        "\n",
        "We can also just find all modules contained in our main module and recover its name and function:"
      ]
    },
    {
      "cell_type": "code",
      "execution_count": 27,
      "metadata": {
        "colab": {
          "base_uri": "https://localhost:8080/"
        },
        "id": "kp8wjdEPYDRQ",
        "outputId": "42b17056-73c6-4041-eda6-5fafdf4bdf87"
      },
      "outputs": [
        {
          "output_type": "stream",
          "name": "stdout",
          "text": [
            "name: layer1 module: Linear(in_features=9, out_features=5, bias=True)\n",
            "name: layer2 module: Linear(in_features=5, out_features=3, bias=True)\n"
          ]
        }
      ],
      "source": [
        "for name, module in mymodel.named_children():\n",
        "    print(f'name: {name} module: {module}')"
      ]
    },
    {
      "cell_type": "markdown",
      "metadata": {
        "id": "Lmhrocc9YDRR"
      },
      "source": [
        "We can also obtain a dictionary of all layers with their weights:"
      ]
    },
    {
      "cell_type": "code",
      "execution_count": 28,
      "metadata": {
        "colab": {
          "base_uri": "https://localhost:8080/"
        },
        "id": "1MrDaJ4hYDRR",
        "outputId": "7f0c55d1-4438-4a25-9717-b15987c1f987"
      },
      "outputs": [
        {
          "output_type": "execute_result",
          "data": {
            "text/plain": [
              "OrderedDict([('layer1.weight',\n",
              "              tensor([[ 0.0483, -0.2518, -0.0089, -0.2222, -0.2226,  0.0678, -0.0117,  0.1295,\n",
              "                       -0.2652],\n",
              "                      [ 0.1032,  0.1222,  0.1620, -0.3203,  0.1332,  0.0745, -0.2601,  0.1932,\n",
              "                        0.0618],\n",
              "                      [ 0.3046,  0.0502,  0.1105,  0.0564, -0.1664, -0.0811,  0.1039,  0.0440,\n",
              "                        0.1922],\n",
              "                      [ 0.0937,  0.2563,  0.1606,  0.1038, -0.0500, -0.2383,  0.1778, -0.0871,\n",
              "                        0.1092],\n",
              "                      [-0.3318, -0.2407, -0.0272,  0.2387, -0.2174,  0.1162, -0.1696,  0.2630,\n",
              "                       -0.3218]])),\n",
              "             ('layer1.bias',\n",
              "              tensor([ 0.1442,  0.3127, -0.3283,  0.2729, -0.2035])),\n",
              "             ('layer2.weight',\n",
              "              tensor([[-0.3275, -0.3544, -0.0413,  0.1119, -0.1094],\n",
              "                      [-0.3663,  0.0042, -0.4315, -0.1468,  0.0556],\n",
              "                      [ 0.3742, -0.1017,  0.3442,  0.3889, -0.3229]])),\n",
              "             ('layer2.bias', tensor([ 0.1876,  0.3002, -0.2017]))])"
            ]
          },
          "metadata": {},
          "execution_count": 28
        }
      ],
      "source": [
        "mymodel.state_dict()"
      ]
    },
    {
      "cell_type": "markdown",
      "metadata": {
        "id": "HAstg9EYOquf"
      },
      "source": [
        "Finally we can pass an input through our network. It takes an input of size 9:"
      ]
    },
    {
      "cell_type": "code",
      "execution_count": 29,
      "metadata": {
        "id": "BS7ZO74mOqug"
      },
      "outputs": [],
      "source": [
        "my_input = torch.randn((9,))"
      ]
    },
    {
      "cell_type": "code",
      "execution_count": 30,
      "metadata": {
        "id": "NGVVZnV8Oqug"
      },
      "outputs": [],
      "source": [
        "output = mymodel(my_input)"
      ]
    },
    {
      "cell_type": "code",
      "execution_count": 31,
      "metadata": {
        "id": "0zE-tQpzOqug",
        "outputId": "0614a5d0-06b9-4c35-ad72-f0a0aecc9fa0",
        "colab": {
          "base_uri": "https://localhost:8080/"
        }
      },
      "outputs": [
        {
          "output_type": "execute_result",
          "data": {
            "text/plain": [
              "tensor([-0.3433,  0.0139,  0.0470], grad_fn=<AddBackward0>)"
            ]
          },
          "metadata": {},
          "execution_count": 31
        }
      ],
      "source": [
        "output"
      ]
    },
    {
      "cell_type": "markdown",
      "metadata": {
        "id": "xKI4bj_YYDRU"
      },
      "source": [
        "### Batches\n",
        "\n",
        "If we want to use batch processing, we can also pass batches of vectors thourgh the network instead of single vectors. PyTroch layers are designed to hanle this by default, so here for example if we want to use a batch of size 32 we can just use a 32 x 8 tensor. We create one directly with ```torch.randn``` here (we will learn more about batches in the chapter on training):"
      ]
    },
    {
      "cell_type": "code",
      "execution_count": 32,
      "metadata": {
        "colab": {
          "base_uri": "https://localhost:8080/"
        },
        "id": "b2FsgyCfYDRV",
        "outputId": "5458c8b3-b51c-4e72-8ed5-d5e3ab689294"
      },
      "outputs": [
        {
          "output_type": "execute_result",
          "data": {
            "text/plain": [
              "torch.Size([32, 9])"
            ]
          },
          "metadata": {},
          "execution_count": 32
        }
      ],
      "source": [
        "batch_tensor = torch.randn(32,9)\n",
        "batch_tensor.shape"
      ]
    },
    {
      "cell_type": "code",
      "execution_count": 33,
      "metadata": {
        "id": "bYAmmXLwYDRV"
      },
      "outputs": [],
      "source": [
        "batch_output = mymodel(batch_tensor)"
      ]
    },
    {
      "cell_type": "code",
      "execution_count": 34,
      "metadata": {
        "colab": {
          "base_uri": "https://localhost:8080/"
        },
        "id": "UP48jBj2YDRV",
        "outputId": "e4ef09dc-4cfe-401f-85d8-851c6a89307b"
      },
      "outputs": [
        {
          "output_type": "execute_result",
          "data": {
            "text/plain": [
              "torch.Size([32, 3])"
            ]
          },
          "metadata": {},
          "execution_count": 34
        }
      ],
      "source": [
        "batch_output.shape"
      ]
    },
    {
      "cell_type": "markdown",
      "metadata": {
        "id": "VuIOlAVSOquj"
      },
      "source": [
        "We see that the output is \"batched\" as well, so the network gracefully handlend this batch for us."
      ]
    },
    {
      "cell_type": "markdown",
      "metadata": {
        "id": "Dm35UQ76YDRV"
      },
      "source": [
        "### Passing an image as input\n",
        "\n",
        "For the tests above, we simply used vectors. However our goal is to pass images to our network. As our network is linear and fully connected, we therefore need to pass a flattened (1D) version of our image. We have seen before that we can do that using the ```view``` method or ```flatten```.\n",
        "\n",
        "To test this, we first create a test image using the ```skimage.draw``` utility scikit-image which allows us to create ```random_shapes``` images:"
      ]
    },
    {
      "cell_type": "code",
      "execution_count": 35,
      "metadata": {
        "id": "oWDgsh30YDRV"
      },
      "outputs": [],
      "source": [
        "from skimage.draw import random_shapes\n",
        "import matplotlib.pyplot as plt"
      ]
    },
    {
      "cell_type": "markdown",
      "metadata": {
        "id": "VmcVSCTIOquj"
      },
      "source": [
        "We create a 32x32 image of a circle. We have multiple options for the number of shapes, their size etc. to select from. We also invert the image (to have the *object* as foreground):"
      ]
    },
    {
      "cell_type": "code",
      "execution_count": 37,
      "metadata": {
        "id": "fJrw_f5SYDRV"
      },
      "outputs": [],
      "source": [
        "image_circle, _ = random_shapes((32,32),max_shapes=1, min_shapes=1, shape='circle',\n",
        "                                num_channels=1, channel_axis=None, min_size=8, random_seed=2)\n",
        "image_circle = 255-image_circle\n",
        "\n",
        "image_tensor = torch.tensor(image_circle,dtype=torch.float32)"
      ]
    },
    {
      "cell_type": "code",
      "execution_count": 38,
      "metadata": {
        "id": "qc6XlPBdOquk",
        "outputId": "0fce6a8f-f9e2-4105-c409-81bb0bf61741",
        "colab": {
          "base_uri": "https://localhost:8080/"
        }
      },
      "outputs": [
        {
          "output_type": "execute_result",
          "data": {
            "text/plain": [
              "torch.Size([32, 32])"
            ]
          },
          "metadata": {},
          "execution_count": 38
        }
      ],
      "source": [
        "image_tensor.shape"
      ]
    },
    {
      "cell_type": "code",
      "execution_count": 39,
      "metadata": {
        "colab": {
          "base_uri": "https://localhost:8080/",
          "height": 266
        },
        "id": "4EFYRWMBYDRW",
        "outputId": "0305f8d5-3501-4e41-fd73-67c9f640f954"
      },
      "outputs": [
        {
          "output_type": "display_data",
          "data": {
            "image/png": "[encoded data removed]",
            "text/plain": [
              "<Figure size 432x288 with 1 Axes>"
            ]
          },
          "metadata": {
            "needs_background": "light"
          }
        }
      ],
      "source": [
        "plt.imshow(image_tensor, cmap='gray');"
      ]
    },
    {
      "cell_type": "markdown",
      "metadata": {
        "id": "WJM4i32xOqul"
      },
      "source": [
        "Now we flatten the image:"
      ]
    },
    {
      "cell_type": "code",
      "execution_count": 40,
      "metadata": {
        "colab": {
          "base_uri": "https://localhost:8080/"
        },
        "id": "tK7em6_XYDRW",
        "outputId": "253d5205-7c6c-42a7-c6ba-2835d0051f93"
      },
      "outputs": [
        {
          "output_type": "execute_result",
          "data": {
            "text/plain": [
              "torch.Size([1024])"
            ]
          },
          "metadata": {},
          "execution_count": 40
        }
      ],
      "source": [
        "image_flat = image_tensor.view(-1)\n",
        "image_flat.shape"
      ]
    },
    {
      "cell_type": "markdown",
      "metadata": {
        "id": "ugGq_DqGYDRW"
      },
      "source": [
        "We adjust our network input size:"
      ]
    },
    {
      "cell_type": "code",
      "execution_count": 41,
      "metadata": {
        "id": "YKDedfAmYDRW"
      },
      "outputs": [],
      "source": [
        "mymodel = Mynetwork(1024,20)"
      ]
    },
    {
      "cell_type": "code",
      "execution_count": 42,
      "metadata": {
        "id": "2nHvFUbUYDRW"
      },
      "outputs": [],
      "source": [
        "output = mymodel(image_flat)"
      ]
    },
    {
      "cell_type": "code",
      "execution_count": 43,
      "metadata": {
        "colab": {
          "base_uri": "https://localhost:8080/"
        },
        "id": "B4I8aSoSYDRX",
        "outputId": "cc9327b3-0084-4ca7-a555-b96e9e710084"
      },
      "outputs": [
        {
          "output_type": "execute_result",
          "data": {
            "text/plain": [
              "tensor([ 0.3483,  2.5287, -0.9607, -0.6729,  0.8906,  0.7305,  2.4549, -1.1527,\n",
              "         1.9908, -1.9030, -1.1623, -0.4935,  1.7990,  1.3409, -0.3435, -1.2225,\n",
              "        -1.7168,  2.4262,  0.0932, -1.4792], grad_fn=<AddBackward0>)"
            ]
          },
          "metadata": {},
          "execution_count": 43
        }
      ],
      "source": [
        "output"
      ]
    },
    {
      "cell_type": "markdown",
      "metadata": {
        "id": "TjTKDBKJYDRX"
      },
      "source": [
        "The operation of \"flattening\" can be done at different places. For example, instead of flattening the input, we can also flatten within our network definition:"
      ]
    },
    {
      "cell_type": "code",
      "execution_count": 44,
      "metadata": {
        "id": "Xg_6FfmmYDRX"
      },
      "outputs": [],
      "source": [
        "class Mynetwork2(nn.Module):\n",
        "    def __init__(self, myparameter1, myparameter2):\n",
        "        super(Mynetwork2, self).__init__()\n",
        "        \n",
        "        # define e.g. layers here e.g.\n",
        "        self.layer1 = nn.Linear(myparameter1, myparameter2)\n",
        "\n",
        "    def forward(self, x):\n",
        "        \n",
        "        x = x.view(-1)\n",
        "        # define the sequence of operations in the network including e.g. activations\n",
        "        x = F.relu(self.layer1(x))\n",
        "        \n",
        "        return x"
      ]
    },
    {
      "cell_type": "code",
      "execution_count": 45,
      "metadata": {
        "id": "FVwBTjLfYDRX"
      },
      "outputs": [],
      "source": [
        "second_model = Mynetwork2(1024, 20)"
      ]
    },
    {
      "cell_type": "code",
      "execution_count": 46,
      "metadata": {
        "colab": {
          "base_uri": "https://localhost:8080/"
        },
        "id": "1de0QvgnYDRY",
        "outputId": "5d3122c7-5c38-4555-a4cc-31fb6a502146"
      },
      "outputs": [
        {
          "output_type": "execute_result",
          "data": {
            "text/plain": [
              "tensor([ 0.0000,  0.0000,  0.0000,  0.0000,  4.2747, 12.7591,  0.0000,  0.0000,\n",
              "         3.2894,  3.1473,  0.0000,  0.0000,  0.0000,  0.0000,  0.0000,  0.0000,\n",
              "        14.3413,  7.2331,  0.0000,  0.0000], grad_fn=<ReluBackward0>)"
            ]
          },
          "metadata": {},
          "execution_count": 46
        }
      ],
      "source": [
        "output = second_model(image_tensor)\n",
        "output"
      ]
    },
    {
      "cell_type": "code",
      "execution_count": 47,
      "metadata": {
        "colab": {
          "base_uri": "https://localhost:8080/"
        },
        "id": "LB7DUByhYDRY",
        "outputId": "f075bcb8-701f-4955-9b47-ab128224ad95"
      },
      "outputs": [
        {
          "output_type": "execute_result",
          "data": {
            "text/plain": [
              "torch.Size([20])"
            ]
          },
          "metadata": {},
          "execution_count": 47
        }
      ],
      "source": [
        "output.shape"
      ]
    },
    {
      "cell_type": "markdown",
      "metadata": {
        "id": "87EQqckMYDRY"
      },
      "source": [
        "## Saving and loading a model\n",
        "\n",
        "Our next goal will be to train our network (see next chapter). At some point during or after training we will want to save both our model and its weights. This can be done in two ways.\n",
        "\n",
        "### Save full model\n",
        "\n",
        "First, we can save the entire model so that it can be simply reloaded. This is practical when developing but can lead to problems when moving saved models between computers. First we save our model (create a ````models```` folder in your directory if needed):"
      ]
    },
    {
      "cell_type": "code",
      "execution_count": 50,
      "metadata": {
        "id": "OYkt0Fw0YDRY"
      },
      "outputs": [],
      "source": [
        "torch.save(second_model, datapath.joinpath('models/simpleNN.pt'))"
      ]
    },
    {
      "cell_type": "markdown",
      "metadata": {
        "id": "oVR_snhCYDRZ"
      },
      "source": [
        "And reload it:"
      ]
    },
    {
      "cell_type": "code",
      "execution_count": 51,
      "metadata": {
        "id": "e4sjsS7KYDRZ"
      },
      "outputs": [],
      "source": [
        "third_model = torch.load(datapath.joinpath('models/simpleNN.pt'))"
      ]
    },
    {
      "cell_type": "code",
      "execution_count": 52,
      "metadata": {
        "id": "B5BcgpK9YDRZ",
        "outputId": "10bf12ae-5dd9-43c8-e0d4-a95c9ee21b68",
        "colab": {
          "base_uri": "https://localhost:8080/"
        }
      },
      "outputs": [
        {
          "output_type": "execute_result",
          "data": {
            "text/plain": [
              "tensor([ 0.0000,  0.0000,  0.0000,  0.0000,  4.2747, 12.7591,  0.0000,  0.0000,\n",
              "         3.2894,  3.1473,  0.0000,  0.0000,  0.0000,  0.0000,  0.0000,  0.0000,\n",
              "        14.3413,  7.2331,  0.0000,  0.0000], grad_fn=<ReluBackward0>)"
            ]
          },
          "metadata": {},
          "execution_count": 52
        }
      ],
      "source": [
        "third_model(image_tensor)"
      ]
    },
    {
      "cell_type": "markdown",
      "metadata": {
        "id": "hlCrSWAFYDRZ"
      },
      "source": [
        "And we see that we obtain the same values as above, meaning that the parameters were indeed saved.\n",
        "\n",
        "### Saving the model state\n",
        "\n",
        "Alternatively we can simply save all the parameters, which is a safer method. We simply recover them using ```state_dict```:"
      ]
    },
    {
      "cell_type": "code",
      "execution_count": 53,
      "metadata": {
        "id": "OoBQM5drYDRZ"
      },
      "outputs": [],
      "source": [
        "torch.save(third_model.state_dict(),datapath.joinpath('models/simpleNN_state.pt'))"
      ]
    },
    {
      "cell_type": "markdown",
      "metadata": {
        "id": "WORns8K-YDRZ"
      },
      "source": [
        "To reload the parameters we of course now have to first instantiate the model and \"fill\" it with those values using ```load_state_dict```:"
      ]
    },
    {
      "cell_type": "code",
      "execution_count": 54,
      "metadata": {
        "id": "wGZ_UAqhYDRZ"
      },
      "outputs": [],
      "source": [
        "fourth_model = Mynetwork2(1024, 20)"
      ]
    },
    {
      "cell_type": "code",
      "execution_count": 55,
      "metadata": {
        "id": "WxQoeTofYDRa",
        "outputId": "0738c446-3054-4660-878e-9d83f4a25e24",
        "colab": {
          "base_uri": "https://localhost:8080/"
        }
      },
      "outputs": [
        {
          "output_type": "execute_result",
          "data": {
            "text/plain": [
              "OrderedDict([('layer1.weight',\n",
              "              tensor([[-6.5818e-03, -1.3050e-05, -2.1981e-02,  ...,  2.0436e-02,\n",
              "                       -1.8892e-03, -2.1725e-02],\n",
              "                      [ 2.0734e-02, -1.9473e-02, -2.8260e-02,  ...,  2.5199e-02,\n",
              "                       -2.9951e-02,  8.9792e-03],\n",
              "                      [-1.3109e-03,  1.3450e-02,  1.9928e-02,  ..., -5.7713e-03,\n",
              "                        1.0590e-02, -1.9134e-02],\n",
              "                      ...,\n",
              "                      [ 1.6805e-02,  2.3167e-02,  3.1948e-03,  ..., -1.5454e-02,\n",
              "                        1.3553e-02, -1.7430e-02],\n",
              "                      [-2.3587e-02, -1.8857e-02,  9.4816e-03,  ...,  2.1235e-02,\n",
              "                       -2.0854e-02, -2.8723e-02],\n",
              "                      [ 2.1510e-03, -4.4486e-03, -1.7398e-02,  ..., -1.2099e-02,\n",
              "                        1.0446e-02,  2.7855e-03]])),\n",
              "             ('layer1.bias',\n",
              "              tensor([ 0.0084,  0.0012,  0.0020,  0.0185,  0.0250, -0.0038,  0.0236, -0.0299,\n",
              "                       0.0036,  0.0277, -0.0210, -0.0126, -0.0142, -0.0256, -0.0099,  0.0236,\n",
              "                       0.0120, -0.0239,  0.0216, -0.0094]))])"
            ]
          },
          "metadata": {},
          "execution_count": 55
        }
      ],
      "source": [
        "params = torch.load(datapath.joinpath('models/simpleNN_state.pt'))\n",
        "params"
      ]
    },
    {
      "cell_type": "code",
      "execution_count": 56,
      "metadata": {
        "id": "OEBX9c-nYDRa",
        "outputId": "3d02cff2-bde0-4b77-c11a-d0ef24155f74",
        "colab": {
          "base_uri": "https://localhost:8080/"
        }
      },
      "outputs": [
        {
          "output_type": "execute_result",
          "data": {
            "text/plain": [
              "<All keys matched successfully>"
            ]
          },
          "metadata": {},
          "execution_count": 56
        }
      ],
      "source": [
        "fourth_model.load_state_dict(params)"
      ]
    },
    {
      "cell_type": "code",
      "execution_count": 57,
      "metadata": {
        "id": "z9oYFeQhYDRa",
        "outputId": "c1b147dd-558d-4666-d27a-752c46fff353",
        "colab": {
          "base_uri": "https://localhost:8080/"
        }
      },
      "outputs": [
        {
          "output_type": "execute_result",
          "data": {
            "text/plain": [
              "tensor([ 0.0000,  0.0000,  0.0000,  0.0000,  4.2747, 12.7591,  0.0000,  0.0000,\n",
              "         3.2894,  3.1473,  0.0000,  0.0000,  0.0000,  0.0000,  0.0000,  0.0000,\n",
              "        14.3413,  7.2331,  0.0000,  0.0000], grad_fn=<ReluBackward0>)"
            ]
          },
          "metadata": {},
          "execution_count": 57
        }
      ],
      "source": [
        "fourth_model(image_tensor)"
      ]
    },
    {
      "cell_type": "markdown",
      "metadata": {
        "id": "4x3iMsO-YDRa"
      },
      "source": [
        "## Running on a GPU (run on Colab)\n",
        "\n",
        "If you want to exploit the computational power of a GPU you have to take care of moving **both** the model and the data to it. First, find out if you have a GPU. You can test this for example by running this notebook on Colab:"
      ]
    },
    {
      "cell_type": "code",
      "execution_count": 58,
      "metadata": {
        "colab": {
          "base_uri": "https://localhost:8080/"
        },
        "id": "GmDZf0pBYDRa",
        "outputId": "9a7c301a-9dd7-4aa4-fb4e-b8d349b10e5b"
      },
      "outputs": [
        {
          "output_type": "execute_result",
          "data": {
            "text/plain": [
              "True"
            ]
          },
          "metadata": {},
          "execution_count": 58
        }
      ],
      "source": [
        "torch.cuda.is_available()"
      ]
    },
    {
      "cell_type": "markdown",
      "metadata": {
        "id": "rxxUBfwOYDRb"
      },
      "source": [
        "If you have a GPU, you can define it as a device. If not you can fall back on CPU:"
      ]
    },
    {
      "cell_type": "code",
      "execution_count": 59,
      "metadata": {
        "id": "A-L5ErcoYDRb"
      },
      "outputs": [],
      "source": [
        "if torch.cuda.is_available():\n",
        "    dev = torch.device(\"cuda\")\n",
        "else:\n",
        "    dev = torch.device(\"cpu\")"
      ]
    },
    {
      "cell_type": "markdown",
      "metadata": {
        "id": "s_arWP1_YDRb"
      },
      "source": [
        "Now finally if you want to use it with a model you need to move the model to it. Let's check where it currently sits:"
      ]
    },
    {
      "cell_type": "code",
      "execution_count": 60,
      "metadata": {
        "colab": {
          "base_uri": "https://localhost:8080/"
        },
        "id": "V0wwfn2lY2am",
        "outputId": "f28d0b50-b1f0-4e25-a745-55039fd14105"
      },
      "outputs": [
        {
          "output_type": "execute_result",
          "data": {
            "text/plain": [
              "Mynetwork2(\n",
              "  (layer1): Linear(in_features=1024, out_features=20, bias=True)\n",
              ")"
            ]
          },
          "metadata": {},
          "execution_count": 60
        }
      ],
      "source": [
        "second_model.to(dev)"
      ]
    },
    {
      "cell_type": "code",
      "execution_count": 61,
      "metadata": {
        "colab": {
          "base_uri": "https://localhost:8080/"
        },
        "id": "vA7pOTxXawjR",
        "outputId": "b8e2e6f9-5b4e-4071-b8ae-451535e62c68"
      },
      "outputs": [
        {
          "output_type": "execute_result",
          "data": {
            "text/plain": [
              "[Parameter containing:\n",
              " tensor([[-6.5818e-03, -1.3050e-05, -2.1981e-02,  ...,  2.0436e-02,\n",
              "          -1.8892e-03, -2.1725e-02],\n",
              "         [ 2.0734e-02, -1.9473e-02, -2.8260e-02,  ...,  2.5199e-02,\n",
              "          -2.9951e-02,  8.9792e-03],\n",
              "         [-1.3109e-03,  1.3450e-02,  1.9928e-02,  ..., -5.7713e-03,\n",
              "           1.0590e-02, -1.9134e-02],\n",
              "         ...,\n",
              "         [ 1.6805e-02,  2.3167e-02,  3.1948e-03,  ..., -1.5454e-02,\n",
              "           1.3553e-02, -1.7430e-02],\n",
              "         [-2.3587e-02, -1.8857e-02,  9.4816e-03,  ...,  2.1235e-02,\n",
              "          -2.0854e-02, -2.8723e-02],\n",
              "         [ 2.1510e-03, -4.4486e-03, -1.7398e-02,  ..., -1.2099e-02,\n",
              "           1.0446e-02,  2.7855e-03]], device='cuda:0', requires_grad=True),\n",
              " Parameter containing:\n",
              " tensor([ 0.0084,  0.0012,  0.0020,  0.0185,  0.0250, -0.0038,  0.0236, -0.0299,\n",
              "          0.0036,  0.0277, -0.0210, -0.0126, -0.0142, -0.0256, -0.0099,  0.0236,\n",
              "          0.0120, -0.0239,  0.0216, -0.0094], device='cuda:0',\n",
              "        requires_grad=True)]"
            ]
          },
          "metadata": {},
          "execution_count": 61
        }
      ],
      "source": [
        "list(second_model.parameters())"
      ]
    },
    {
      "cell_type": "markdown",
      "metadata": {
        "id": "N-_sgXVsbPOU"
      },
      "source": [
        "Now if we try to pass our current image through the network we get an error:"
      ]
    },
    {
      "cell_type": "code",
      "execution_count": 62,
      "metadata": {
        "colab": {
          "base_uri": "https://localhost:8080/",
          "height": 324
        },
        "id": "FAqQgKribVaX",
        "outputId": "107961eb-c1a1-49a6-c6f7-a999ec035318"
      },
      "outputs": [
        {
          "output_type": "error",
          "ename": "RuntimeError",
          "evalue": "ignored",
          "traceback": [
            "\u001b[0;31m---------------------------------------------------------------------------\u001b[0m",
            "\u001b[0;31mRuntimeError\u001b[0m                              Traceback (most recent call last)",
            "\u001b[0;32m<ipython-input-62-3dd5587f259c>\u001b[0m in \u001b[0;36m<module>\u001b[0;34m()\u001b[0m\n\u001b[0;32m----> 1\u001b[0;31m \u001b[0msecond_model\u001b[0m\u001b[0;34m(\u001b[0m\u001b[0mimage_tensor\u001b[0m\u001b[0;34m)\u001b[0m\u001b[0;34m\u001b[0m\u001b[0;34m\u001b[0m\u001b[0m\n\u001b[0m",
            "\u001b[0;32m/usr/local/lib/python3.7/dist-packages/torch/nn/modules/module.py\u001b[0m in \u001b[0;36m_call_impl\u001b[0;34m(self, *input, **kwargs)\u001b[0m\n\u001b[1;32m   1100\u001b[0m         if not (self._backward_hooks or self._forward_hooks or self._forward_pre_hooks or _global_backward_hooks\n\u001b[1;32m   1101\u001b[0m                 or _global_forward_hooks or _global_forward_pre_hooks):\n\u001b[0;32m-> 1102\u001b[0;31m             \u001b[0;32mreturn\u001b[0m \u001b[0mforward_call\u001b[0m\u001b[0;34m(\u001b[0m\u001b[0;34m*\u001b[0m\u001b[0minput\u001b[0m\u001b[0;34m,\u001b[0m \u001b[0;34m**\u001b[0m\u001b[0mkwargs\u001b[0m\u001b[0;34m)\u001b[0m\u001b[0;34m\u001b[0m\u001b[0;34m\u001b[0m\u001b[0m\n\u001b[0m\u001b[1;32m   1103\u001b[0m         \u001b[0;31m# Do not call functions when jit is used\u001b[0m\u001b[0;34m\u001b[0m\u001b[0;34m\u001b[0m\u001b[0;34m\u001b[0m\u001b[0m\n\u001b[1;32m   1104\u001b[0m         \u001b[0mfull_backward_hooks\u001b[0m\u001b[0;34m,\u001b[0m \u001b[0mnon_full_backward_hooks\u001b[0m \u001b[0;34m=\u001b[0m \u001b[0;34m[\u001b[0m\u001b[0;34m]\u001b[0m\u001b[0;34m,\u001b[0m \u001b[0;34m[\u001b[0m\u001b[0;34m]\u001b[0m\u001b[0;34m\u001b[0m\u001b[0;34m\u001b[0m\u001b[0m\n",
            "\u001b[0;32m<ipython-input-44-4a29866e6538>\u001b[0m in \u001b[0;36mforward\u001b[0;34m(self, x)\u001b[0m\n\u001b[1;32m     10\u001b[0m         \u001b[0mx\u001b[0m \u001b[0;34m=\u001b[0m \u001b[0mx\u001b[0m\u001b[0;34m.\u001b[0m\u001b[0mview\u001b[0m\u001b[0;34m(\u001b[0m\u001b[0;34m-\u001b[0m\u001b[0;36m1\u001b[0m\u001b[0;34m)\u001b[0m\u001b[0;34m\u001b[0m\u001b[0;34m\u001b[0m\u001b[0m\n\u001b[1;32m     11\u001b[0m         \u001b[0;31m# define the sequence of operations in the network including e.g. activations\u001b[0m\u001b[0;34m\u001b[0m\u001b[0;34m\u001b[0m\u001b[0;34m\u001b[0m\u001b[0m\n\u001b[0;32m---> 12\u001b[0;31m         \u001b[0mx\u001b[0m \u001b[0;34m=\u001b[0m \u001b[0mF\u001b[0m\u001b[0;34m.\u001b[0m\u001b[0mrelu\u001b[0m\u001b[0;34m(\u001b[0m\u001b[0mself\u001b[0m\u001b[0;34m.\u001b[0m\u001b[0mlayer1\u001b[0m\u001b[0;34m(\u001b[0m\u001b[0mx\u001b[0m\u001b[0;34m)\u001b[0m\u001b[0;34m)\u001b[0m\u001b[0;34m\u001b[0m\u001b[0;34m\u001b[0m\u001b[0m\n\u001b[0m\u001b[1;32m     13\u001b[0m \u001b[0;34m\u001b[0m\u001b[0m\n\u001b[1;32m     14\u001b[0m         \u001b[0;32mreturn\u001b[0m \u001b[0mx\u001b[0m\u001b[0;34m\u001b[0m\u001b[0;34m\u001b[0m\u001b[0m\n",
            "\u001b[0;32m/usr/local/lib/python3.7/dist-packages/torch/nn/modules/module.py\u001b[0m in \u001b[0;36m_call_impl\u001b[0;34m(self, *input, **kwargs)\u001b[0m\n\u001b[1;32m   1100\u001b[0m         if not (self._backward_hooks or self._forward_hooks or self._forward_pre_hooks or _global_backward_hooks\n\u001b[1;32m   1101\u001b[0m                 or _global_forward_hooks or _global_forward_pre_hooks):\n\u001b[0;32m-> 1102\u001b[0;31m             \u001b[0;32mreturn\u001b[0m \u001b[0mforward_call\u001b[0m\u001b[0;34m(\u001b[0m\u001b[0;34m*\u001b[0m\u001b[0minput\u001b[0m\u001b[0;34m,\u001b[0m \u001b[0;34m**\u001b[0m\u001b[0mkwargs\u001b[0m\u001b[0;34m)\u001b[0m\u001b[0;34m\u001b[0m\u001b[0;34m\u001b[0m\u001b[0m\n\u001b[0m\u001b[1;32m   1103\u001b[0m         \u001b[0;31m# Do not call functions when jit is used\u001b[0m\u001b[0;34m\u001b[0m\u001b[0;34m\u001b[0m\u001b[0;34m\u001b[0m\u001b[0m\n\u001b[1;32m   1104\u001b[0m         \u001b[0mfull_backward_hooks\u001b[0m\u001b[0;34m,\u001b[0m \u001b[0mnon_full_backward_hooks\u001b[0m \u001b[0;34m=\u001b[0m \u001b[0;34m[\u001b[0m\u001b[0;34m]\u001b[0m\u001b[0;34m,\u001b[0m \u001b[0;34m[\u001b[0m\u001b[0;34m]\u001b[0m\u001b[0;34m\u001b[0m\u001b[0;34m\u001b[0m\u001b[0m\n",
            "\u001b[0;32m/usr/local/lib/python3.7/dist-packages/torch/nn/modules/linear.py\u001b[0m in \u001b[0;36mforward\u001b[0;34m(self, input)\u001b[0m\n\u001b[1;32m    101\u001b[0m \u001b[0;34m\u001b[0m\u001b[0m\n\u001b[1;32m    102\u001b[0m     \u001b[0;32mdef\u001b[0m \u001b[0mforward\u001b[0m\u001b[0;34m(\u001b[0m\u001b[0mself\u001b[0m\u001b[0;34m,\u001b[0m \u001b[0minput\u001b[0m\u001b[0;34m:\u001b[0m \u001b[0mTensor\u001b[0m\u001b[0;34m)\u001b[0m \u001b[0;34m->\u001b[0m \u001b[0mTensor\u001b[0m\u001b[0;34m:\u001b[0m\u001b[0;34m\u001b[0m\u001b[0;34m\u001b[0m\u001b[0m\n\u001b[0;32m--> 103\u001b[0;31m         \u001b[0;32mreturn\u001b[0m \u001b[0mF\u001b[0m\u001b[0;34m.\u001b[0m\u001b[0mlinear\u001b[0m\u001b[0;34m(\u001b[0m\u001b[0minput\u001b[0m\u001b[0;34m,\u001b[0m \u001b[0mself\u001b[0m\u001b[0;34m.\u001b[0m\u001b[0mweight\u001b[0m\u001b[0;34m,\u001b[0m \u001b[0mself\u001b[0m\u001b[0;34m.\u001b[0m\u001b[0mbias\u001b[0m\u001b[0;34m)\u001b[0m\u001b[0;34m\u001b[0m\u001b[0;34m\u001b[0m\u001b[0m\n\u001b[0m\u001b[1;32m    104\u001b[0m \u001b[0;34m\u001b[0m\u001b[0m\n\u001b[1;32m    105\u001b[0m     \u001b[0;32mdef\u001b[0m \u001b[0mextra_repr\u001b[0m\u001b[0;34m(\u001b[0m\u001b[0mself\u001b[0m\u001b[0;34m)\u001b[0m \u001b[0;34m->\u001b[0m \u001b[0mstr\u001b[0m\u001b[0;34m:\u001b[0m\u001b[0;34m\u001b[0m\u001b[0;34m\u001b[0m\u001b[0m\n",
            "\u001b[0;32m/usr/local/lib/python3.7/dist-packages/torch/nn/functional.py\u001b[0m in \u001b[0;36mlinear\u001b[0;34m(input, weight, bias)\u001b[0m\n\u001b[1;32m   1846\u001b[0m     \u001b[0;32mif\u001b[0m \u001b[0mhas_torch_function_variadic\u001b[0m\u001b[0;34m(\u001b[0m\u001b[0minput\u001b[0m\u001b[0;34m,\u001b[0m \u001b[0mweight\u001b[0m\u001b[0;34m,\u001b[0m \u001b[0mbias\u001b[0m\u001b[0;34m)\u001b[0m\u001b[0;34m:\u001b[0m\u001b[0;34m\u001b[0m\u001b[0;34m\u001b[0m\u001b[0m\n\u001b[1;32m   1847\u001b[0m         \u001b[0;32mreturn\u001b[0m \u001b[0mhandle_torch_function\u001b[0m\u001b[0;34m(\u001b[0m\u001b[0mlinear\u001b[0m\u001b[0;34m,\u001b[0m \u001b[0;34m(\u001b[0m\u001b[0minput\u001b[0m\u001b[0;34m,\u001b[0m \u001b[0mweight\u001b[0m\u001b[0;34m,\u001b[0m \u001b[0mbias\u001b[0m\u001b[0;34m)\u001b[0m\u001b[0;34m,\u001b[0m \u001b[0minput\u001b[0m\u001b[0;34m,\u001b[0m \u001b[0mweight\u001b[0m\u001b[0;34m,\u001b[0m \u001b[0mbias\u001b[0m\u001b[0;34m=\u001b[0m\u001b[0mbias\u001b[0m\u001b[0;34m)\u001b[0m\u001b[0;34m\u001b[0m\u001b[0;34m\u001b[0m\u001b[0m\n\u001b[0;32m-> 1848\u001b[0;31m     \u001b[0;32mreturn\u001b[0m \u001b[0mtorch\u001b[0m\u001b[0;34m.\u001b[0m\u001b[0m_C\u001b[0m\u001b[0;34m.\u001b[0m\u001b[0m_nn\u001b[0m\u001b[0;34m.\u001b[0m\u001b[0mlinear\u001b[0m\u001b[0;34m(\u001b[0m\u001b[0minput\u001b[0m\u001b[0;34m,\u001b[0m \u001b[0mweight\u001b[0m\u001b[0;34m,\u001b[0m \u001b[0mbias\u001b[0m\u001b[0;34m)\u001b[0m\u001b[0;34m\u001b[0m\u001b[0;34m\u001b[0m\u001b[0m\n\u001b[0m\u001b[1;32m   1849\u001b[0m \u001b[0;34m\u001b[0m\u001b[0m\n\u001b[1;32m   1850\u001b[0m \u001b[0;34m\u001b[0m\u001b[0m\n",
            "\u001b[0;31mRuntimeError\u001b[0m: Expected all tensors to be on the same device, but found at least two devices, cpu and cuda:0! (when checking argument for argument mat2 in method wrapper_mm)"
          ]
        }
      ],
      "source": [
        "second_model(image_tensor)"
      ]
    },
    {
      "cell_type": "markdown",
      "metadata": {
        "id": "fM379mcZYDRc"
      },
      "source": [
        "The error message is quite explicit: you then need also to move the data, both for training and inference to the GPU:"
      ]
    },
    {
      "cell_type": "code",
      "execution_count": 63,
      "metadata": {
        "colab": {
          "base_uri": "https://localhost:8080/"
        },
        "id": "prB7rQBoYDRc",
        "outputId": "1e3c9bf7-54f3-4378-8551-b3bbb982bba9"
      },
      "outputs": [
        {
          "output_type": "execute_result",
          "data": {
            "text/plain": [
              "tensor([[0., 0., 0.,  ..., 0., 0., 0.],\n",
              "        [0., 0., 0.,  ..., 0., 0., 0.],\n",
              "        [0., 0., 0.,  ..., 0., 0., 0.],\n",
              "        ...,\n",
              "        [0., 0., 0.,  ..., 0., 0., 0.],\n",
              "        [0., 0., 0.,  ..., 0., 0., 0.],\n",
              "        [0., 0., 0.,  ..., 0., 0., 0.]], device='cuda:0')"
            ]
          },
          "metadata": {},
          "execution_count": 63
        }
      ],
      "source": [
        "image_tensor.to(dev)"
      ]
    },
    {
      "cell_type": "code",
      "execution_count": 64,
      "metadata": {
        "id": "sGgYqbWpYDRc"
      },
      "outputs": [],
      "source": [
        "image_tensor = image_tensor.to(dev)"
      ]
    },
    {
      "cell_type": "code",
      "execution_count": 65,
      "metadata": {
        "id": "_50Ib-_xYDRc"
      },
      "outputs": [],
      "source": [
        "output = second_model(image_tensor)"
      ]
    },
    {
      "cell_type": "code",
      "execution_count": 66,
      "metadata": {
        "colab": {
          "base_uri": "https://localhost:8080/"
        },
        "id": "dDX-VKv9bqrj",
        "outputId": "4324a258-07a2-4eaf-9830-626b43738410"
      },
      "outputs": [
        {
          "output_type": "execute_result",
          "data": {
            "text/plain": [
              "tensor([ 0.0000,  0.0000,  0.0000,  0.0000,  4.2747, 12.7591,  0.0000,  0.0000,\n",
              "         3.2894,  3.1473,  0.0000,  0.0000,  0.0000,  0.0000,  0.0000,  0.0000,\n",
              "        14.3413,  7.2331,  0.0000,  0.0000], device='cuda:0',\n",
              "       grad_fn=<ReluBackward0>)"
            ]
          },
          "metadata": {},
          "execution_count": 66
        }
      ],
      "source": [
        "output"
      ]
    },
    {
      "cell_type": "markdown",
      "metadata": {
        "id": "Oor9GgLbcKXX"
      },
      "source": [
        "The output sits on the GPU and is part of the gradient calcualtion, so if you want to further use it, you will have to pull it from the GPU **and** detach it from gradient calculation:"
      ]
    },
    {
      "cell_type": "code",
      "execution_count": 67,
      "metadata": {
        "id": "pY-wZED3cNBd",
        "outputId": "68e430e0-b16f-4b1f-f2ff-0358eef59503",
        "colab": {
          "base_uri": "https://localhost:8080/"
        }
      },
      "outputs": [
        {
          "output_type": "execute_result",
          "data": {
            "text/plain": [
              "array([ 0.       ,  0.       ,  0.       ,  0.       ,  4.2747416,\n",
              "       12.759116 ,  0.       ,  0.       ,  3.2893572,  3.1472843,\n",
              "        0.       ,  0.       ,  0.       ,  0.       ,  0.       ,\n",
              "        0.       , 14.341337 ,  7.2330832,  0.       ,  0.       ],\n",
              "      dtype=float32)"
            ]
          },
          "metadata": {},
          "execution_count": 67
        }
      ],
      "source": [
        "output.detach().cpu().numpy()"
      ]
    },
    {
      "cell_type": "markdown",
      "metadata": {
        "id": "fgj-fk6pOqux"
      },
      "source": [
        "## Exercises\n",
        "\n",
        "1. Create a network with 4 successive linear layers of size 20,40 and 100 and 2, and ReLU activation after the three first layers. It takes a 2D input.\n",
        "2. With ```skimage.io``` import the image in ```.../data/woody_baille.JPG```\n",
        "3. Instantiate your model with the appropriate size\n",
        "4. Run the image through the network and turn the output into a numpy array\n"
      ]
    },
    {
      "cell_type": "code",
      "execution_count": null,
      "metadata": {
        "id": "ioXlvZY3Oqux"
      },
      "outputs": [],
      "source": [
        ""
      ]
    }
  ],
  "metadata": {
    "accelerator": "GPU",
    "colab": {
      "collapsed_sections": [
        "hlCrSWAFYDRZ"
      ],
      "name": "Simple_NN.ipynb",
      "provenance": []
    },
    "kernelspec": {
      "display_name": "Python 3",
      "language": "python",
      "name": "python3"
    },
    "language_info": {
      "codemirror_mode": {
        "name": "ipython",
        "version": 3
      },
      "file_extension": ".py",
      "mimetype": "text/x-python",
      "name": "python",
      "nbconvert_exporter": "python",
      "pygments_lexer": "ipython3",
      "version": "3.9.10"
    },
    "toc": {
      "base_numbering": 1,
      "nav_menu": {},
      "number_sections": false,
      "sideBar": true,
      "skip_h1_title": false,
      "title_cell": "Table of Contents",
      "title_sidebar": "Contents",
      "toc_cell": false,
      "toc_position": {},
      "toc_section_display": true,
      "toc_window_display": true
    },
    "varInspector": {
      "cols": {
        "lenName": 16,
        "lenType": 16,
        "lenVar": 40
      },
      "kernels_config": {
        "python": {
          "delete_cmd_postfix": "",
          "delete_cmd_prefix": "del ",
          "library": "var_list.py",
          "varRefreshCmd": "print(var_dic_list())"
        },
        "r": {
          "delete_cmd_postfix": ") ",
          "delete_cmd_prefix": "rm(",
          "library": "var_list.r",
          "varRefreshCmd": "cat(var_dic_list()) "
        }
      },
      "types_to_exclude": [
        "module",
        "function",
        "builtin_function_or_method",
        "instance",
        "_Feature"
      ],
      "window_display": false
    }
  },
  "nbformat": 4,
  "nbformat_minor": 0
}