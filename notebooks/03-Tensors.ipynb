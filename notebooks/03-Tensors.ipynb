{
  "cells": [
    {
      "cell_type": "markdown",
      "metadata": {
        "hide_input": false,
        "id": "7HXw8BpSKROf"
      },
      "source": [
        "[![Open In Colab](https://colab.research.google.com/assets/colab-badge.svg)](https://colab.research.google.com/github/guiwitz/DLImaging/blob/master/notebooks/03-Tensors.ipynb)\n",
        "\n",
        "# 3. Tensor calculations\n",
        "\n",
        "We have seen in the previous cahtper that we need to use a specific type of array (matrix) in the frame of PyTorch based neural networks, namely tensors. These tensors are very similar to Numpy arrays but with additional specific functionalities needed for deep learning. There is an ongoing effort to make the switch between different array/tensor formats (numpy, tensors, xarray etc.) more transparent in the future, but for the moment let's briefly explore the PyTorch tensors, accessible from the ```torch``` module:"
      ]
    },
    {
      "cell_type": "code",
      "execution_count": 1,
      "metadata": {
        "id": "zp79SeA7KROg"
      },
      "outputs": [],
      "source": [
        "import torch\n",
        "import numpy as np\n",
        "import matplotlib.pyplot as plt"
      ]
    },
    {
      "cell_type": "markdown",
      "metadata": {
        "id": "wiDZW_xuKROi"
      },
      "source": [
        "## Creating arrays\n",
        "\n",
        "Numpy and Pytorch share a lot of functions and methods so you wont feel completely lost. For example you can create arrays filled with ones:"
      ]
    },
    {
      "cell_type": "code",
      "execution_count": 2,
      "metadata": {
        "colab": {
          "base_uri": "https://localhost:8080/"
        },
        "id": "x26630JvKROi",
        "outputId": "1be8f077-8909-4d37-ab2f-979b70b021c8"
      },
      "outputs": [
        {
          "output_type": "execute_result",
          "data": {
            "text/plain": [
              "tensor([[1., 1.],\n",
              "        [1., 1.],\n",
              "        [1., 1.]])"
            ]
          },
          "metadata": {},
          "execution_count": 2
        }
      ],
      "source": [
        "t_array = torch.ones((3,2))\n",
        "t_array"
      ]
    },
    {
      "cell_type": "code",
      "execution_count": 3,
      "metadata": {
        "colab": {
          "base_uri": "https://localhost:8080/"
        },
        "id": "Pg8d3hUJKROk",
        "outputId": "a3323d15-d936-4a25-9a44-b98e7902d390"
      },
      "outputs": [
        {
          "output_type": "execute_result",
          "data": {
            "text/plain": [
              "array([[1., 1.],\n",
              "       [1., 1.],\n",
              "       [1., 1.]])"
            ]
          },
          "metadata": {},
          "execution_count": 3
        }
      ],
      "source": [
        "n_array = np.ones((3,2))\n",
        "n_array"
      ]
    },
    {
      "cell_type": "markdown",
      "metadata": {
        "id": "Q-2yGcFNKROl"
      },
      "source": [
        "You can also find the type of the array with ```dtype```:"
      ]
    },
    {
      "cell_type": "code",
      "execution_count": 4,
      "metadata": {
        "colab": {
          "base_uri": "https://localhost:8080/"
        },
        "id": "T9IuhlatKROl",
        "outputId": "6307b947-3b69-4cfc-fffe-ddf2fc8b61b9"
      },
      "outputs": [
        {
          "output_type": "stream",
          "name": "stdout",
          "text": [
            "t_array dtype: torch.float32\n",
            "n_array dtype: float64\n"
          ]
        }
      ],
      "source": [
        "print(f't_array dtype: {t_array.dtype}')\n",
        "print(f'n_array dtype: {n_array.dtype}')"
      ]
    },
    {
      "cell_type": "markdown",
      "metadata": {
        "id": "UaHwMXXgKROm"
      },
      "source": [
        "Pytorch implements as well many other function to create arrays that are very similar to Numpy. For example random number arrays:"
      ]
    },
    {
      "cell_type": "code",
      "execution_count": 5,
      "metadata": {
        "id": "-7KxsrTAKROm"
      },
      "outputs": [],
      "source": [
        "t_random = torch.randint(0,255,(10,10))"
      ]
    },
    {
      "cell_type": "markdown",
      "metadata": {
        "id": "hd4G32tOKROn"
      },
      "source": [
        "Finally you can easily transform Numpy arrays into Pytorch tensors:"
      ]
    },
    {
      "cell_type": "code",
      "execution_count": 6,
      "metadata": {
        "colab": {
          "base_uri": "https://localhost:8080/"
        },
        "id": "QRXR642AKROo",
        "outputId": "740abd3d-6a51-4c2a-bd4d-6ab8bbc4a31c"
      },
      "outputs": [
        {
          "output_type": "execute_result",
          "data": {
            "text/plain": [
              "tensor([[1., 1.],\n",
              "        [1., 1.],\n",
              "        [1., 1.]], dtype=torch.float64)"
            ]
          },
          "metadata": {},
          "execution_count": 6
        }
      ],
      "source": [
        "t_from_n = torch.tensor(n_array)\n",
        "t_from_n"
      ]
    },
    {
      "cell_type": "markdown",
      "metadata": {
        "id": "6-OKYzQyKROo"
      },
      "source": [
        "And the reverse is true as well: you can recover a Numpy array from a Pytorch tensor:"
      ]
    },
    {
      "cell_type": "code",
      "execution_count": 7,
      "metadata": {
        "colab": {
          "base_uri": "https://localhost:8080/"
        },
        "id": "wTQtbsoXKROp",
        "outputId": "5f333ddd-194b-4d14-bcb3-e35f46e85c8f"
      },
      "outputs": [
        {
          "output_type": "execute_result",
          "data": {
            "text/plain": [
              "array([[1., 1.],\n",
              "       [1., 1.],\n",
              "       [1., 1.]])"
            ]
          },
          "metadata": {},
          "execution_count": 7
        }
      ],
      "source": [
        "t_from_n.numpy()"
      ]
    },
    {
      "cell_type": "markdown",
      "metadata": {
        "id": "Sa51ZkI4KROq"
      },
      "source": [
        "Finally, Pytorch tensors are also compatible with Matplotlib, so you can easily have a look at them using e.g. ```imshow``` for 2D tensors:"
      ]
    },
    {
      "cell_type": "code",
      "execution_count": 9,
      "metadata": {
        "colab": {
          "base_uri": "https://localhost:8080/",
          "height": 265
        },
        "id": "sKwSG8tZKROq",
        "outputId": "1bca3c78-1a4c-4b17-ae90-539c5f39d42b"
      },
      "outputs": [
        {
          "output_type": "display_data",
          "data": {
            "image/png": "[encoded data removed]",
            "text/plain": [
              "<Figure size 432x288 with 1 Axes>"
            ]
          },
          "metadata": {
            "needs_background": "light"
          }
        }
      ],
      "source": [
        "plt.imshow(t_random);"
      ]
    },
    {
      "cell_type": "markdown",
      "metadata": {
        "id": "qRaJnASoKROr"
      },
      "source": [
        "## Indexing, broadcasting etc.\n",
        "\n",
        "The powerful logic behind Numpy that allows for a very efficient selection and combination of elements in arrays is also conserved in Pytorch. For example regular indexing:"
      ]
    },
    {
      "cell_type": "code",
      "execution_count": 10,
      "metadata": {
        "colab": {
          "base_uri": "https://localhost:8080/"
        },
        "id": "wFjE5PwAKROs",
        "outputId": "e970385f-1917-4977-9288-95880fe92d33"
      },
      "outputs": [
        {
          "output_type": "execute_result",
          "data": {
            "text/plain": [
              "tensor([[140, 120,  92, 222, 238, 117, 239,  31, 244,  94],\n",
              "        [ 38, 105,  49,  43,  73,  40, 107,  35, 253, 169],\n",
              "        [  6,  40, 119, 192,  57, 124, 153,  36,  89, 149],\n",
              "        [238, 235,  21, 147,  44, 109, 251, 112, 159, 192],\n",
              "        [ 45, 192, 224, 233, 175,  86, 152, 110, 183,  63],\n",
              "        [135,  80,   7, 147, 140, 123, 227, 112,  39, 112],\n",
              "        [100, 249, 114,  93, 225,   9, 238, 164, 164, 156],\n",
              "        [123, 125, 226,   7, 209,  20,  60, 142,  45,  40],\n",
              "        [ 57, 114,  28, 143,  27, 204, 187,  84, 219, 126],\n",
              "        [ 25,  65, 144, 200,  41,  22, 225, 153, 215,  31]])"
            ]
          },
          "metadata": {},
          "execution_count": 10
        }
      ],
      "source": [
        "t_random"
      ]
    },
    {
      "cell_type": "code",
      "execution_count": 11,
      "metadata": {
        "colab": {
          "base_uri": "https://localhost:8080/"
        },
        "id": "4I2vD6WvKROs",
        "outputId": "babaf698-afe4-448c-8c12-89aa8591e54a"
      },
      "outputs": [
        {
          "output_type": "execute_result",
          "data": {
            "text/plain": [
              "tensor([140, 120,  92, 222, 238, 117, 239,  31, 244,  94])"
            ]
          },
          "metadata": {},
          "execution_count": 11
        }
      ],
      "source": [
        "t_random[0,:]"
      ]
    },
    {
      "cell_type": "markdown",
      "metadata": {
        "id": "gmgtDD93KROt"
      },
      "source": [
        "or broadcasting that allows to combine tensors of different but compatible shapes:"
      ]
    },
    {
      "cell_type": "code",
      "execution_count": 12,
      "metadata": {
        "colab": {
          "base_uri": "https://localhost:8080/"
        },
        "id": "fAOqc3jzKROu",
        "outputId": "666abd9a-c222-44d6-d6ff-b9d3e93c74ae"
      },
      "outputs": [
        {
          "output_type": "execute_result",
          "data": {
            "text/plain": [
              "tensor([[193., 242., 134.,  51., 199.],\n",
              "        [193., 242., 134.,  51., 199.],\n",
              "        [193., 242., 134.,  51., 199.]])"
            ]
          },
          "metadata": {},
          "execution_count": 12
        }
      ],
      "source": [
        "torch.ones((3,5)) * torch.randint(0,255, (1,5))"
      ]
    },
    {
      "cell_type": "markdown",
      "metadata": {
        "id": "5gyUsSwyKROu"
      },
      "source": [
        "We will see that very often we also need to flatten arrays for example to create a fully connected layer in a deep learning network. This can be done in two ways. You can use the ```flatten``` function/method:"
      ]
    },
    {
      "cell_type": "code",
      "execution_count": 13,
      "metadata": {
        "colab": {
          "base_uri": "https://localhost:8080/"
        },
        "id": "Ax8ELHxlKROv",
        "outputId": "3da1e05e-ad35-4047-eee8-7e29f133e5f4"
      },
      "outputs": [
        {
          "output_type": "execute_result",
          "data": {
            "text/plain": [
              "tensor([140, 120,  92, 222, 238, 117, 239,  31, 244,  94,  38, 105,  49,  43,\n",
              "         73,  40, 107,  35, 253, 169,   6,  40, 119, 192,  57, 124, 153,  36,\n",
              "         89, 149, 238, 235,  21, 147,  44, 109, 251, 112, 159, 192,  45, 192,\n",
              "        224, 233, 175,  86, 152, 110, 183,  63, 135,  80,   7, 147, 140, 123,\n",
              "        227, 112,  39, 112, 100, 249, 114,  93, 225,   9, 238, 164, 164, 156,\n",
              "        123, 125, 226,   7, 209,  20,  60, 142,  45,  40,  57, 114,  28, 143,\n",
              "         27, 204, 187,  84, 219, 126,  25,  65, 144, 200,  41,  22, 225, 153,\n",
              "        215,  31])"
            ]
          },
          "metadata": {},
          "execution_count": 13
        }
      ],
      "source": [
        "t_random.flatten()"
      ]
    },
    {
      "cell_type": "markdown",
      "metadata": {
        "id": "QL01GVRFKROv"
      },
      "source": [
        "Here you can also specify which *contiguous* dimensions you want to flatten e.g.:"
      ]
    },
    {
      "cell_type": "code",
      "execution_count": 14,
      "metadata": {
        "colab": {
          "base_uri": "https://localhost:8080/"
        },
        "id": "bkIAD7xBKROw",
        "outputId": "6a1db988-ae60-474b-8638-ddd3b84539da"
      },
      "outputs": [
        {
          "output_type": "execute_result",
          "data": {
            "text/plain": [
              "tensor([[[23, 67, 96, 77],\n",
              "         [85, 53, 13, 83],\n",
              "         [91,  8, 23, 88]],\n",
              "\n",
              "        [[96, 16,  1, 18],\n",
              "         [96, 96,  6, 55],\n",
              "         [19,  7, 97, 60]]])"
            ]
          },
          "metadata": {},
          "execution_count": 14
        }
      ],
      "source": [
        "t_3d = torch.randint(0,100,(2,3,4))\n",
        "t_3d"
      ]
    },
    {
      "cell_type": "code",
      "execution_count": 15,
      "metadata": {
        "colab": {
          "base_uri": "https://localhost:8080/"
        },
        "id": "UtQ5WxlRKROw",
        "outputId": "596b1bb4-7d4d-4b9b-c74b-b7b950f5ef7b"
      },
      "outputs": [
        {
          "output_type": "execute_result",
          "data": {
            "text/plain": [
              "tensor([[23, 67, 96, 77, 85, 53, 13, 83, 91,  8, 23, 88],\n",
              "        [96, 16,  1, 18, 96, 96,  6, 55, 19,  7, 97, 60]])"
            ]
          },
          "metadata": {},
          "execution_count": 15
        }
      ],
      "source": [
        "torch.flatten(t_3d, start_dim=1, end_dim=2)"
      ]
    },
    {
      "cell_type": "markdown",
      "metadata": {
        "id": "XOfiAEizKROx"
      },
      "source": [
        "The alternative is to use the ```view``` method, which, if possible, returns only a ```view``` of the array. You can pass compatible dimensions to reshape the tensor, or simple use ```-1``` to completely flatten it. "
      ]
    },
    {
      "cell_type": "code",
      "execution_count": 16,
      "metadata": {
        "id": "KNYd4_SaKROx"
      },
      "outputs": [],
      "source": [
        "t_random = torch.randint(0,255,(10,10))"
      ]
    },
    {
      "cell_type": "code",
      "execution_count": 17,
      "metadata": {
        "colab": {
          "base_uri": "https://localhost:8080/"
        },
        "id": "7gFwuCvnKROy",
        "outputId": "a808f11c-c173-4b97-9eea-55737fcaaee7"
      },
      "outputs": [
        {
          "output_type": "execute_result",
          "data": {
            "text/plain": [
              "tensor([[130, 134,  63,  67,  49, 141, 235, 237, 178, 150, 249, 157,  69, 116,\n",
              "           6, 142, 129, 109,   3, 214],\n",
              "        [ 34, 219,  23,  11,  48, 229,  65, 220,  87, 139,  68, 211, 130, 197,\n",
              "         198,  70, 218, 208, 200,  62],\n",
              "        [ 32, 200, 175, 240, 199,  63, 179, 228, 248, 206, 244, 229,  49, 163,\n",
              "          69, 170, 226,  98,  49,  84],\n",
              "        [203, 185, 208,  76, 132,  39, 244, 142, 175, 132, 180,  59,  38, 126,\n",
              "         216, 253,  70, 231, 129, 202],\n",
              "        [ 10,  21, 221, 126, 215, 206, 216, 211, 245, 168, 159,   9,  54,  49,\n",
              "          78, 228,  41, 180,  17, 110]])"
            ]
          },
          "metadata": {},
          "execution_count": 17
        }
      ],
      "source": [
        "t_random.view(5, 20)"
      ]
    },
    {
      "cell_type": "code",
      "execution_count": 18,
      "metadata": {
        "colab": {
          "base_uri": "https://localhost:8080/"
        },
        "id": "DGJrCvxGKROy",
        "outputId": "374b6483-d8a2-4566-ee18-ebb4fa0fa12f"
      },
      "outputs": [
        {
          "output_type": "execute_result",
          "data": {
            "text/plain": [
              "tensor([130, 134,  63,  67,  49, 141, 235, 237, 178, 150, 249, 157,  69, 116,\n",
              "          6, 142, 129, 109,   3, 214,  34, 219,  23,  11,  48, 229,  65, 220,\n",
              "         87, 139,  68, 211, 130, 197, 198,  70, 218, 208, 200,  62,  32, 200,\n",
              "        175, 240, 199,  63, 179, 228, 248, 206, 244, 229,  49, 163,  69, 170,\n",
              "        226,  98,  49,  84, 203, 185, 208,  76, 132,  39, 244, 142, 175, 132,\n",
              "        180,  59,  38, 126, 216, 253,  70, 231, 129, 202,  10,  21, 221, 126,\n",
              "        215, 206, 216, 211, 245, 168, 159,   9,  54,  49,  78, 228,  41, 180,\n",
              "         17, 110])"
            ]
          },
          "metadata": {},
          "execution_count": 18
        }
      ],
      "source": [
        "t_random.view(-1)"
      ]
    },
    {
      "cell_type": "markdown",
      "metadata": {
        "id": "nXiXbRe8KROz"
      },
      "source": [
        "Since we are dealing with a ```view```, if we modify one of the arrays *in place*, the values in the other arrays are changed as well. This means that this is **not** and independent array but just a shallow-copy. Therefore be *careful*."
      ]
    },
    {
      "cell_type": "code",
      "execution_count": 19,
      "metadata": {
        "colab": {
          "base_uri": "https://localhost:8080/"
        },
        "id": "kLM0qss6KRO0",
        "outputId": "e6d6eb7c-21b0-46e3-c988-4d578ae88638"
      },
      "outputs": [
        {
          "output_type": "execute_result",
          "data": {
            "text/plain": [
              "tensor([[130, 134,  63,  67,  49, 141, 235, 237, 178, 150, 249, 157,  69, 116,\n",
              "           6, 142, 129, 109,   3, 214],\n",
              "        [ 34, 219,  23,  11,  48, 229,  65, 220,  87, 139,  68, 211, 130, 197,\n",
              "         198,  70, 218, 208, 200,  62],\n",
              "        [ 32, 200, 175, 240, 199,  63, 179, 228, 248, 206, 244, 229,  49, 163,\n",
              "          69, 170, 226,  98,  49,  84],\n",
              "        [203, 185, 208,  76, 132,  39, 244, 142, 175, 132, 180,  59,  38, 126,\n",
              "         216, 253,  70, 231, 129, 202],\n",
              "        [ 10,  21, 221, 126, 215, 206, 216, 211, 245, 168, 159,   9,  54,  49,\n",
              "          78, 228,  41, 180,  17, 110]])"
            ]
          },
          "metadata": {},
          "execution_count": 19
        }
      ],
      "source": [
        "view_copy = t_random.view(5,20)\n",
        "view_copy"
      ]
    },
    {
      "cell_type": "code",
      "execution_count": 20,
      "metadata": {
        "colab": {
          "base_uri": "https://localhost:8080/"
        },
        "id": "7iorny9NKRO0",
        "outputId": "633d0758-ff38-4abf-f462-3c6454051750"
      },
      "outputs": [
        {
          "output_type": "execute_result",
          "data": {
            "text/plain": [
              "tensor([[1, 1, 1, 1, 1, 1, 1, 1, 1, 1, 1, 1, 1, 1, 1, 1, 1, 1, 1, 1],\n",
              "        [1, 1, 1, 1, 1, 1, 1, 1, 1, 1, 1, 1, 1, 1, 1, 1, 1, 1, 1, 1],\n",
              "        [1, 1, 1, 1, 1, 1, 1, 1, 1, 1, 1, 1, 1, 1, 1, 1, 1, 1, 1, 1],\n",
              "        [1, 1, 1, 1, 1, 1, 1, 1, 1, 1, 1, 1, 1, 1, 1, 1, 1, 1, 1, 1],\n",
              "        [1, 1, 1, 1, 1, 1, 1, 1, 1, 1, 1, 1, 1, 1, 1, 1, 1, 1, 1, 1]])"
            ]
          },
          "metadata": {},
          "execution_count": 20
        }
      ],
      "source": [
        "view_copy.fill_(1)"
      ]
    },
    {
      "cell_type": "code",
      "execution_count": 21,
      "metadata": {
        "colab": {
          "base_uri": "https://localhost:8080/"
        },
        "id": "lnztkxdHKRO3",
        "outputId": "cd912696-54d9-4a98-9b6f-2ad6d023574e"
      },
      "outputs": [
        {
          "output_type": "execute_result",
          "data": {
            "text/plain": [
              "tensor([[1, 1, 1, 1, 1, 1, 1, 1, 1, 1],\n",
              "        [1, 1, 1, 1, 1, 1, 1, 1, 1, 1],\n",
              "        [1, 1, 1, 1, 1, 1, 1, 1, 1, 1],\n",
              "        [1, 1, 1, 1, 1, 1, 1, 1, 1, 1],\n",
              "        [1, 1, 1, 1, 1, 1, 1, 1, 1, 1],\n",
              "        [1, 1, 1, 1, 1, 1, 1, 1, 1, 1],\n",
              "        [1, 1, 1, 1, 1, 1, 1, 1, 1, 1],\n",
              "        [1, 1, 1, 1, 1, 1, 1, 1, 1, 1],\n",
              "        [1, 1, 1, 1, 1, 1, 1, 1, 1, 1],\n",
              "        [1, 1, 1, 1, 1, 1, 1, 1, 1, 1]])"
            ]
          },
          "metadata": {},
          "execution_count": 21
        }
      ],
      "source": [
        "t_random"
      ]
    },
    {
      "cell_type": "markdown",
      "metadata": {
        "id": "zhjjqhzlKRO6"
      },
      "source": [
        "## Gradients"
      ]
    },
    {
      "cell_type": "markdown",
      "metadata": {
        "id": "wSyTsfrVKRO7"
      },
      "source": [
        "To be able to perform backpropagation in Deep Learning networks, we need to be able to calculate all the necessary gradients. This feature is \"integrated\" into Pytorch arrays directly if we use the ```requires_grad``` option. To start with a simple example, let's define first a variable $x=1$:"
      ]
    },
    {
      "cell_type": "code",
      "execution_count": 22,
      "metadata": {
        "id": "RqvpfyRnKRO8"
      },
      "outputs": [],
      "source": [
        "x = torch.ones(1, 1, requires_grad=True)"
      ]
    },
    {
      "cell_type": "code",
      "execution_count": 23,
      "metadata": {
        "colab": {
          "base_uri": "https://localhost:8080/"
        },
        "id": "kQP4AKdRKRO9",
        "outputId": "b590fed3-2614-412a-9804-3d9103b5a57a"
      },
      "outputs": [
        {
          "output_type": "execute_result",
          "data": {
            "text/plain": [
              "tensor([[1.]], requires_grad=True)"
            ]
          },
          "metadata": {},
          "execution_count": 23
        }
      ],
      "source": [
        "x"
      ]
    },
    {
      "cell_type": "markdown",
      "metadata": {
        "id": "FM7S4AH2KRO9"
      },
      "source": [
        "Now we let our variable pass through a few simple operations:"
      ]
    },
    {
      "cell_type": "code",
      "execution_count": 24,
      "metadata": {
        "id": "zCn7GGc5KRO-"
      },
      "outputs": [],
      "source": [
        "y = 2 * x"
      ]
    },
    {
      "cell_type": "code",
      "execution_count": 25,
      "metadata": {
        "id": "WlzYFuXNKRO-"
      },
      "outputs": [],
      "source": [
        "z = y**(3/2)"
      ]
    },
    {
      "cell_type": "code",
      "execution_count": 26,
      "metadata": {
        "id": "qLqg0bbJKRO_"
      },
      "outputs": [],
      "source": [
        "w = 5 * z"
      ]
    },
    {
      "cell_type": "markdown",
      "metadata": {
        "id": "VKq95x1mKRPA"
      },
      "source": [
        "Our last variable that depends initially on ```x``` is now ```w```. We see that $w = f(z) = f(g(y)) = f(g(h(x))) = k(x)$ with:\n",
        "\n",
        "$f(z) = 5*z$\n",
        "\n",
        "$g(y) = y^{3/2}$\n",
        "\n",
        "$h(x) = 2*x$\n",
        "\n",
        "If ```w``` needs to be optimized with respect to the variablex x, following th chain rule, we need to calculate $k'(x) = f'(g(h(x))*g'(h(x))*h'(x)$"
      ]
    },
    {
      "cell_type": "markdown",
      "metadata": {
        "id": "bcVfxLWjKRPB"
      },
      "source": [
        "$5 * \\frac{3}{2}(2x)^{0.5} * 2$\n"
      ]
    },
    {
      "cell_type": "markdown",
      "metadata": {
        "id": "R6bMwK10KRPC"
      },
      "source": [
        "This complete calculation can simply be performed by calcualting the gradients of w $dw/dx$:"
      ]
    },
    {
      "cell_type": "code",
      "execution_count": 27,
      "metadata": {
        "id": "TEItbyhgKRPC"
      },
      "outputs": [],
      "source": [
        "w.backward()"
      ]
    },
    {
      "cell_type": "code",
      "execution_count": 28,
      "metadata": {
        "colab": {
          "base_uri": "https://localhost:8080/"
        },
        "id": "ascVWEqqKRPC",
        "outputId": "662ee2e0-2d44-457f-a2e2-78b33c4589d1"
      },
      "outputs": [
        {
          "output_type": "stream",
          "name": "stdout",
          "text": [
            "tensor([[21.2132]])\n"
          ]
        }
      ],
      "source": [
        "print(x.grad)"
      ]
    },
    {
      "cell_type": "markdown",
      "metadata": {
        "id": "u0Ed0fEXKRPD"
      },
      "source": [
        "We can verify that we indeed obtain the correct gradient:"
      ]
    },
    {
      "cell_type": "code",
      "execution_count": 29,
      "metadata": {
        "colab": {
          "base_uri": "https://localhost:8080/"
        },
        "id": "rtFOPeeKKRPD",
        "outputId": "3f849661-6aee-4001-b0ce-8124f1f12e59"
      },
      "outputs": [
        {
          "output_type": "execute_result",
          "data": {
            "text/plain": [
              "21.213203435596427"
            ]
          },
          "metadata": {},
          "execution_count": 29
        }
      ],
      "source": [
        "5 * (3/2)*(2**0.5) * 2\n"
      ]
    },
    {
      "cell_type": "markdown",
      "metadata": {
        "id": "dPWF6wSAKRPD"
      },
      "source": [
        "Of course this is an over-simplified example. Calculations become more complex when dealing with actual vectors or tensors but the principle remains the same."
      ]
    },
    {
      "cell_type": "markdown",
      "metadata": {
        "id": "Cnf8WfRSKRPD"
      },
      "source": [
        "Finally note that if you want to recover a Numpy array from a PyTorch tensor, or plot a PyTorch tensor with Matplotlib, you first have to *detach* it from the gradient calculation system (if necessary) to recover it:"
      ]
    },
    {
      "cell_type": "code",
      "execution_count": 30,
      "metadata": {
        "colab": {
          "base_uri": "https://localhost:8080/",
          "height": 164
        },
        "id": "dH6O6alzKRPE",
        "outputId": "c19a2aef-f062-4e32-8537-4850f048ef0b"
      },
      "outputs": [
        {
          "output_type": "error",
          "ename": "RuntimeError",
          "evalue": "ignored",
          "traceback": [
            "\u001b[0;31m---------------------------------------------------------------------------\u001b[0m",
            "\u001b[0;31mRuntimeError\u001b[0m                              Traceback (most recent call last)",
            "\u001b[0;32m<ipython-input-30-2527552080a3>\u001b[0m in \u001b[0;36m<module>\u001b[0;34m()\u001b[0m\n\u001b[0;32m----> 1\u001b[0;31m \u001b[0mx\u001b[0m\u001b[0;34m.\u001b[0m\u001b[0mnumpy\u001b[0m\u001b[0;34m(\u001b[0m\u001b[0;34m)\u001b[0m\u001b[0;34m\u001b[0m\u001b[0;34m\u001b[0m\u001b[0m\n\u001b[0m",
            "\u001b[0;31mRuntimeError\u001b[0m: Can't call numpy() on Tensor that requires grad. Use tensor.detach().numpy() instead."
          ]
        }
      ],
      "source": [
        "x.numpy()"
      ]
    },
    {
      "cell_type": "code",
      "execution_count": 31,
      "metadata": {
        "colab": {
          "base_uri": "https://localhost:8080/"
        },
        "id": "cKL0RqxNKRPE",
        "outputId": "7a29cf4d-01e7-430c-f0d9-f8af75af01c2"
      },
      "outputs": [
        {
          "output_type": "execute_result",
          "data": {
            "text/plain": [
              "array([[1.]], dtype=float32)"
            ]
          },
          "metadata": {},
          "execution_count": 31
        }
      ],
      "source": [
        "x.detach().numpy()"
      ]
    },
    {
      "cell_type": "markdown",
      "metadata": {
        "id": "cawsjfL-KRPE"
      },
      "source": [
        "## Sending tensors to a GPU\n",
        "\n",
        "If your computer is equipped with a compatible GPU or if you run the notebook on Google Colab with a GPU runtime, you can exploit Graphics card computing power. For that the data have to be \"pushed\" and \"pulled\" to and from that device. We will see later that we can push entire networks thre but for the moment we just send a tensor.\n",
        "\n",
        "First we have to check wheter a GPU is available:"
      ]
    },
    {
      "cell_type": "code",
      "execution_count": 32,
      "metadata": {
        "colab": {
          "base_uri": "https://localhost:8080/"
        },
        "id": "eiryWchTKRPF",
        "outputId": "5b886600-c5c9-44e5-bebc-12cae96d5696"
      },
      "outputs": [
        {
          "output_type": "execute_result",
          "data": {
            "text/plain": [
              "True"
            ]
          },
          "metadata": {},
          "execution_count": 32
        }
      ],
      "source": [
        "torch.cuda.is_available()"
      ]
    },
    {
      "cell_type": "markdown",
      "metadata": {
        "id": "6fkODTOsKRPF"
      },
      "source": [
        "If yes we can device a GPU device (a CUDA device in fact):"
      ]
    },
    {
      "cell_type": "code",
      "execution_count": 37,
      "metadata": {
        "colab": {
          "base_uri": "https://localhost:8080/"
        },
        "id": "WpDar0FMKRPF",
        "outputId": "aed7fd59-0aac-434d-af77-fe0236e9140a"
      },
      "outputs": [
        {
          "output_type": "execute_result",
          "data": {
            "text/plain": [
              "device(type='cuda')"
            ]
          },
          "metadata": {},
          "execution_count": 37
        }
      ],
      "source": [
        "dev = torch.device(\"cuda\")\n",
        "dev"
      ]
    },
    {
      "cell_type": "markdown",
      "metadata": {
        "id": "Fbi6b2LMKRPG"
      },
      "source": [
        "Finally we can send the data the the \"CUDA\" device:"
      ]
    },
    {
      "cell_type": "code",
      "execution_count": 40,
      "metadata": {
        "colab": {
          "base_uri": "https://localhost:8080/"
        },
        "id": "WmT8Ox27KRPG",
        "outputId": "8deae10e-6d99-4fa9-d3ab-8d38c17643a7"
      },
      "outputs": [
        {
          "output_type": "execute_result",
          "data": {
            "text/plain": [
              "tensor([[ 0.1078, -1.2955,  0.9824, -2.2888, -0.9240],\n",
              "        [ 1.1793, -1.8081, -1.4458, -1.2130,  0.9562],\n",
              "        [-0.5964,  1.9136, -1.2986, -0.1035,  1.0607]], device='cuda:0')"
            ]
          },
          "metadata": {},
          "execution_count": 40
        }
      ],
      "source": [
        "mytensor = torch.randn((3,5))\n",
        "mytensor = mytensor.to(dev)\n",
        "mytensor"
      ]
    },
    {
      "cell_type": "code",
      "execution_count": 41,
      "metadata": {
        "colab": {
          "base_uri": "https://localhost:8080/",
          "height": 164
        },
        "id": "kZuaexAMKRPG",
        "outputId": "b61a8dee-8ae3-4d89-c090-f582c2705ea8"
      },
      "outputs": [
        {
          "output_type": "error",
          "ename": "TypeError",
          "evalue": "ignored",
          "traceback": [
            "\u001b[0;31m---------------------------------------------------------------------------\u001b[0m",
            "\u001b[0;31mTypeError\u001b[0m                                 Traceback (most recent call last)",
            "\u001b[0;32m<ipython-input-41-aa7480be9066>\u001b[0m in \u001b[0;36m<module>\u001b[0;34m()\u001b[0m\n\u001b[0;32m----> 1\u001b[0;31m \u001b[0mmytensor\u001b[0m\u001b[0;34m.\u001b[0m\u001b[0mnumpy\u001b[0m\u001b[0;34m(\u001b[0m\u001b[0;34m)\u001b[0m\u001b[0;34m\u001b[0m\u001b[0;34m\u001b[0m\u001b[0m\n\u001b[0m",
            "\u001b[0;31mTypeError\u001b[0m: can't convert cuda:0 device type tensor to numpy. Use Tensor.cpu() to copy the tensor to host memory first."
          ]
        }
      ],
      "source": [
        "mytensor.numpy()"
      ]
    },
    {
      "cell_type": "markdown",
      "metadata": {
        "id": "oqjoCGDeKRPH"
      },
      "source": [
        "We see here that we have again difficulties getting the tensor \"out\" of PyTorch. This time not because it's part of a gradient but because it lives on the GPU. So we need to first copy it back to the CPU first:"
      ]
    },
    {
      "cell_type": "code",
      "execution_count": 42,
      "metadata": {
        "id": "r1vM1_JhKRPH"
      },
      "outputs": [],
      "source": [
        "mytensor_CPU = mytensor.cpu()"
      ]
    },
    {
      "cell_type": "code",
      "execution_count": 43,
      "metadata": {
        "colab": {
          "base_uri": "https://localhost:8080/"
        },
        "id": "O5zIvm1XKRPI",
        "outputId": "daf5a47b-9725-4022-ac85-f7dca30929d4"
      },
      "outputs": [
        {
          "output_type": "execute_result",
          "data": {
            "text/plain": [
              "array([[ 0.10778594, -1.2954801 ,  0.98242337, -2.2888114 , -0.9239933 ],\n",
              "       [ 1.1793374 , -1.8080784 , -1.4457537 , -1.2130216 ,  0.9561631 ],\n",
              "       [-0.59640384,  1.9136024 , -1.2985845 , -0.10350052,  1.0606741 ]],\n",
              "      dtype=float32)"
            ]
          },
          "metadata": {},
          "execution_count": 43
        }
      ],
      "source": [
        "mytensor_CPU.numpy()"
      ]
    },
    {
      "cell_type": "markdown",
      "metadata": {
        "id": "Dv1HNMVPKRPI"
      },
      "source": [
        "You will regularly hit this kind of problems when writing your code, so remember these two potential issues when you want to *post-process* some tensor:\n",
        "- you migth need to *detach* it from the gradient calculation\n",
        "- you migth need to pull it out of the GPU\n",
        "- for NN computation, you might need to push your data (tensors) to the GPU"
      ]
    },
    {
      "cell_type": "markdown",
      "metadata": {
        "id": "uFdFVS02KRPI"
      },
      "source": [
        "## Exercises\n",
        "\n",
        "1. Create a tensor of integers in the range 0-100 of size 16x16\n",
        "2. Change its \"gradient-status\" by attaching it to gradient calculation\n",
        "3. Solve the problem appearing in (2.) by creating a float32 tensor and attaching the gradient again\n",
        "4. Flatten the array to 1d\n",
        "5. Transform your flat tensor to a numpy array"
      ]
    }
  ],
  "metadata": {
    "kernelspec": {
      "display_name": "Python 3",
      "language": "python",
      "name": "python3"
    },
    "language_info": {
      "codemirror_mode": {
        "name": "ipython",
        "version": 3
      },
      "file_extension": ".py",
      "mimetype": "text/x-python",
      "name": "python",
      "nbconvert_exporter": "python",
      "pygments_lexer": "ipython3",
      "version": "3.9.10"
    },
    "toc": {
      "base_numbering": 1,
      "nav_menu": {},
      "number_sections": false,
      "sideBar": true,
      "skip_h1_title": false,
      "title_cell": "Table of Contents",
      "title_sidebar": "Contents",
      "toc_cell": false,
      "toc_position": {
        "height": "calc(100% - 180px)",
        "left": "10px",
        "top": "150px",
        "width": "290.391px"
      },
      "toc_section_display": true,
      "toc_window_display": true
    },
    "varInspector": {
      "cols": {
        "lenName": 16,
        "lenType": 16,
        "lenVar": 40
      },
      "kernels_config": {
        "python": {
          "delete_cmd_postfix": "",
          "delete_cmd_prefix": "del ",
          "library": "var_list.py",
          "varRefreshCmd": "print(var_dic_list())"
        },
        "r": {
          "delete_cmd_postfix": ") ",
          "delete_cmd_prefix": "rm(",
          "library": "var_list.r",
          "varRefreshCmd": "cat(var_dic_list()) "
        }
      },
      "types_to_exclude": [
        "module",
        "function",
        "builtin_function_or_method",
        "instance",
        "_Feature"
      ],
      "window_display": false
    },
    "colab": {
      "name": "03-Tensors.ipynb",
      "provenance": []
    },
    "accelerator": "GPU"
  },
  "nbformat": 4,
  "nbformat_minor": 0
}