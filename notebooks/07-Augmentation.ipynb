{
 "cells": [
  {
   "cell_type": "markdown",
   "metadata": {},
   "source": [
    "[![Open In Colab](https://colab.research.google.com/assets/colab-badge.svg)](https://colab.research.google.com/github/guiwitz/DLImaging/blob/master/notebooks/07-Augmentation.ipynb)"
   ]
  },
  {
   "cell_type": "markdown",
   "metadata": {},
   "source": [
    "# 7. Data augmentation\n",
    "\n",
    "Until now we have mostly played with synthetic data over which we have full control in terms of number of examples and content. Obviously that's not the case in the \"real world\" where you might mostly encounter two problems: 1. not enough training data and 2. inference data that are not exactly matching data used for training. This is where data augmentation can be useful.\n",
    "\n",
    "Imagine for example that you trained an algorithm to detect objects in an image that always have the same orientation. However now for your inference the \"alignment\" of your acquisition system is drifting and objects are slightly rotated. This will make impact the quality of your inference. The way to go around this is to *artificially* create variations in your training set in the hope to achieve a more general results.\n",
    "\n",
    "We are using again our simple example with geometric figures. However now for inference we will rotate the images and see how it impacts the result."
   ]
  },
  {
   "cell_type": "code",
   "execution_count": 1,
   "metadata": {
    "tags": [
     "hide-input"
    ]
   },
   "outputs": [],
   "source": [
    "# set path containing data folder or use default for Colab (/gdrive/My Drive)\n",
    "local_folder = \"../\"\n",
    "import urllib.request\n",
    "urllib.request.urlretrieve('https://raw.githubusercontent.com/guiwitz/DLImaging/master/utils/check_colab.py', 'check_colab.py')\n",
    "from check_colab import set_datapath\n",
    "colab, datapath = set_datapath(local_folder)"
   ]
  },
  {
   "cell_type": "markdown",
   "metadata": {},
   "source": [
    "## Model and training"
   ]
  },
  {
   "cell_type": "code",
   "execution_count": 2,
   "metadata": {},
   "outputs": [],
   "source": [
    "import torch\n",
    "import torch.nn as nn\n",
    "from torch.functional import F\n",
    "import torch.optim as optim\n",
    "from torch.utils.data import Dataset, DataLoader\n",
    "from torch.utils.data import random_split\n",
    "\n",
    "from skimage.draw import random_shapes\n",
    "import matplotlib.pyplot as plt\n",
    "import numpy as np"
   ]
  },
  {
   "cell_type": "code",
   "execution_count": 3,
   "metadata": {},
   "outputs": [],
   "source": [
    "# define network\n",
    "class Mynetwork(nn.Module):\n",
    "    def __init__(self, input_size, num_categories):\n",
    "        super(Mynetwork, self).__init__()\n",
    "        \n",
    "        # define e.g. layers here e.g.\n",
    "        self.layer1 = nn.Linear(input_size, 100)\n",
    "        self.layer2 = nn.Linear(100, 100)\n",
    "        self.layer3 = nn.Linear(100, num_categories)\n",
    "\n",
    "    def forward(self, x):\n",
    "        \n",
    "        # flatten the input\n",
    "        x = x.flatten(start_dim=1)\n",
    "        # define the sequence of operations in the network including e.g. activations\n",
    "        x = F.relu(self.layer1(x))\n",
    "        x = F.relu(self.layer2(x))\n",
    "        x = self.layer3(x)\n",
    "        \n",
    "        return x\n",
    "\n",
    "# define loss   \n",
    "criterion = nn.CrossEntropyLoss()\n",
    "\n",
    "# define dataset\n",
    "images = np.load(datapath.joinpath('data/triangle_circle.npy'))\n",
    "labels = np.load(datapath.joinpath('data/triangle_circle_label.npy'))\n",
    "\n",
    "class Tricircle(Dataset):\n",
    "    def __init__(self, data, labels, transform=None):\n",
    "        super(Tricircle, self).__init__()\n",
    "        self.data = data\n",
    "        self.labels = labels\n",
    "\n",
    "    def __getitem__(self, index):\n",
    "        \n",
    "        x = self.data[index]\n",
    "        x = torch.tensor(x/255, dtype=torch.float32)\n",
    "        y = torch.tensor(self.labels[index])\n",
    "        \n",
    "        return x, y\n",
    "\n",
    "    def __len__(self):\n",
    "\n",
    "        return len(labels)\n",
    "    \n",
    "tridata = Tricircle(images, labels)\n",
    "\n",
    "batch_size = 10\n",
    "test_size = int(0.8 * len(tridata))\n",
    "valid_size = len(tridata)-test_size\n",
    "train_data, valid_data = random_split(tridata, [test_size, valid_size])\n",
    "\n",
    "train_loader = DataLoader(train_data, batch_size=batch_size)\n",
    "valid_loader = DataLoader(valid_data, batch_size=batch_size)"
   ]
  },
  {
   "cell_type": "markdown",
   "metadata": {},
   "source": [
    "## Train the model"
   ]
  },
  {
   "cell_type": "code",
   "execution_count": 4,
   "metadata": {},
   "outputs": [],
   "source": [
    "num_classes = 2\n",
    "model = Mynetwork(1024, num_classes)\n",
    "optimizer = optim.Adam(model.parameters(), lr=0.001)"
   ]
  },
  {
   "cell_type": "code",
   "execution_count": 5,
   "metadata": {},
   "outputs": [
    {
     "name": "stdout",
     "output_type": "stream",
     "text": [
      "epoch: 0\n",
      "accuracy: 0.8467020392417908\n",
      "accuracy: 0.9599016904830933\n",
      "accuracy: 0.9839006662368774\n",
      "accuracy: 0.990401029586792\n",
      "valid_accuracy: 0.9943005442619324\n",
      "epoch: 1\n",
      "accuracy: 0.9947004318237305\n",
      "accuracy: 0.9940004944801331\n",
      "accuracy: 0.9943001866340637\n",
      "accuracy: 0.997100293636322\n",
      "valid_accuracy: 0.9976001977920532\n"
     ]
    }
   ],
   "source": [
    "for epoch in range(2):\n",
    "    print(f'epoch: {epoch}')\n",
    "    # initialize accuracy\n",
    "    running_accuracy = 0\n",
    "    \n",
    "    for t, data in enumerate(train_loader):\n",
    "    \n",
    "        # get batch\n",
    "        mybatch, label = data\n",
    "\n",
    "        # calculate predicted label and calculate loss\n",
    "        pred = model(mybatch)\n",
    "        loss = criterion(pred, label)\n",
    "\n",
    "        # backpropagate the loss\n",
    "        loss.backward()\n",
    "\n",
    "        # do the optimization step\n",
    "        optimizer.step()\n",
    "\n",
    "        # set gradients to zero as PyTorch accumulates them otherwise\n",
    "        optimizer.zero_grad()\n",
    "\n",
    "        # calculate accuracy\n",
    "        mean_accuracy = (torch.argmax(pred,dim=1) == label).sum()/batch_size\n",
    "        running_accuracy+=mean_accuracy\n",
    "\n",
    "        every_nth = 1000\n",
    "        if t % every_nth == every_nth-1: \n",
    "            print(f'accuracy: {running_accuracy/every_nth}')\n",
    "            running_accuracy = 0.0\n",
    "    \n",
    "    # validation\n",
    "    valid_accuracy=0\n",
    "    for t, data in enumerate(valid_loader):\n",
    "    \n",
    "        # get batch\n",
    "        mybatch, label = data\n",
    "\n",
    "        # calculate predicted label\n",
    "        pred = model(mybatch)\n",
    "        # calculate accuracy\n",
    "        mean_accuracy = (torch.argmax(pred,dim=1) == label).sum()/batch_size\n",
    "        valid_accuracy+=mean_accuracy\n",
    "    valid_accuracy = valid_accuracy/len(valid_loader)\n",
    "    print(f'valid_accuracy: {valid_accuracy}')"
   ]
  },
  {
   "cell_type": "markdown",
   "metadata": {},
   "source": [
    "## Feeding rotated data"
   ]
  },
  {
   "cell_type": "markdown",
   "metadata": {},
   "source": [
    "We can use the ```skimage.transform.rotate``` function to rotate some of our images."
   ]
  },
  {
   "cell_type": "code",
   "execution_count": 6,
   "metadata": {},
   "outputs": [],
   "source": [
    "import skimage.transform"
   ]
  },
  {
   "cell_type": "code",
   "execution_count": 7,
   "metadata": {},
   "outputs": [],
   "source": [
    "image, _ = random_shapes((32,32),max_shapes=1, min_shapes=1, num_channels=1, shape='triangle',\n",
    "                                min_size=8)\n",
    "image = 255-image"
   ]
  },
  {
   "cell_type": "code",
   "execution_count": 8,
   "metadata": {},
   "outputs": [],
   "source": [
    "image_rot = skimage.transform.rotate(image, 10, preserve_range=True)"
   ]
  },
  {
   "cell_type": "code",
   "execution_count": 9,
   "metadata": {},
   "outputs": [
    {
     "data": {
      "text/plain": [
       "<matplotlib.image.AxesImage at 0x142049340>"
      ]
     },
     "execution_count": 9,
     "metadata": {},
     "output_type": "execute_result"
    },
    {
     "data": {
      "image/png": "[encoded data removed]",
      "text/plain": [
       "<Figure size 432x288 with 2 Axes>"
      ]
     },
     "metadata": {
      "needs_background": "light"
     },
     "output_type": "display_data"
    }
   ],
   "source": [
    "fig, ax = plt.subplots(1,2)\n",
    "ax[0].imshow(image)\n",
    "ax[1].imshow(image_rot,)"
   ]
  },
  {
   "cell_type": "markdown",
   "metadata": {},
   "source": [
    "We adjust our generating function (in [dlcourse.py](dlcourse.py) and create one that rotates objects randomly:"
   ]
  },
  {
   "cell_type": "code",
   "execution_count": 10,
   "metadata": {},
   "outputs": [],
   "source": [
    "from dlcourse import make_image_rot"
   ]
  },
  {
   "cell_type": "code",
   "execution_count": 11,
   "metadata": {},
   "outputs": [],
   "source": [
    "image_rot = make_image_rot('triangle', np.random.randint(0,10))"
   ]
  },
  {
   "cell_type": "code",
   "execution_count": 12,
   "metadata": {},
   "outputs": [
    {
     "data": {
      "text/plain": [
       "<matplotlib.image.AxesImage at 0x1422c1fd0>"
      ]
     },
     "execution_count": 12,
     "metadata": {},
     "output_type": "execute_result"
    },
    {
     "data": {
      "image/png": "[encoded data removed]",
      "text/plain": [
       "<Figure size 432x288 with 1 Axes>"
      ]
     },
     "metadata": {
      "needs_background": "light"
     },
     "output_type": "display_data"
    }
   ],
   "source": [
    "plt.imshow(image_rot)"
   ]
  },
  {
   "cell_type": "markdown",
   "metadata": {},
   "source": [
    "Let's see how bad this is now:"
   ]
  },
  {
   "cell_type": "code",
   "execution_count": 13,
   "metadata": {},
   "outputs": [],
   "source": [
    "from sklearn.metrics import confusion_matrix\n",
    "import pandas as pd\n",
    "import seaborn as sn"
   ]
  },
  {
   "cell_type": "code",
   "execution_count": 15,
   "metadata": {},
   "outputs": [
    {
     "name": "stdout",
     "output_type": "stream",
     "text": [
      "accuracy: 0.7400000095367432\n"
     ]
    }
   ],
   "source": [
    "im_type = ['triangle', 'circle']\n",
    "label_test = torch.randint(0,len(im_type),(100,))\n",
    "mybatch_test = torch.stack([make_image_rot(im_type[x], np.random.randint(0,90)) for x in label_test])\n",
    "pred = model(mybatch_test)\n",
    "accuracy = (torch.argmax(pred,dim=1) == label_test).sum()/100\n",
    "print(f'accuracy: {accuracy}')"
   ]
  },
  {
   "cell_type": "code",
   "execution_count": 16,
   "metadata": {},
   "outputs": [
    {
     "data": {
      "image/png": "[encoded data removed]",
      "text/plain": [
       "<Figure size 720x504 with 2 Axes>"
      ]
     },
     "metadata": {
      "needs_background": "light"
     },
     "output_type": "display_data"
    }
   ],
   "source": [
    "df_cm = pd.DataFrame(confusion_matrix(pred.argmax(dim=1), label_test), index = im_type,\n",
    "                  columns = im_type)\n",
    "plt.figure(figsize = (10,7))\n",
    "sn.heatmap(df_cm, annot=True);"
   ]
  },
  {
   "cell_type": "markdown",
   "metadata": {},
   "source": [
    "Obviously the problem only affects the triangle as the circle is rotationally invariant. So what can we do now? We can use data augmentation *during* training on our original *un-rotated* dataset. We will see later more general ways to do this but let's for the moment just rotate our data using functions from ```torchvision.transforms```:"
   ]
  },
  {
   "cell_type": "code",
   "execution_count": 17,
   "metadata": {},
   "outputs": [],
   "source": [
    "import torchvision.transforms"
   ]
  },
  {
   "cell_type": "code",
   "execution_count": 18,
   "metadata": {},
   "outputs": [],
   "source": [
    "rotation = torchvision.transforms.RandomRotation((0,40))"
   ]
  },
  {
   "cell_type": "markdown",
   "metadata": {},
   "source": [
    "The nice thing with ```torchivision``` functions is that they accept batches by default. So we don't have to rotate each image individually:"
   ]
  },
  {
   "cell_type": "code",
   "execution_count": 19,
   "metadata": {},
   "outputs": [],
   "source": [
    "iter_loader = iter(train_loader)"
   ]
  },
  {
   "cell_type": "code",
   "execution_count": 32,
   "metadata": {},
   "outputs": [],
   "source": [
    "single_batch = next(iter_loader)\n",
    "single_batch, single_label = single_batch"
   ]
  },
  {
   "cell_type": "code",
   "execution_count": 33,
   "metadata": {},
   "outputs": [],
   "source": [
    "rotated_single_batch = rotation(single_batch)"
   ]
  },
  {
   "cell_type": "code",
   "execution_count": 34,
   "metadata": {},
   "outputs": [
    {
     "data": {
      "text/plain": [
       "<matplotlib.image.AxesImage at 0x1445ac580>"
      ]
     },
     "execution_count": 34,
     "metadata": {},
     "output_type": "execute_result"
    },
    {
     "data": {
      "image/png": "[encoded data removed]",
      "text/plain": [
       "<Figure size 432x288 with 2 Axes>"
      ]
     },
     "metadata": {
      "needs_background": "light"
     },
     "output_type": "display_data"
    }
   ],
   "source": [
    "fig, ax = plt.subplots(1,2)\n",
    "ax[0].imshow(single_batch[2,:,:])\n",
    "ax[1].imshow(rotated_single_batch[2,:,:])"
   ]
  },
  {
   "cell_type": "code",
   "execution_count": 35,
   "metadata": {},
   "outputs": [
    {
     "name": "stdout",
     "output_type": "stream",
     "text": [
      "epoch: 0\n",
      "accuracy: 0.7815008759498596\n",
      "accuracy: 0.8975019454956055\n",
      "accuracy: 0.9447022080421448\n",
      "accuracy: 0.9625019431114197\n",
      "valid_accuracy: 0.9551023840904236\n",
      "epoch: 1\n",
      "accuracy: 0.9750018119812012\n",
      "accuracy: 0.9800010919570923\n",
      "accuracy: 0.982601523399353\n",
      "accuracy: 0.9864010214805603\n",
      "valid_accuracy: 0.9808016419410706\n",
      "epoch: 2\n",
      "accuracy: 0.9904008507728577\n",
      "accuracy: 0.9890009164810181\n",
      "accuracy: 0.9899008274078369\n",
      "accuracy: 0.9918006062507629\n",
      "valid_accuracy: 0.9909006953239441\n",
      "epoch: 3\n",
      "accuracy: 0.9925005435943604\n",
      "accuracy: 0.9920004606246948\n",
      "accuracy: 0.9920007586479187\n",
      "accuracy: 0.99470055103302\n",
      "valid_accuracy: 0.9908008575439453\n",
      "epoch: 4\n",
      "accuracy: 0.9935004115104675\n",
      "accuracy: 0.9932008385658264\n",
      "accuracy: 0.9946005940437317\n",
      "accuracy: 0.9941005706787109\n",
      "valid_accuracy: 0.9944003224372864\n"
     ]
    }
   ],
   "source": [
    "model = Mynetwork(1024, len(im_type))\n",
    "optimizer = optim.Adam(model.parameters(), lr=0.001)\n",
    "\n",
    "for epoch in range(5):\n",
    "    print(f'epoch: {epoch}')\n",
    "    # initialize accuracy\n",
    "    running_accuracy = 0\n",
    "    \n",
    "    for t, data in enumerate(train_loader):\n",
    "    \n",
    "        # get batch\n",
    "        mybatch, label = data\n",
    "        \n",
    "        # !!!!!!!!!!!!!!!!!!!!!!!!!!!!!!!Augmentation!!!!!!!!!!!!!!!!!!!!!!!\n",
    "        mybatch = rotation(mybatch)\n",
    "        # !!!!!!!!!!!!!!!!!!!!!!!!!!!!!!!Augmentation!!!!!!!!!!!!!!!!!!!!!!!\n",
    "\n",
    "\n",
    "        # calculate predicted label and calculate loss\n",
    "        pred = model(mybatch)\n",
    "        loss = criterion(pred, label)\n",
    "\n",
    "        # backpropagate the loss\n",
    "        loss.backward()\n",
    "\n",
    "        # do the optimization step\n",
    "        optimizer.step()\n",
    "\n",
    "        # set gradients to zero as PyTorch accumulates them otherwise\n",
    "        optimizer.zero_grad()\n",
    "\n",
    "        # calculate accuracy\n",
    "        mean_accuracy = (torch.argmax(pred,dim=1) == label).sum()/batch_size\n",
    "        running_accuracy+=mean_accuracy\n",
    "\n",
    "        every_nth = 1000\n",
    "        if t % every_nth == every_nth-1: \n",
    "            print(f'accuracy: {running_accuracy/every_nth}')\n",
    "            running_accuracy = 0.0\n",
    "    \n",
    "    # validation\n",
    "    valid_accuracy=0\n",
    "    for t, data in enumerate(valid_loader):\n",
    "    \n",
    "        # get batch\n",
    "        mybatch, label = data\n",
    "\n",
    "        # calculate predicted label\n",
    "        pred = model(mybatch)\n",
    "        # calculate accuracy\n",
    "        mean_accuracy = (torch.argmax(pred,dim=1) == label).sum()/batch_size\n",
    "        valid_accuracy+=mean_accuracy\n",
    "    valid_accuracy = valid_accuracy/len(valid_loader)\n",
    "    print(f'valid_accuracy: {valid_accuracy}')"
   ]
  },
  {
   "cell_type": "markdown",
   "metadata": {},
   "source": [
    "We see that we might need more epochs to achieve good training. This is expected as we now have \"more\" training data.\n",
    "\n",
    "Let's see now if the network performs better on our directly generated rotated dataset:"
   ]
  },
  {
   "cell_type": "code",
   "execution_count": 36,
   "metadata": {},
   "outputs": [
    {
     "name": "stdout",
     "output_type": "stream",
     "text": [
      "accuracy: 0.8799999952316284\n"
     ]
    }
   ],
   "source": [
    "pred = model(mybatch_test)\n",
    "accuracy = (torch.argmax(pred,dim=1) == label_test).sum()/100\n",
    "print(f'accuracy: {accuracy}')"
   ]
  },
  {
   "cell_type": "code",
   "execution_count": 37,
   "metadata": {},
   "outputs": [
    {
     "data": {
      "image/png": "[encoded data removed]",
      "text/plain": [
       "<Figure size 720x504 with 2 Axes>"
      ]
     },
     "metadata": {
      "needs_background": "light"
     },
     "output_type": "display_data"
    }
   ],
   "source": [
    "df_cm = pd.DataFrame(confusion_matrix(pred.argmax(dim=1), label_test), index = im_type,\n",
    "                  columns = im_type)\n",
    "plt.figure(figsize = (10,7))\n",
    "sn.heatmap(df_cm, annot=True);"
   ]
  },
  {
   "cell_type": "markdown",
   "metadata": {},
   "source": [
    "## Combine augmentation\n",
    "\n",
    "It is very common to integrate the augmentation step in the data loading process. One can specify what modification one wants to apply randomly to the loaded images. For example here we combined rotation, and rotation transformations. This is done by *composing* (using ```Compose```) multiple augmentations in one module and passing it to the dataset. We see that we also integrate a stepf of conversion to tensor:"
   ]
  },
  {
   "cell_type": "code",
   "execution_count": 38,
   "metadata": {},
   "outputs": [],
   "source": [
    "import torchvision.transforms\n",
    "\n",
    "transforms = torchvision.transforms.Compose([\n",
    "    torchvision.transforms.ToTensor(),\n",
    "    torchvision.transforms.Resize((50,50)),\n",
    "    torchvision.transforms.RandomRotation(20)\n",
    "])"
   ]
  },
  {
   "cell_type": "markdown",
   "metadata": {},
   "source": [
    "The expected input of ```transform``` is for example a Numpy array that should first be turned into a tensor, and then resized and rotated. We can see if that works with an image:"
   ]
  },
  {
   "cell_type": "code",
   "execution_count": 39,
   "metadata": {},
   "outputs": [
    {
     "data": {
      "text/plain": [
       "<matplotlib.image.AxesImage at 0x144726940>"
      ]
     },
     "execution_count": 39,
     "metadata": {},
     "output_type": "execute_result"
    },
    {
     "data": {
      "image/png": "[encoded data removed]",
      "text/plain": [
       "<Figure size 432x288 with 1 Axes>"
      ]
     },
     "metadata": {
      "needs_background": "light"
     },
     "output_type": "display_data"
    }
   ],
   "source": [
    "current_image = images[4,:,:]\n",
    "plt.imshow(current_image)"
   ]
  },
  {
   "cell_type": "code",
   "execution_count": 40,
   "metadata": {},
   "outputs": [],
   "source": [
    "tfmed = transforms(current_image)"
   ]
  },
  {
   "cell_type": "code",
   "execution_count": 41,
   "metadata": {},
   "outputs": [
    {
     "data": {
      "text/plain": [
       "torch.Size([1, 50, 50])"
      ]
     },
     "execution_count": 41,
     "metadata": {},
     "output_type": "execute_result"
    }
   ],
   "source": [
    "tfmed.size()"
   ]
  },
  {
   "cell_type": "code",
   "execution_count": 42,
   "metadata": {},
   "outputs": [
    {
     "data": {
      "text/plain": [
       "<matplotlib.image.AxesImage at 0x1447a2580>"
      ]
     },
     "execution_count": 42,
     "metadata": {},
     "output_type": "execute_result"
    },
    {
     "data": {
      "image/png": "[encoded data removed]",
      "text/plain": [
       "<Figure size 432x288 with 1 Axes>"
      ]
     },
     "metadata": {
      "needs_background": "light"
     },
     "output_type": "display_data"
    }
   ],
   "source": [
    "plt.imshow(tfmed[0,:,:])"
   ]
  },
  {
   "cell_type": "markdown",
   "metadata": {},
   "source": [
    "Now we can pass our transform object when creating the dataset."
   ]
  },
  {
   "cell_type": "code",
   "execution_count": 43,
   "metadata": {},
   "outputs": [],
   "source": [
    "class Tricircle(Dataset):\n",
    "    def __init__(self, data, labels, transform=None):\n",
    "        super(Tricircle, self).__init__()\n",
    "        self.data = data\n",
    "        self.labels = labels\n",
    "        self.transform = transform\n",
    "        \n",
    "    def __getitem__(self, index):\n",
    "        \n",
    "        x = self.data[index]\n",
    "        if self.transform:\n",
    "            x = self.transform(x)\n",
    "        y = torch.tensor(self.labels[index])\n",
    "        \n",
    "        return x, y\n",
    "\n",
    "    def __len__(self):\n",
    "\n",
    "        return len(labels)\n",
    "    \n",
    "tridata = Tricircle(images, labels)"
   ]
  },
  {
   "cell_type": "code",
   "execution_count": 44,
   "metadata": {},
   "outputs": [],
   "source": [
    "tridata = Tricircle(images, labels, transforms)"
   ]
  },
  {
   "cell_type": "code",
   "execution_count": 45,
   "metadata": {},
   "outputs": [
    {
     "data": {
      "text/plain": [
       "<matplotlib.image.AxesImage at 0x144801820>"
      ]
     },
     "execution_count": 45,
     "metadata": {},
     "output_type": "execute_result"
    },
    {
     "data": {
      "image/png": "[encoded data removed]",
      "text/plain": [
       "<Figure size 432x288 with 1 Axes>"
      ]
     },
     "metadata": {
      "needs_background": "light"
     },
     "output_type": "display_data"
    }
   ],
   "source": [
    "plt.imshow(tridata[4][0][0,:,:])"
   ]
  },
  {
   "cell_type": "code",
   "execution_count": null,
   "metadata": {},
   "outputs": [],
   "source": []
  }
 ],
 "metadata": {
  "kernelspec": {
   "display_name": "Python 3",
   "language": "python",
   "name": "python3"
  },
  "language_info": {
   "codemirror_mode": {
    "name": "ipython",
    "version": 3
   },
   "file_extension": ".py",
   "mimetype": "text/x-python",
   "name": "python",
   "nbconvert_exporter": "python",
   "pygments_lexer": "ipython3",
   "version": "3.9.10"
  },
  "toc": {
   "base_numbering": 1,
   "nav_menu": {},
   "number_sections": false,
   "sideBar": true,
   "skip_h1_title": false,
   "title_cell": "Table of Contents",
   "title_sidebar": "Contents",
   "toc_cell": false,
   "toc_position": {},
   "toc_section_display": true,
   "toc_window_display": true
  },
  "varInspector": {
   "cols": {
    "lenName": 16,
    "lenType": 16,
    "lenVar": 40
   },
   "kernels_config": {
    "python": {
     "delete_cmd_postfix": "",
     "delete_cmd_prefix": "del ",
     "library": "var_list.py",
     "varRefreshCmd": "print(var_dic_list())"
    },
    "r": {
     "delete_cmd_postfix": ") ",
     "delete_cmd_prefix": "rm(",
     "library": "var_list.r",
     "varRefreshCmd": "cat(var_dic_list()) "
    }
   },
   "types_to_exclude": [
    "module",
    "function",
    "builtin_function_or_method",
    "instance",
    "_Feature"
   ],
   "window_display": false
  }
 },
 "nbformat": 4,
 "nbformat_minor": 4
}
