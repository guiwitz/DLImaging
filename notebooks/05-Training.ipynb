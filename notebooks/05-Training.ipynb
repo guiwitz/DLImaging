{
 "cells": [
  {
   "cell_type": "markdown",
   "metadata": {},
   "source": [
    "# 5. Training a network"
   ]
  },
  {
   "cell_type": "markdown",
   "metadata": {},
   "source": [
    "Now that we know how to create a network, pass an input and an output, we only need to learn how to proceed for training and using it. Let's remember the different steps needed:"
   ]
  },
  {
   "cell_type": "code",
   "execution_count": 1,
   "metadata": {},
   "outputs": [
    {
     "data": {
      "text/html": [
       "<img src=\"https://github.com/guiwitz/DLImaging/raw/master/illustrations/ML_principle.jpg\" width=\"700\"/>"
      ],
      "text/plain": [
       "<IPython.core.display.Image object>"
      ]
     },
     "execution_count": 1,
     "metadata": {},
     "output_type": "execute_result"
    }
   ],
   "source": [
    "from IPython.display import Image\n",
    "\n",
    "# set path containing data folder or use default for Colab (/gdrive/My Drive)\n",
    "local_folder = \"../\"\n",
    "import urllib.request\n",
    "urllib.request.urlretrieve('https://raw.githubusercontent.com/guiwitz/DLImaging/master/utils/check_colab.py', 'check_colab.py')\n",
    "from check_colab import set_datapath\n",
    "colab, datapath = set_datapath(local_folder)\n",
    "\n",
    "Image(url='https://github.com/guiwitz/DLImaging/raw/master/illustrations/ML_principle.jpg',width=700)"
   ]
  },
  {
   "cell_type": "markdown",
   "metadata": {},
   "source": [
    "1. First we will pass training examples *forward* through the network\n",
    "2. We measure an error between prediction and true label, the loss\n",
    "3. We calculate the gradient of the loss respective to each parameter in the model. This is done by *backpropagation*\n",
    "4. We adjust the parameters using the calculated gradient and an optimizer (e.g. SGD)\n",
    "\n",
    "Additionally we will also see in this notebooks additional aspects such as training epochs and validation. The goal here is to once see the whole pipeline in detail before we start using tools that reduce some of the boiler-plate code necessary here."
   ]
  },
  {
   "cell_type": "markdown",
   "metadata": {},
   "source": [
    "## Mini-batches\n",
    "\n",
    "Before we create our network and define a loss, let's remember how training samples are passed through the network. In principle we want to do each optimization step for the **entire dataset** not just a single image as training would have a difficult time to converge. However this is usually not possible and and instead what is generally done is to use **mini-batches**, i.e. the network is iteratively trained on subsets of traininig examples. So now instead of using the gradients produced by a single image, one can use for example the average gradients over the mini-batch:"
   ]
  },
  {
   "cell_type": "code",
   "execution_count": 2,
   "metadata": {},
   "outputs": [
    {
     "data": {
      "text/html": [
       "<img src=\"https://github.com/guiwitz/DLImaging/raw/master/illustrations/batch_processing.jpg\" width=\"700\"/>"
      ],
      "text/plain": [
       "<IPython.core.display.Image object>"
      ]
     },
     "execution_count": 2,
     "metadata": {},
     "output_type": "execute_result"
    }
   ],
   "source": [
    "Image(url='https://github.com/guiwitz/DLImaging/raw/master/illustrations/batch_processing.jpg',width=700) "
   ]
  },
  {
   "cell_type": "markdown",
   "metadata": {},
   "source": [
    "PyTorch is in fact designed to handle batches *by default*. We can see that if we look at the documentation of modules such as ```nn.Linear``` which says that inputs should have the shape ```N x ...``` where ```N``` stands for batch size and ```...``` for other dimensions such as channels, samples etc. This applies in fact to all modules, including those calculating losses. We can therefore feed examples with dimensions ```N x ...``` and PyTorch handles batch calculations for us."
   ]
  },
  {
   "cell_type": "markdown",
   "metadata": {},
   "source": [
    "## Creating the network\n",
    "\n",
    "What does this mean for out network? We only have to make one slight modification. We used ```x.view(-1)``` previously to flatten 32x32 images into vectors of 1024 elements. If we now feed a batch of size Nx32x32, this would generate a long vector of size Nx1024. So we need to adjust the ```view()``` command and specify the size of the first dimension. In such a way only the image dimensions are flattened: ```x.view(batchsize, -1)```. Alternatively we can use ```torch.flatten(start_dim = 1)``` specifying from which dimension we want to start flattening:"
   ]
  },
  {
   "cell_type": "code",
   "execution_count": 10,
   "metadata": {},
   "outputs": [],
   "source": [
    "import torch\n",
    "from torch import nn\n",
    "from torch.functional import F"
   ]
  },
  {
   "cell_type": "code",
   "execution_count": 11,
   "metadata": {},
   "outputs": [],
   "source": [
    "class Mynetwork(nn.Module):\n",
    "    def __init__(self, input_size, num_categories):\n",
    "        super(Mynetwork, self).__init__()\n",
    "        \n",
    "        # define e.g. layers here e.g.\n",
    "        self.layer1 = nn.Linear(input_size, 100)\n",
    "        self.layer2 = nn.Linear(100, 100)\n",
    "        self.layer3 = nn.Linear(100, num_categories)\n",
    "\n",
    "    def forward(self, x):\n",
    "        \n",
    "        # flatten the input\n",
    "        x = x.flatten(start_dim=1)\n",
    "        # define the sequence of operations in the network including e.g. activations\n",
    "        x = F.relu(self.layer1(x))\n",
    "        x = F.relu(self.layer2(x))\n",
    "        x = self.layer3(x)\n",
    "        \n",
    "        return x"
   ]
  },
  {
   "cell_type": "markdown",
   "metadata": {},
   "source": [
    "And now we instantiate it with:"
   ]
  },
  {
   "cell_type": "code",
   "execution_count": 12,
   "metadata": {},
   "outputs": [],
   "source": [
    "model = Mynetwork(1024, 2)"
   ]
  },
  {
   "cell_type": "markdown",
   "metadata": {},
   "source": [
    "Let's check that inputs/outputs work as expected:"
   ]
  },
  {
   "cell_type": "code",
   "execution_count": 13,
   "metadata": {},
   "outputs": [
    {
     "data": {
      "text/plain": [
       "torch.Size([5, 32, 32])"
      ]
     },
     "execution_count": 13,
     "metadata": {},
     "output_type": "execute_result"
    }
   ],
   "source": [
    "myinput = torch.randn((5,32,32))\n",
    "myinput.size()"
   ]
  },
  {
   "cell_type": "code",
   "execution_count": 14,
   "metadata": {},
   "outputs": [
    {
     "data": {
      "text/plain": [
       "torch.Size([5, 2])"
      ]
     },
     "execution_count": 14,
     "metadata": {},
     "output_type": "execute_result"
    }
   ],
   "source": [
    "myoutput = model(myinput)\n",
    "myoutput.size()"
   ]
  },
  {
   "cell_type": "markdown",
   "metadata": {},
   "source": [
    "If we want to pass a single element, e.g. in the inference phase, then we still have to reshape it so that it has dimensions ```N x ...```. The first dimension will just have a size of 1. The simples to do that is to use ```unsqueeze()```:"
   ]
  },
  {
   "cell_type": "code",
   "execution_count": 15,
   "metadata": {},
   "outputs": [
    {
     "data": {
      "text/plain": [
       "torch.Size([32, 32])"
      ]
     },
     "execution_count": 15,
     "metadata": {},
     "output_type": "execute_result"
    }
   ],
   "source": [
    "myimage = torch.randn((32,32))\n",
    "myimage.size()"
   ]
  },
  {
   "cell_type": "code",
   "execution_count": 16,
   "metadata": {},
   "outputs": [
    {
     "data": {
      "text/plain": [
       "torch.Size([1, 32, 32])"
      ]
     },
     "execution_count": 16,
     "metadata": {},
     "output_type": "execute_result"
    }
   ],
   "source": [
    "myimage = myimage.unsqueeze(0)\n",
    "myimage.size()"
   ]
  },
  {
   "cell_type": "code",
   "execution_count": 17,
   "metadata": {},
   "outputs": [
    {
     "data": {
      "text/plain": [
       "torch.Size([1, 2])"
      ]
     },
     "execution_count": 17,
     "metadata": {},
     "output_type": "execute_result"
    }
   ],
   "source": [
    "output = model(myimage)\n",
    "output.size()"
   ]
  },
  {
   "cell_type": "markdown",
   "metadata": {},
   "source": [
    "## Defining a loss function and and backpropagating\n",
    "\n",
    "In this example, we are going to classify images. Therefore we can use a standard loss function like cross-entropy which is also available in the ```torch.nn``` module:"
   ]
  },
  {
   "cell_type": "code",
   "execution_count": 18,
   "metadata": {},
   "outputs": [],
   "source": [
    "criterion = nn.CrossEntropyLoss()"
   ]
  },
  {
   "cell_type": "code",
   "execution_count": 19,
   "metadata": {},
   "outputs": [
    {
     "data": {
      "text/plain": [
       "torch.nn.modules.loss.CrossEntropyLoss"
      ]
     },
     "execution_count": 19,
     "metadata": {},
     "output_type": "execute_result"
    }
   ],
   "source": [
    "type(criterion)"
   ]
  },
  {
   "cell_type": "markdown",
   "metadata": {},
   "source": [
    "We see that the loss function is also a module i.e. it is differentiable and can just be integrated in the network. Also it sticks to the same \"batch-logic\" as the other layers. Therefore it expects inputs whose dimensions start with ```N``` for bactches. What we need here is the output of the network of size ```N x C``` where C is the number of categories (2 in our example) and a list of target labels (\"true\" labels) which have of course to be turned into a tensor.\n",
    "\n",
    "We make up some data here:"
   ]
  },
  {
   "cell_type": "code",
   "execution_count": 20,
   "metadata": {},
   "outputs": [],
   "source": [
    "mysample = torch.randn(3, 32*32)\n",
    "mylabels = torch.tensor([0,1,1])"
   ]
  },
  {
   "cell_type": "markdown",
   "metadata": {},
   "source": [
    "We pass them through the network:"
   ]
  },
  {
   "cell_type": "code",
   "execution_count": 21,
   "metadata": {},
   "outputs": [],
   "source": [
    "output = model(mysample)"
   ]
  },
  {
   "cell_type": "markdown",
   "metadata": {},
   "source": [
    "And compare output to target with the cross-entropy module:"
   ]
  },
  {
   "cell_type": "code",
   "execution_count": 22,
   "metadata": {},
   "outputs": [],
   "source": [
    "loss = criterion(output, mylabels)"
   ]
  },
  {
   "cell_type": "markdown",
   "metadata": {},
   "source": [
    "Note that the ```CrossEntropyLoss``` module **automatically** applies soft-max to the output and then calculates the loss. So we **don't need** to have a soft-max layer at the end of our network."
   ]
  },
  {
   "cell_type": "markdown",
   "metadata": {},
   "source": [
    "Now that we have done the forward pass, we can calculate the gradients of the loss by backpropagation. This is simply done by calling the ```backward``` method:"
   ]
  },
  {
   "cell_type": "code",
   "execution_count": 23,
   "metadata": {},
   "outputs": [],
   "source": [
    "loss.backward()"
   ]
  },
  {
   "cell_type": "markdown",
   "metadata": {},
   "source": [
    "### Optimizer\n",
    "\n",
    "Now that we have an estimate of the loss and gradients, we can optimize all our paramters by using some optimization algorithm. Several are available in ```torch.optim```. We use here the Adam optimizer, one of the \"safest\" choices. As arguments we need to pass a list of parameters that need to be optimized. We can do that by recovering them from our model:"
   ]
  },
  {
   "cell_type": "code",
   "execution_count": 24,
   "metadata": {},
   "outputs": [
    {
     "data": {
      "text/plain": [
       "[Parameter containing:\n",
       " tensor([[-0.0274,  0.0152,  0.0056,  ..., -0.0029,  0.0126,  0.0256],\n",
       "         [-0.0014,  0.0168, -0.0170,  ..., -0.0104,  0.0176, -0.0168],\n",
       "         [-0.0101, -0.0104, -0.0165,  ...,  0.0123,  0.0062, -0.0237],\n",
       "         ...,\n",
       "         [-0.0039, -0.0304,  0.0112,  ...,  0.0303,  0.0042,  0.0226],\n",
       "         [ 0.0288, -0.0225,  0.0234,  ..., -0.0166, -0.0284,  0.0128],\n",
       "         [-0.0017,  0.0139,  0.0117,  ...,  0.0201,  0.0247, -0.0070]],\n",
       "        requires_grad=True),\n",
       " Parameter containing:\n",
       " tensor([-0.0122, -0.0055,  0.0247, -0.0007, -0.0065, -0.0270,  0.0085, -0.0277,\n",
       "          0.0213, -0.0139,  0.0052,  0.0030,  0.0101, -0.0065,  0.0134, -0.0265,\n",
       "          0.0262,  0.0109,  0.0175,  0.0157, -0.0265,  0.0153, -0.0070, -0.0234,\n",
       "         -0.0052,  0.0140,  0.0044, -0.0039, -0.0069, -0.0009, -0.0136,  0.0031,\n",
       "         -0.0176, -0.0272, -0.0048,  0.0108,  0.0142, -0.0071,  0.0255, -0.0142,\n",
       "          0.0133,  0.0146,  0.0105, -0.0095,  0.0312,  0.0179, -0.0124, -0.0202,\n",
       "         -0.0145, -0.0202,  0.0219,  0.0173,  0.0003, -0.0104, -0.0084,  0.0019,\n",
       "          0.0237, -0.0286, -0.0233,  0.0189, -0.0075, -0.0208,  0.0157,  0.0251,\n",
       "          0.0186, -0.0208, -0.0212, -0.0160, -0.0002,  0.0050, -0.0150, -0.0300,\n",
       "         -0.0229,  0.0181, -0.0201, -0.0059,  0.0219,  0.0017,  0.0169, -0.0077,\n",
       "          0.0246,  0.0019,  0.0069,  0.0205,  0.0061, -0.0284, -0.0061,  0.0187,\n",
       "         -0.0068,  0.0008, -0.0277,  0.0202, -0.0310,  0.0090, -0.0156,  0.0177,\n",
       "          0.0021,  0.0191,  0.0001,  0.0282], requires_grad=True),\n",
       " Parameter containing:\n",
       " tensor([[ 0.0267,  0.0750,  0.0953,  ..., -0.0904, -0.0922, -0.0075],\n",
       "         [-0.0766, -0.0220,  0.0731,  ...,  0.0267,  0.0688, -0.0117],\n",
       "         [-0.0624,  0.0761,  0.0822,  ..., -0.0306, -0.0644, -0.0727],\n",
       "         ...,\n",
       "         [-0.0617, -0.0690,  0.0481,  ...,  0.0294,  0.0835,  0.0196],\n",
       "         [-0.0352, -0.0223,  0.0219,  ..., -0.0466,  0.0588,  0.0782],\n",
       "         [ 0.0774, -0.0223,  0.0050,  ..., -0.0329,  0.0467, -0.0333]],\n",
       "        requires_grad=True),\n",
       " Parameter containing:\n",
       " tensor([ 0.0433, -0.0053, -0.0896, -0.0268, -0.0703, -0.0748,  0.0498, -0.0465,\n",
       "          0.0347, -0.0657, -0.0413,  0.0603,  0.0072,  0.0546, -0.0884,  0.0301,\n",
       "         -0.0154, -0.0987,  0.0239, -0.0314,  0.0583, -0.0311,  0.0964,  0.0480,\n",
       "          0.0812,  0.0544,  0.0852,  0.0113,  0.0606,  0.0197,  0.0312, -0.0685,\n",
       "         -0.0855,  0.0766, -0.0843,  0.0658, -0.0536, -0.0469, -0.0286,  0.0690,\n",
       "         -0.0412, -0.0941,  0.0780, -0.0778, -0.0024,  0.0194,  0.0274, -0.0527,\n",
       "          0.0926, -0.0519,  0.0521, -0.0112, -0.0570,  0.0666, -0.0593, -0.0825,\n",
       "          0.0553, -0.0321, -0.0301,  0.0968,  0.0407,  0.0072,  0.0786,  0.0811,\n",
       "          0.0628, -0.0213, -0.0216, -0.0202,  0.0808,  0.0854, -0.0871, -0.0718,\n",
       "          0.0014, -0.0600, -0.0865,  0.0456,  0.0574, -0.0526,  0.0927,  0.0913,\n",
       "         -0.0204,  0.0956, -0.0696,  0.0832,  0.0476,  0.0528,  0.0609,  0.0637,\n",
       "         -0.0105,  0.0637, -0.0810,  0.0912,  0.0299,  0.0104, -0.0448, -0.0759,\n",
       "         -0.0431, -0.0962,  0.0955, -0.0848], requires_grad=True),\n",
       " Parameter containing:\n",
       " tensor([[-0.0237, -0.0036, -0.0121, -0.0149,  0.0705, -0.0275, -0.0354,  0.0371,\n",
       "           0.0562,  0.0423, -0.0741, -0.0123,  0.0939,  0.0881,  0.0123,  0.0146,\n",
       "          -0.0219, -0.0150, -0.0718, -0.0773, -0.0648,  0.0419, -0.0110, -0.0402,\n",
       "           0.0995,  0.0814, -0.0108,  0.0975,  0.0728,  0.0705,  0.0592,  0.0367,\n",
       "          -0.0561,  0.0885, -0.0207, -0.0737, -0.0455,  0.0774,  0.0681, -0.0647,\n",
       "          -0.0409, -0.0831, -0.0716,  0.0322,  0.0926, -0.0974,  0.0570, -0.0895,\n",
       "           0.0909, -0.0248, -0.0242,  0.0605, -0.0649,  0.0482,  0.0576, -0.0126,\n",
       "           0.0549, -0.0550, -0.0698,  0.0273,  0.0351, -0.0989, -0.0542, -0.0136,\n",
       "           0.0761, -0.0888,  0.0950, -0.0725, -0.0412,  0.0131, -0.0144, -0.0101,\n",
       "           0.0540, -0.0626,  0.0969, -0.0252, -0.0324, -0.0106,  0.0526, -0.0456,\n",
       "          -0.0597,  0.0088,  0.0663,  0.0679, -0.0899,  0.0749,  0.0714, -0.0318,\n",
       "          -0.0104, -0.0360,  0.0931,  0.0783, -0.0427, -0.0039,  0.0039,  0.0977,\n",
       "          -0.0201, -0.0314, -0.0100,  0.0131],\n",
       "         [-0.0856,  0.0597, -0.0106, -0.0825,  0.0492,  0.0051, -0.0231, -0.0755,\n",
       "          -0.0243, -0.0747,  0.0661,  0.0442,  0.0661, -0.0651,  0.0940, -0.0476,\n",
       "           0.0975, -0.0758, -0.0720, -0.0525,  0.0145,  0.0089,  0.0841, -0.0867,\n",
       "          -0.0177, -0.0378, -0.0045, -0.0569, -0.0107, -0.0060,  0.0143,  0.0295,\n",
       "          -0.0002, -0.0039,  0.0025, -0.0047,  0.0483, -0.0307,  0.0375, -0.0809,\n",
       "          -0.0276,  0.0513,  0.0681, -0.0743, -0.0839, -0.0408,  0.0044, -0.0750,\n",
       "           0.0906, -0.0961, -0.0558, -0.0602,  0.0922, -0.0661, -0.0270, -0.0953,\n",
       "           0.0148,  0.0552,  0.0271,  0.0499,  0.0195, -0.0078, -0.0644, -0.0389,\n",
       "           0.0841, -0.0737,  0.0391, -0.0250, -0.0334,  0.0650, -0.0820, -0.0280,\n",
       "           0.0725,  0.0696, -0.0438, -0.0339, -0.0095, -0.0432,  0.0953, -0.0273,\n",
       "           0.0753,  0.0499, -0.0841, -0.0040,  0.0979, -0.0356, -0.0503,  0.0584,\n",
       "          -0.0571, -0.0389,  0.0899,  0.0181,  0.0454,  0.0182,  0.0939, -0.0418,\n",
       "          -0.0948,  0.0872,  0.0363, -0.0188]], requires_grad=True),\n",
       " Parameter containing:\n",
       " tensor([-0.0763, -0.0894], requires_grad=True)]"
      ]
     },
     "execution_count": 24,
     "metadata": {},
     "output_type": "execute_result"
    }
   ],
   "source": [
    "list(model.parameters())"
   ]
  },
  {
   "cell_type": "code",
   "execution_count": 25,
   "metadata": {},
   "outputs": [],
   "source": [
    "import torch.optim as optim\n",
    "\n",
    "optimizer = optim.Adam(model.parameters(), lr=0.001)"
   ]
  },
  {
   "cell_type": "markdown",
   "metadata": {},
   "source": [
    "Now we have to acutally do one step of optimization using the ```step``` method:"
   ]
  },
  {
   "cell_type": "code",
   "execution_count": 26,
   "metadata": {},
   "outputs": [],
   "source": [
    "optimizer.step()"
   ]
  },
  {
   "cell_type": "markdown",
   "metadata": {},
   "source": [
    "Let's check that some parameters have really changed:"
   ]
  },
  {
   "cell_type": "code",
   "execution_count": 27,
   "metadata": {},
   "outputs": [
    {
     "data": {
      "text/plain": [
       "[Parameter containing:\n",
       " tensor([[-0.0264,  0.0162,  0.0046,  ..., -0.0039,  0.0116,  0.0246],\n",
       "         [-0.0024,  0.0158, -0.0160,  ..., -0.0114,  0.0166, -0.0158],\n",
       "         [-0.0111, -0.0114, -0.0155,  ...,  0.0113,  0.0072, -0.0227],\n",
       "         ...,\n",
       "         [-0.0049, -0.0314,  0.0122,  ...,  0.0313,  0.0052,  0.0236],\n",
       "         [ 0.0298, -0.0215,  0.0224,  ..., -0.0156, -0.0274,  0.0118],\n",
       "         [-0.0007,  0.0149,  0.0107,  ...,  0.0211,  0.0257, -0.0080]],\n",
       "        requires_grad=True),\n",
       " Parameter containing:\n",
       " tensor([-1.1247e-02, -6.5313e-03,  2.3699e-02, -1.6781e-03, -7.4892e-03,\n",
       "         -2.7992e-02,  7.4765e-03, -2.8675e-02,  2.0316e-02, -1.2889e-02,\n",
       "          4.2284e-03,  2.0494e-03,  1.1066e-02, -5.4544e-03,  1.2351e-02,\n",
       "         -2.5544e-02,  2.6171e-02,  9.9048e-03,  1.8486e-02,  1.4749e-02,\n",
       "         -2.7507e-02,  1.6282e-02, -8.0221e-03, -2.4417e-02, -6.1554e-03,\n",
       "          1.4993e-02,  3.3583e-03, -2.8540e-03, -5.9054e-03,  9.4057e-05,\n",
       "         -1.2622e-02,  2.0653e-03, -1.6629e-02, -2.6229e-02, -4.7557e-03,\n",
       "          9.8049e-03,  1.3155e-02, -8.0741e-03,  2.4465e-02, -1.5245e-02,\n",
       "          1.4283e-02,  1.3634e-02,  1.1456e-02, -1.0463e-02,  3.0166e-02,\n",
       "          1.8856e-02, -1.1445e-02, -1.9209e-02, -1.3472e-02, -1.9212e-02,\n",
       "          2.0909e-02,  1.6326e-02, -6.8397e-04, -1.0449e-02, -9.3798e-03,\n",
       "          8.6719e-04,  2.2691e-02, -2.9628e-02, -2.2252e-02,  1.9938e-02,\n",
       "         -7.5444e-03, -1.9824e-02,  1.5661e-02,  2.4141e-02,  1.7616e-02,\n",
       "         -1.9797e-02, -2.0212e-02, -1.6023e-02,  7.6802e-04,  4.0007e-03,\n",
       "         -1.4018e-02, -3.0965e-02, -2.3869e-02,  1.9144e-02, -2.1081e-02,\n",
       "         -4.8626e-03,  2.2867e-02,  2.7318e-03,  1.5868e-02, -6.6797e-03,\n",
       "          2.5643e-02,  8.8671e-04,  7.8694e-03,  1.9546e-02,  5.0644e-03,\n",
       "         -2.7384e-02, -5.0888e-03,  1.7725e-02, -5.7514e-03, -1.6735e-04,\n",
       "         -2.8744e-02,  1.9165e-02, -3.2047e-02,  7.9849e-03, -1.4580e-02,\n",
       "          1.8748e-02,  3.0574e-03,  1.8073e-02,  1.1436e-03,  2.9155e-02],\n",
       "        requires_grad=True),\n",
       " Parameter containing:\n",
       " tensor([[ 0.0267,  0.0750,  0.0943,  ..., -0.0904, -0.0922, -0.0075],\n",
       "         [-0.0776, -0.0230,  0.0741,  ...,  0.0257,  0.0698, -0.0107],\n",
       "         [-0.0624,  0.0761,  0.0832,  ..., -0.0306, -0.0644, -0.0727],\n",
       "         ...,\n",
       "         [-0.0617, -0.0680,  0.0491,  ...,  0.0294,  0.0845,  0.0206],\n",
       "         [-0.0362, -0.0233,  0.0229,  ..., -0.0476,  0.0598,  0.0792],\n",
       "         [ 0.0784, -0.0213,  0.0040,  ..., -0.0319,  0.0457, -0.0343]],\n",
       "        requires_grad=True),\n",
       " Parameter containing:\n",
       " tensor([ 0.0423, -0.0043, -0.0886, -0.0278, -0.0713, -0.0738,  0.0508, -0.0465,\n",
       "          0.0337, -0.0667, -0.0413,  0.0613,  0.0062,  0.0536, -0.0884,  0.0291,\n",
       "         -0.0144, -0.0987,  0.0229, -0.0314,  0.0593, -0.0311,  0.0974,  0.0470,\n",
       "          0.0802,  0.0534,  0.0842,  0.0103,  0.0596,  0.0187,  0.0302, -0.0695,\n",
       "         -0.0845,  0.0756, -0.0843,  0.0668, -0.0526, -0.0479, -0.0276,  0.0680,\n",
       "         -0.0412, -0.0951,  0.0790, -0.0788, -0.0034,  0.0204,  0.0264, -0.0527,\n",
       "          0.0916, -0.0529,  0.0511, -0.0102, -0.0560,  0.0656, -0.0603, -0.0835,\n",
       "          0.0543, -0.0311, -0.0291,  0.0958,  0.0407,  0.0082,  0.0786,  0.0801,\n",
       "          0.0638, -0.0203, -0.0226, -0.0202,  0.0808,  0.0844, -0.0881, -0.0708,\n",
       "          0.0024, -0.0590, -0.0875,  0.0446,  0.0574, -0.0526,  0.0937,  0.0923,\n",
       "         -0.0194,  0.0966, -0.0706,  0.0822,  0.0486,  0.0518,  0.0599,  0.0647,\n",
       "         -0.0095,  0.0627, -0.0800,  0.0902,  0.0309,  0.0114, -0.0448, -0.0759,\n",
       "         -0.0441, -0.0952,  0.0965, -0.0858], requires_grad=True),\n",
       " Parameter containing:\n",
       " tensor([[-0.0247, -0.0026, -0.0131, -0.0159,  0.0695, -0.0285, -0.0364,  0.0371,\n",
       "           0.0552,  0.0413, -0.0741, -0.0133,  0.0929,  0.0871,  0.0123,  0.0136,\n",
       "          -0.0229, -0.0150, -0.0708, -0.0773, -0.0658,  0.0419, -0.0120, -0.0412,\n",
       "           0.0985,  0.0804, -0.0098,  0.0965,  0.0738,  0.0715,  0.0602,  0.0357,\n",
       "          -0.0571,  0.0875, -0.0207, -0.0727, -0.0465,  0.0784,  0.0691, -0.0657,\n",
       "          -0.0409, -0.0821, -0.0726,  0.0332,  0.0916, -0.0984,  0.0560, -0.0895,\n",
       "           0.0919, -0.0258, -0.0252,  0.0615, -0.0659,  0.0472,  0.0566, -0.0136,\n",
       "           0.0539, -0.0560, -0.0708,  0.0283,  0.0351, -0.0979, -0.0542, -0.0146,\n",
       "           0.0751, -0.0898,  0.0940, -0.0725, -0.0412,  0.0141, -0.0154, -0.0091,\n",
       "           0.0530, -0.0636,  0.0959, -0.0262, -0.0324, -0.0106,  0.0516, -0.0466,\n",
       "          -0.0587,  0.0078,  0.0653,  0.0669, -0.0909,  0.0739,  0.0704, -0.0308,\n",
       "          -0.0094, -0.0370,  0.0941,  0.0793, -0.0437, -0.0049,  0.0039,  0.0977,\n",
       "          -0.0211, -0.0324, -0.0110,  0.0121],\n",
       "         [-0.0846,  0.0587, -0.0096, -0.0815,  0.0502,  0.0061, -0.0221, -0.0755,\n",
       "          -0.0233, -0.0737,  0.0661,  0.0452,  0.0671, -0.0641,  0.0940, -0.0466,\n",
       "           0.0985, -0.0758, -0.0730, -0.0525,  0.0155,  0.0089,  0.0851, -0.0857,\n",
       "          -0.0167, -0.0368, -0.0055, -0.0559, -0.0117, -0.0070,  0.0133,  0.0305,\n",
       "           0.0008, -0.0029,  0.0025, -0.0057,  0.0493, -0.0317,  0.0365, -0.0799,\n",
       "          -0.0276,  0.0503,  0.0691, -0.0753, -0.0829, -0.0398,  0.0054, -0.0750,\n",
       "           0.0896, -0.0951, -0.0548, -0.0612,  0.0932, -0.0651, -0.0260, -0.0943,\n",
       "           0.0158,  0.0562,  0.0281,  0.0489,  0.0195, -0.0088, -0.0644, -0.0379,\n",
       "           0.0851, -0.0727,  0.0401, -0.0250, -0.0334,  0.0640, -0.0810, -0.0290,\n",
       "           0.0735,  0.0706, -0.0428, -0.0329, -0.0095, -0.0432,  0.0963, -0.0263,\n",
       "           0.0743,  0.0509, -0.0831, -0.0030,  0.0989, -0.0346, -0.0493,  0.0574,\n",
       "          -0.0581, -0.0379,  0.0889,  0.0171,  0.0464,  0.0192,  0.0939, -0.0418,\n",
       "          -0.0938,  0.0882,  0.0373, -0.0178]], requires_grad=True),\n",
       " Parameter containing:\n",
       " tensor([-0.0773, -0.0884], requires_grad=True)]"
      ]
     },
     "execution_count": 27,
     "metadata": {},
     "output_type": "execute_result"
    }
   ],
   "source": [
    "list(model.parameters())"
   ]
  },
  {
   "cell_type": "markdown",
   "metadata": {},
   "source": [
    "## Measuring accuracy\n",
    "\n",
    "We use the cross-entropy as loss because it allows us to optimize our network. However what we are ultimately interested in is the **accuracy** of our model i.e. whether the correct label has been found or not. Such a binary answer is not useful for optimization but is what we want to monitor in the end. Let's generate some random data and see how we can calculate this:"
   ]
  },
  {
   "cell_type": "code",
   "execution_count": 28,
   "metadata": {},
   "outputs": [],
   "source": [
    "myimages = torch.randn((3,32,32))\n",
    "labels = torch.randint(0,2,(3,))"
   ]
  },
  {
   "cell_type": "code",
   "execution_count": 29,
   "metadata": {},
   "outputs": [
    {
     "data": {
      "text/plain": [
       "tensor([0, 1, 0])"
      ]
     },
     "execution_count": 29,
     "metadata": {},
     "output_type": "execute_result"
    }
   ],
   "source": [
    "labels"
   ]
  },
  {
   "cell_type": "code",
   "execution_count": 30,
   "metadata": {},
   "outputs": [
    {
     "data": {
      "text/plain": [
       "tensor([[-0.0445,  0.0200],\n",
       "        [ 0.0951, -0.0048],\n",
       "        [ 0.0114, -0.0642]], grad_fn=<AddmmBackward>)"
      ]
     },
     "execution_count": 30,
     "metadata": {},
     "output_type": "execute_result"
    }
   ],
   "source": [
    "output = model(myimages)\n",
    "output"
   ]
  },
  {
   "cell_type": "markdown",
   "metadata": {},
   "source": [
    "The predicted category is the one with the highest probability (not normalized here but it doesn't matter). We can therefore just look for the index of the maximum value along the horizontal dimension:"
   ]
  },
  {
   "cell_type": "code",
   "execution_count": 31,
   "metadata": {},
   "outputs": [
    {
     "data": {
      "text/plain": [
       "tensor([1, 0, 0])"
      ]
     },
     "execution_count": 31,
     "metadata": {},
     "output_type": "execute_result"
    }
   ],
   "source": [
    "output.argmax(dim=1)"
   ]
  },
  {
   "cell_type": "markdown",
   "metadata": {},
   "source": [
    "Now we can compare prediction and true label:"
   ]
  },
  {
   "cell_type": "code",
   "execution_count": 32,
   "metadata": {},
   "outputs": [
    {
     "data": {
      "text/plain": [
       "tensor([False, False,  True])"
      ]
     },
     "execution_count": 32,
     "metadata": {},
     "output_type": "execute_result"
    }
   ],
   "source": [
    "labels == output.argmax(dim=1)"
   ]
  },
  {
   "cell_type": "markdown",
   "metadata": {},
   "source": [
    "If we take the sum over this tensor, it tells us how many samples in the batch were correctly predicted and the average accuracy is:"
   ]
  },
  {
   "cell_type": "code",
   "execution_count": 33,
   "metadata": {},
   "outputs": [
    {
     "data": {
      "text/plain": [
       "tensor(0.3333)"
      ]
     },
     "execution_count": 33,
     "metadata": {},
     "output_type": "execute_result"
    }
   ],
   "source": [
    "(labels == output.argmax(dim=1)).sum()/3"
   ]
  },
  {
   "cell_type": "markdown",
   "metadata": {},
   "source": [
    "## Dataset\n",
    "\n",
    "Now that we know that all steps work, we want to test our network. We will create a synthetic dataset for that using ```skimage.draw```. We will just generate random images with either circles or triangles. As we have an \"infinite\" amount of data available, we just artificially set a size for our dataset.\n",
    "\n",
    "Don't forget that we need a training and a validation dataset. Every time we have trained the network with the whole training dataset we check prediction quality with the validation dataset to make sure e.g. we are not over-fitting."
   ]
  },
  {
   "cell_type": "code",
   "execution_count": 34,
   "metadata": {},
   "outputs": [],
   "source": [
    "from skimage.draw import random_shapes\n",
    "import matplotlib.pyplot as plt\n",
    "import numpy as np"
   ]
  },
  {
   "cell_type": "markdown",
   "metadata": {},
   "source": [
    "The following function takes as input a keyword - ```triangle```, ```circle```, etc. - and outputs an image with that object as a PyTorch tensor:"
   ]
  },
  {
   "cell_type": "code",
   "execution_count": 75,
   "metadata": {},
   "outputs": [],
   "source": [
    "def make_image(shape, imsize):\n",
    "    \"\"\"Generate image of given shape scaled 0-1.\n",
    "    shape: str\n",
    "        shape to draw (circle, triangle, rectangle)\n",
    "    imsize: int\n",
    "        size of image\n",
    "    \"\"\"\n",
    "    \n",
    "    image, _ = random_shapes((imsize,imsize),max_shapes=1, min_shapes=1, multichannel=False, shape=shape,\n",
    "                                min_size=8)\n",
    "    #normalize\n",
    "    image = (255-image)/255\n",
    "\n",
    "    # turn into tensor\n",
    "    image_tensor = torch.tensor(image,dtype=torch.float32)\n",
    "    \n",
    "    return image_tensor"
   ]
  },
  {
   "cell_type": "markdown",
   "metadata": {},
   "source": [
    "To create pairs of images and labels we simply create a list of possible shapes and randomly pick values from there. We should also not forget to transform the label into a tensor. Let's make a single image:"
   ]
  },
  {
   "cell_type": "code",
   "execution_count": 76,
   "metadata": {},
   "outputs": [],
   "source": [
    "im_type = ['circle', 'triangle','rectangle']\n",
    "num_cat = len(im_type)\n",
    "image_size = 32\n",
    "\n",
    "label = torch.randint(0,num_cat,(1,))\n",
    "image = make_image(im_type[label], image_size)"
   ]
  },
  {
   "cell_type": "code",
   "execution_count": 77,
   "metadata": {},
   "outputs": [
    {
     "data": {
      "image/png": "[encoded data removed]",
      "text/plain": [
       "<Figure size 432x288 with 1 Axes>"
      ]
     },
     "metadata": {
      "needs_background": "light"
     },
     "output_type": "display_data"
    }
   ],
   "source": [
    "fig, ax = plt.subplots()\n",
    "ax.imshow(image)\n",
    "ax.set_title(im_type[label]);"
   ]
  },
  {
   "cell_type": "markdown",
   "metadata": {},
   "source": [
    "We want to train our network using mini-batches, and each batch should have a size ```N x H x W``` where ```N``` is the batch size and ```H,W``` the image dimension. We can create a batch by stacking multiple 2D tensors together:"
   ]
  },
  {
   "cell_type": "code",
   "execution_count": 78,
   "metadata": {},
   "outputs": [
    {
     "data": {
      "text/plain": [
       "torch.Size([10, 32, 32])"
      ]
     },
     "execution_count": 78,
     "metadata": {},
     "output_type": "execute_result"
    }
   ],
   "source": [
    "batch_size = 10\n",
    "single_batch = torch.stack([make_image('circle', image_size) for x in range(batch_size)])\n",
    "single_batch.size()"
   ]
  },
  {
   "cell_type": "markdown",
   "metadata": {},
   "source": [
    "Of course we want to mix the different image types, so we generate labels of size ```batch_size``` as well:"
   ]
  },
  {
   "cell_type": "code",
   "execution_count": 79,
   "metadata": {},
   "outputs": [
    {
     "data": {
      "image/png": "[encoded data removed]",
      "text/plain": [
       "<Figure size 432x288 with 4 Axes>"
      ]
     },
     "metadata": {
      "needs_background": "light"
     },
     "output_type": "display_data"
    }
   ],
   "source": [
    "label = torch.randint(0,num_cat,(batch_size,))\n",
    "single_batch = torch.stack([make_image(im_type[x], image_size) for x in label])\n",
    "\n",
    "fig, ax = plt.subplots(1,4)\n",
    "for x in range(4):\n",
    "    ax[x].imshow(single_batch[x,:,:])"
   ]
  },
  {
   "cell_type": "markdown",
   "metadata": {},
   "source": [
    "Finally we can create our full dataset (as a list of tensors) by generating ```M``` bachtes in order to have ```M x N``` training examples:"
   ]
  },
  {
   "cell_type": "code",
   "execution_count": 80,
   "metadata": {},
   "outputs": [],
   "source": [
    "# size of training dataset\n",
    "batch_size = 10\n",
    "training_size = 5000\n",
    "validation_size = 100\n",
    "train_batch_number = int(training_size/batch_size)\n",
    "validation_batch_number = int(validation_size/batch_size)\n",
    "\n",
    "training_label = [torch.randint(0,num_cat,(batch_size,)) for i in range(train_batch_number)]\n",
    "validation_label = [torch.randint(0,num_cat,(batch_size,)) for i in range(validation_batch_number)]\n",
    "\n",
    "train_batches = [torch.stack([make_image(im_type[x], image_size) for x in lab]) for lab in training_label]\n",
    "valid_batches = [torch.stack([make_image(im_type[x], image_size) for x in lab]) for lab in validation_label]\n"
   ]
  },
  {
   "cell_type": "markdown",
   "metadata": {},
   "source": [
    "## Training loop\n",
    "\n",
    "Now we can create a loop where we iterate through our batches to train our network and go through the steps defined above. We will do two loops: \n",
    "1. Over epochs: one epoch representing a training step over **all batches**\n",
    "2. Over batches\n",
    "\n",
    "We do validation only once per epoch to see how training goes."
   ]
  },
  {
   "cell_type": "code",
   "execution_count": 65,
   "metadata": {},
   "outputs": [
    {
     "name": "stdout",
     "output_type": "stream",
     "text": [
      "epoch: 0\n",
      "valid_accuracy: 0.7200000286102295\n",
      "epoch: 1\n",
      "valid_accuracy: 0.7599999308586121\n"
     ]
    }
   ],
   "source": [
    "#del model\n",
    "model = Mynetwork(1024, 3)\n",
    "optimizer = optim.Adam(model.parameters(), lr=0.001)\n",
    "\n",
    "for epoch in range(2):\n",
    "    \n",
    "    print(f'epoch: {epoch}')\n",
    "    \n",
    "    # initialize running accuracy\n",
    "    running_accuracy = 0\n",
    "    \n",
    "    for t in range(train_batch_number):\n",
    "    \n",
    "        # get batch\n",
    "        label = training_label[t]\n",
    "        mybatch = train_batches[t]\n",
    "\n",
    "        # calculate predicted label and calculate loss\n",
    "        pred = model(mybatch)\n",
    "        loss = criterion(pred, label)\n",
    "\n",
    "        # backpropagate the loss\n",
    "        loss.backward()\n",
    "\n",
    "        # do the optimization step\n",
    "        optimizer.step()\n",
    "\n",
    "        # set gradients to zero as PyTorch accumulates them otherwise\n",
    "        optimizer.zero_grad()\n",
    "\n",
    "        # calculate accuracy\n",
    "        mean_accuracy = (torch.argmax(pred,dim=1) == label).sum()/batch_size\n",
    "        running_accuracy+=mean_accuracy\n",
    "\n",
    "        every_nth = 1000\n",
    "        if t % every_nth == every_nth-1: \n",
    "            print(f'accuracy: {running_accuracy/every_nth}')\n",
    "            running_accuracy = 0.0\n",
    "    \n",
    "    # validation\n",
    "    valid_accuracy = 0\n",
    "    for t in range(validation_batch_number):\n",
    "    \n",
    "        # get batch\n",
    "        label = validation_label[t]\n",
    "        mybatch = valid_batches[t]\n",
    "\n",
    "        # calculate predicted label\n",
    "        pred = model(mybatch)\n",
    "        # calculate accuracy\n",
    "        mean_accuracy = (torch.argmax(pred,dim=1) == label).sum()/batch_size\n",
    "        valid_accuracy += mean_accuracy\n",
    "    valid_accuracy = valid_accuracy/validation_batch_number\n",
    "    print(f'valid_accuracy: {valid_accuracy}')"
   ]
  },
  {
   "cell_type": "markdown",
   "metadata": {},
   "source": [
    "We see that accuracy improves but not to a perfect level. We can try to increase the number of epochs or the training size. We can also try to understand where the problem is. For example we can try to find out which images are most mis-classified using a confusion matrix from scikit-learn."
   ]
  },
  {
   "cell_type": "code",
   "execution_count": 66,
   "metadata": {},
   "outputs": [],
   "source": [
    "from sklearn.metrics import confusion_matrix\n",
    "import pandas as pd\n",
    "import seaborn as sn"
   ]
  },
  {
   "cell_type": "markdown",
   "metadata": {},
   "source": [
    "We generate a test batch and obtain a prediction with our model:"
   ]
  },
  {
   "cell_type": "code",
   "execution_count": 81,
   "metadata": {},
   "outputs": [],
   "source": [
    "label = torch.randint(0,len(im_type),(100,))\n",
    "mybatch = torch.stack([make_image(im_type[x], image_size) for x in label])\n",
    "pred = model(mybatch)"
   ]
  },
  {
   "cell_type": "markdown",
   "metadata": {},
   "source": [
    "Again the maximum index for each element of the batch gives us the final class:"
   ]
  },
  {
   "cell_type": "code",
   "execution_count": 68,
   "metadata": {},
   "outputs": [
    {
     "data": {
      "text/plain": [
       "tensor([1, 0, 1, 1, 1, 0, 1, 2, 1, 2, 0, 1, 1, 0, 1, 2, 1, 2, 2, 1, 1, 1, 0, 1,\n",
       "        2, 1, 2, 1, 2, 2, 2, 2, 0, 1, 0, 2, 2, 2, 1, 1, 1, 2, 1, 1, 0, 2, 2, 1,\n",
       "        0, 1, 2, 1, 2, 0, 0, 1, 0, 2, 1, 0, 0, 2, 0, 0, 2, 0, 0, 1, 2, 2, 2, 1,\n",
       "        1, 2, 1, 2, 1, 1, 1, 0, 2, 0, 0, 1, 1, 1, 1, 2, 2, 2, 2, 1, 1, 0, 1, 0,\n",
       "        1, 1, 0, 2])"
      ]
     },
     "execution_count": 68,
     "metadata": {},
     "output_type": "execute_result"
    }
   ],
   "source": [
    "pred.argmax(dim=1)"
   ]
  },
  {
   "cell_type": "code",
   "execution_count": 69,
   "metadata": {},
   "outputs": [
    {
     "data": {
      "text/plain": [
       "tensor([0, 2, 1, 2, 1, 0, 1, 0, 1, 2, 2, 1, 0, 0, 1, 2, 1, 2, 2, 1, 1, 1, 2, 1,\n",
       "        2, 1, 2, 1, 2, 2, 2, 2, 0, 0, 2, 2, 2, 2, 1, 0, 1, 0, 1, 0, 0, 2, 2, 1,\n",
       "        0, 1, 2, 0, 2, 2, 2, 1, 0, 2, 0, 0, 0, 2, 0, 2, 2, 0, 0, 1, 2, 2, 2, 1,\n",
       "        0, 0, 1, 0, 0, 2, 1, 2, 2, 0, 2, 1, 1, 1, 0, 2, 2, 2, 2, 1, 0, 0, 0, 0,\n",
       "        1, 1, 0, 2])"
      ]
     },
     "execution_count": 69,
     "metadata": {},
     "output_type": "execute_result"
    }
   ],
   "source": [
    "label"
   ]
  },
  {
   "cell_type": "markdown",
   "metadata": {},
   "source": [
    "Let's calcualte the confusion matrix and transform it into a Dataframe that we can then easily plot with seaborn:"
   ]
  },
  {
   "cell_type": "code",
   "execution_count": 70,
   "metadata": {},
   "outputs": [],
   "source": [
    "df_cm = pd.DataFrame(confusion_matrix(pred.argmax(dim=1), label), index = im_type,\n",
    "                  columns = im_type)"
   ]
  },
  {
   "cell_type": "code",
   "execution_count": 71,
   "metadata": {},
   "outputs": [
    {
     "data": {
      "image/png": "[encoded data removed]",
      "text/plain": [
       "<Figure size 720x504 with 2 Axes>"
      ]
     },
     "metadata": {
      "needs_background": "light"
     },
     "output_type": "display_data"
    }
   ],
   "source": [
    "plt.figure(figsize = (10,7))\n",
    "sn.heatmap(df_cm, annot=True);"
   ]
  },
  {
   "cell_type": "markdown",
   "metadata": {},
   "source": [
    "We see that the problem is mostly the circle. Because we use a tiny image, small circles are not smooth and can look like rectangles or triangles."
   ]
  },
  {
   "cell_type": "markdown",
   "metadata": {},
   "source": [
    "## Exercises\n",
    "\n",
    "1. Re-use the network you have create for the exercise 4. Make sure it can take **batches** of 2D images as input.\n",
    "2. Create an image generator which creates black (value=0) images (2D tensors) with a single white (value=1) line which is vertical (class #1) or horizontal (class #2)\n",
    "3. Create training and validation data generators\n",
    "4. Add a training loop and train. Verify that the nework works\n",
    "5. \"Bonus\": try to add various levels of noise to the image and see how prediction is affected"
   ]
  }
 ],
 "metadata": {
  "kernelspec": {
   "display_name": "Python 3",
   "language": "python",
   "name": "python3"
  },
  "language_info": {
   "codemirror_mode": {
    "name": "ipython",
    "version": 3
   },
   "file_extension": ".py",
   "mimetype": "text/x-python",
   "name": "python",
   "nbconvert_exporter": "python",
   "pygments_lexer": "ipython3",
   "version": "3.8.6"
  },
  "toc": {
   "base_numbering": 1,
   "nav_menu": {},
   "number_sections": false,
   "sideBar": true,
   "skip_h1_title": false,
   "title_cell": "Table of Contents",
   "title_sidebar": "Contents",
   "toc_cell": false,
   "toc_position": {},
   "toc_section_display": true,
   "toc_window_display": true
  },
  "varInspector": {
   "cols": {
    "lenName": 16,
    "lenType": 16,
    "lenVar": 40
   },
   "kernels_config": {
    "python": {
     "delete_cmd_postfix": "",
     "delete_cmd_prefix": "del ",
     "library": "var_list.py",
     "varRefreshCmd": "print(var_dic_list())"
    },
    "r": {
     "delete_cmd_postfix": ") ",
     "delete_cmd_prefix": "rm(",
     "library": "var_list.r",
     "varRefreshCmd": "cat(var_dic_list()) "
    }
   },
   "types_to_exclude": [
    "module",
    "function",
    "builtin_function_or_method",
    "instance",
    "_Feature"
   ],
   "window_display": false
  }
 },
 "nbformat": 4,
 "nbformat_minor": 4
}
