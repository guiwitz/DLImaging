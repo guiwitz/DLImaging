{
  "cells": [
    {
      "cell_type": "markdown",
      "metadata": {
        "id": "9Pmzls8oRqjb"
      },
      "source": [
        "[![Open In Colab](https://colab.research.google.com/assets/colab-badge.svg)](https://colab.research.google.com/github/guiwitz/DLImaging/blob/master/notebooks/05-Training.ipynb)\n",
        "# 5. Training a network"
      ]
    },
    {
      "cell_type": "markdown",
      "metadata": {
        "id": "Pj8RNCKJRqjc"
      },
      "source": [
        "Now that we know how to create a network, pass an input and an output, we only need to learn how to proceed for training and using it. Let's remember the different steps needed:"
      ]
    },
    {
      "cell_type": "code",
      "execution_count": 1,
      "metadata": {
        "id": "LpptNa2aRqjc",
        "outputId": "e1a4fefa-940a-48ef-93b8-24e5b50aa0ac",
        "colab": {
          "base_uri": "https://localhost:8080/",
          "height": 533
        }
      },
      "outputs": [
        {
          "output_type": "stream",
          "name": "stdout",
          "text": [
            "Mounted at /gdrive\n"
          ]
        },
        {
          "output_type": "execute_result",
          "data": {
            "text/html": [
              "<img src=\"https://github.com/guiwitz/DLImaging/raw/master/illustrations/ML_principle.jpg\" width=\"700\"/>"
            ],
            "text/plain": [
              "<IPython.core.display.Image object>"
            ]
          },
          "metadata": {},
          "execution_count": 1
        }
      ],
      "source": [
        "from IPython.display import Image\n",
        "\n",
        "# set path containing data folder or use default for Colab (/gdrive/My Drive)\n",
        "local_folder = \"../\"\n",
        "import urllib.request\n",
        "urllib.request.urlretrieve('https://raw.githubusercontent.com/guiwitz/DLImaging/master/utils/check_colab.py', 'check_colab.py')\n",
        "from check_colab import set_datapath\n",
        "colab, datapath = set_datapath(local_folder)\n",
        "\n",
        "Image(url='https://github.com/guiwitz/DLImaging/raw/master/illustrations/ML_principle.jpg',width=700)"
      ]
    },
    {
      "cell_type": "markdown",
      "metadata": {
        "id": "tsOu6ecxRqjf"
      },
      "source": [
        "1. First we will pass training examples *forward* through the network\n",
        "2. We measure an error between prediction and true label, the loss\n",
        "3. We calculate the gradient of the loss respective to each parameter in the model. This is done by *backpropagation*\n",
        "4. We adjust the parameters using the calculated gradient and an optimizer (e.g. SGD)\n",
        "\n",
        "Additionally we will also see in this notebooks additional aspects such as training epochs and validation. The goal here is to once see the whole pipeline in detail before we start using tools that reduce some of the boiler-plate code necessary here."
      ]
    },
    {
      "cell_type": "markdown",
      "metadata": {
        "id": "VXPzYURmRqjf"
      },
      "source": [
        "## Mini-batches\n",
        "\n",
        "Before we create our network and define a loss, let's remember how training samples are passed through the network. In principle we want to do each optimization step for the **entire dataset** not just a single image as training would have a difficult time to converge. However this is usually not possible and and instead what is generally done is to use **mini-batches**, i.e. the network is iteratively trained on subsets of traininig examples. So now instead of using the gradients produced by a single image, one can use for example the average gradients over the mini-batch:"
      ]
    },
    {
      "cell_type": "code",
      "execution_count": 2,
      "metadata": {
        "id": "QvEwqpJPRqjg",
        "outputId": "b69a6a9e-6f0a-4728-f999-6505335e48e7",
        "colab": {
          "base_uri": "https://localhost:8080/",
          "height": 516
        }
      },
      "outputs": [
        {
          "output_type": "execute_result",
          "data": {
            "text/html": [
              "<img src=\"https://github.com/guiwitz/DLImaging/raw/master/illustrations/batch_processing.jpg\" width=\"700\"/>"
            ],
            "text/plain": [
              "<IPython.core.display.Image object>"
            ]
          },
          "metadata": {},
          "execution_count": 2
        }
      ],
      "source": [
        "Image(url='https://github.com/guiwitz/DLImaging/raw/master/illustrations/batch_processing.jpg',width=700) "
      ]
    },
    {
      "cell_type": "markdown",
      "metadata": {
        "id": "kfOnqmQrRqjh"
      },
      "source": [
        "PyTorch is in fact designed to handle batches *by default*. We can see that if we look at the documentation of modules such as ```nn.Linear``` which says that inputs should have the shape ```N x ...``` where ```N``` stands for batch size and ```...``` for other dimensions such as channels, samples etc. This applies in fact to all modules, including those calculating losses. We can therefore feed examples with dimensions ```N x ...``` and PyTorch handles batch calculations for us."
      ]
    },
    {
      "cell_type": "markdown",
      "metadata": {
        "id": "vEus-FJtRqjh"
      },
      "source": [
        "## Creating the network\n",
        "\n",
        "What does this mean for out network? We only have to make one slight modification. We used ```x.view(-1)``` previously to flatten 32x32 images into vectors of 1024 elements. If we now feed a batch of size Nx32x32, this would generate a long vector of size Nx1024. So we need to adjust the ```view()``` command and specify the size of the first dimension. In such a way only the image dimensions are flattened: ```x.view(batchsize, -1)```. Alternatively we can use ```torch.flatten(start_dim = 1)``` specifying from which dimension we want to start flattening:"
      ]
    },
    {
      "cell_type": "code",
      "execution_count": 3,
      "metadata": {
        "id": "iZz26ZVoRqji"
      },
      "outputs": [],
      "source": [
        "import torch\n",
        "from torch import nn\n",
        "from torch.functional import F"
      ]
    },
    {
      "cell_type": "code",
      "execution_count": 4,
      "metadata": {
        "id": "GTUiA0SWRqji"
      },
      "outputs": [],
      "source": [
        "class Mynetwork(nn.Module):\n",
        "    def __init__(self, input_size, num_categories):\n",
        "        super(Mynetwork, self).__init__()\n",
        "        \n",
        "        # define e.g. layers here e.g.\n",
        "        self.layer1 = nn.Linear(input_size, 100)\n",
        "        self.layer2 = nn.Linear(100, 100)\n",
        "        self.layer3 = nn.Linear(100, num_categories)\n",
        "\n",
        "    def forward(self, x):\n",
        "        \n",
        "        # flatten the input\n",
        "        x = x.flatten(start_dim=1)\n",
        "        # define the sequence of operations in the network including e.g. activations\n",
        "        x = F.relu(self.layer1(x))\n",
        "        x = F.relu(self.layer2(x))\n",
        "        x = self.layer3(x)\n",
        "        \n",
        "        return x"
      ]
    },
    {
      "cell_type": "markdown",
      "metadata": {
        "id": "Sy7kdB1KRqjj"
      },
      "source": [
        "And now we instantiate it with:"
      ]
    },
    {
      "cell_type": "code",
      "execution_count": 5,
      "metadata": {
        "id": "fwWpjYDPRqjj"
      },
      "outputs": [],
      "source": [
        "model = Mynetwork(1024, 2)"
      ]
    },
    {
      "cell_type": "markdown",
      "metadata": {
        "id": "TJRE3AYwRqjk"
      },
      "source": [
        "Let's check that inputs/outputs work as expected:"
      ]
    },
    {
      "cell_type": "code",
      "execution_count": 6,
      "metadata": {
        "id": "4Gy2SvwuRqjk",
        "outputId": "e642a56d-2886-4140-923e-44239488a2b6",
        "colab": {
          "base_uri": "https://localhost:8080/"
        }
      },
      "outputs": [
        {
          "output_type": "execute_result",
          "data": {
            "text/plain": [
              "torch.Size([5, 32, 32])"
            ]
          },
          "metadata": {},
          "execution_count": 6
        }
      ],
      "source": [
        "myinput = torch.randn((5,32,32))\n",
        "myinput.size()"
      ]
    },
    {
      "cell_type": "code",
      "execution_count": 7,
      "metadata": {
        "id": "x2oM2dcmRqjl",
        "outputId": "2ba40cc3-1751-4e48-c452-b4b1903fa117",
        "colab": {
          "base_uri": "https://localhost:8080/"
        }
      },
      "outputs": [
        {
          "output_type": "execute_result",
          "data": {
            "text/plain": [
              "torch.Size([5, 2])"
            ]
          },
          "metadata": {},
          "execution_count": 7
        }
      ],
      "source": [
        "myoutput = model(myinput)\n",
        "myoutput.size()"
      ]
    },
    {
      "cell_type": "markdown",
      "metadata": {
        "id": "55hgemesRqjm"
      },
      "source": [
        "If we want to pass a single element, e.g. in the inference phase, then we still have to reshape it so that it has dimensions ```N x ...```. The first dimension will just have a size of 1. The simples to do that is to use ```unsqueeze()```:"
      ]
    },
    {
      "cell_type": "code",
      "execution_count": 8,
      "metadata": {
        "id": "4s3QU1qwRqjm",
        "outputId": "9fd750e6-c158-49a8-988b-28f2223dd9cb",
        "colab": {
          "base_uri": "https://localhost:8080/"
        }
      },
      "outputs": [
        {
          "output_type": "execute_result",
          "data": {
            "text/plain": [
              "torch.Size([32, 32])"
            ]
          },
          "metadata": {},
          "execution_count": 8
        }
      ],
      "source": [
        "myimage = torch.randn((32,32))\n",
        "myimage.size()"
      ]
    },
    {
      "cell_type": "code",
      "execution_count": 9,
      "metadata": {
        "id": "DKx7tbt2Rqjn",
        "outputId": "c6c9980a-6f9e-4560-ab54-909518f78bdb",
        "colab": {
          "base_uri": "https://localhost:8080/"
        }
      },
      "outputs": [
        {
          "output_type": "execute_result",
          "data": {
            "text/plain": [
              "torch.Size([1, 32, 32])"
            ]
          },
          "metadata": {},
          "execution_count": 9
        }
      ],
      "source": [
        "myimage = myimage.unsqueeze(0)\n",
        "myimage.size()"
      ]
    },
    {
      "cell_type": "code",
      "execution_count": 10,
      "metadata": {
        "id": "nEcFqMToRqjo",
        "outputId": "cc557793-5317-4666-e937-81d61f3c046d",
        "colab": {
          "base_uri": "https://localhost:8080/"
        }
      },
      "outputs": [
        {
          "output_type": "execute_result",
          "data": {
            "text/plain": [
              "torch.Size([1, 2])"
            ]
          },
          "metadata": {},
          "execution_count": 10
        }
      ],
      "source": [
        "output = model(myimage)\n",
        "output.size()"
      ]
    },
    {
      "cell_type": "markdown",
      "metadata": {
        "id": "efspNuAmRqjo"
      },
      "source": [
        "## Defining a loss function and and backpropagating\n",
        "\n",
        "In this example, we are going to classify images. Therefore we can use a standard loss function like cross-entropy which is also available in the ```torch.nn``` module:"
      ]
    },
    {
      "cell_type": "code",
      "execution_count": 11,
      "metadata": {
        "id": "9tARoeCdRqjp"
      },
      "outputs": [],
      "source": [
        "criterion = nn.CrossEntropyLoss()"
      ]
    },
    {
      "cell_type": "code",
      "execution_count": 12,
      "metadata": {
        "id": "0j8IlRYwRqjp",
        "outputId": "e0e6a755-cf05-42bf-cfd4-53da59697d2b",
        "colab": {
          "base_uri": "https://localhost:8080/"
        }
      },
      "outputs": [
        {
          "output_type": "execute_result",
          "data": {
            "text/plain": [
              "torch.nn.modules.loss.CrossEntropyLoss"
            ]
          },
          "metadata": {},
          "execution_count": 12
        }
      ],
      "source": [
        "type(criterion)"
      ]
    },
    {
      "cell_type": "markdown",
      "metadata": {
        "id": "6dwb9ydJRqjp"
      },
      "source": [
        "We see that the loss function is also a module i.e. it is differentiable and can just be integrated in the network. Also it sticks to the same \"batch-logic\" as the other layers. Therefore it expects inputs whose dimensions start with ```N``` for bactches. What we need here is the output of the network of size ```N x C``` where C is the number of categories (2 in our example) and a list of target labels (\"true\" labels) which have of course to be turned into a tensor.\n",
        "\n",
        "We make up some data here:"
      ]
    },
    {
      "cell_type": "code",
      "execution_count": 13,
      "metadata": {
        "id": "yKjHwhTHRqjq"
      },
      "outputs": [],
      "source": [
        "mysample = torch.randn(3, 32*32)\n",
        "mylabels = torch.tensor([0,1,1])"
      ]
    },
    {
      "cell_type": "markdown",
      "metadata": {
        "id": "7hOyPhpfRqjq"
      },
      "source": [
        "We pass them through the network:"
      ]
    },
    {
      "cell_type": "code",
      "execution_count": 14,
      "metadata": {
        "id": "20-kxtITRqjr"
      },
      "outputs": [],
      "source": [
        "output = model(mysample)"
      ]
    },
    {
      "cell_type": "markdown",
      "metadata": {
        "id": "LiBce8HCRqjr"
      },
      "source": [
        "And compare output to target with the cross-entropy module:"
      ]
    },
    {
      "cell_type": "code",
      "execution_count": 15,
      "metadata": {
        "id": "LF4A3v2VRqjr"
      },
      "outputs": [],
      "source": [
        "loss = criterion(output, mylabels)"
      ]
    },
    {
      "cell_type": "markdown",
      "metadata": {
        "id": "qbrI4FgGRqjs"
      },
      "source": [
        "Note that the ```CrossEntropyLoss``` module **automatically** applies soft-max to the output and then calculates the loss. So we **don't need** to have a soft-max layer at the end of our network."
      ]
    },
    {
      "cell_type": "markdown",
      "metadata": {
        "id": "DPjdcLglRqjs"
      },
      "source": [
        "Now that we have done the forward pass, we can calculate the gradients of the loss by backpropagation. This is simply done by calling the ```backward``` method:"
      ]
    },
    {
      "cell_type": "code",
      "execution_count": 16,
      "metadata": {
        "id": "C5rjSrx8Rqjs"
      },
      "outputs": [],
      "source": [
        "loss.backward()"
      ]
    },
    {
      "cell_type": "markdown",
      "metadata": {
        "id": "0TUrTf5iRqjt"
      },
      "source": [
        "### Optimizer\n",
        "\n",
        "Now that we have an estimate of the loss and gradients, we can optimize all our paramters by using some optimization algorithm. Several are available in ```torch.optim```. We use here the Adam optimizer, one of the \"safest\" choices. As arguments we need to pass a list of parameters that need to be optimized. We can do that by recovering them from our model:"
      ]
    },
    {
      "cell_type": "code",
      "execution_count": 17,
      "metadata": {
        "id": "rPxr6Jh2Rqju",
        "outputId": "2bbffd32-9151-40d1-8630-3efac3fef78c",
        "colab": {
          "base_uri": "https://localhost:8080/"
        }
      },
      "outputs": [
        {
          "output_type": "execute_result",
          "data": {
            "text/plain": [
              "[Parameter containing:\n",
              " tensor([[-2.4230e-02, -2.9601e-02,  1.2543e-02,  ..., -9.2132e-03,\n",
              "           3.0666e-02, -1.1810e-02],\n",
              "         [-2.9703e-02,  9.6840e-03, -2.4394e-03,  ...,  1.9239e-02,\n",
              "          -1.5664e-02, -7.6677e-03],\n",
              "         [-2.2457e-02, -1.2396e-02,  2.6122e-02,  ...,  2.2048e-02,\n",
              "           2.7859e-02, -2.9419e-05],\n",
              "         ...,\n",
              "         [-1.1190e-02,  6.2377e-03,  1.5656e-02,  ..., -1.1900e-02,\n",
              "          -2.4993e-02, -1.2568e-02],\n",
              "         [-3.0729e-02, -2.4979e-02,  2.9544e-02,  ..., -2.5657e-03,\n",
              "          -1.6533e-02,  1.2870e-02],\n",
              "         [-6.8288e-03, -2.5051e-02, -1.1303e-02,  ...,  1.5859e-02,\n",
              "          -2.0387e-04,  2.9414e-02]], requires_grad=True),\n",
              " Parameter containing:\n",
              " tensor([-1.7122e-03,  1.5918e-02, -4.4739e-03,  1.5764e-02,  2.2635e-02,\n",
              "          3.4436e-03, -5.1088e-03, -2.8978e-03, -2.7906e-03,  2.6192e-03,\n",
              "          1.6524e-02, -2.0283e-02,  9.2856e-03, -3.0009e-02, -3.3266e-03,\n",
              "          1.9582e-03,  2.5571e-02,  1.6756e-02, -1.8997e-02,  9.6735e-03,\n",
              "          8.1861e-03, -7.4155e-03,  2.4495e-02,  2.8989e-02,  2.7048e-02,\n",
              "         -2.4382e-02,  1.5752e-02, -1.3777e-02,  1.1703e-02, -1.8277e-02,\n",
              "         -1.1853e-02, -6.8097e-03, -1.8303e-02,  1.8391e-02, -2.1328e-02,\n",
              "          1.9287e-02,  1.6026e-02,  1.5213e-02,  3.0921e-02, -1.0292e-02,\n",
              "         -2.3458e-02, -2.9849e-02,  2.5212e-02,  8.0392e-03, -2.0435e-02,\n",
              "         -1.9550e-02, -6.2864e-03,  2.3689e-02, -5.1168e-04,  1.8788e-02,\n",
              "         -6.7465e-05,  1.4272e-02,  2.8579e-02, -5.8571e-03,  6.8409e-04,\n",
              "         -2.6237e-02,  7.1548e-03,  1.8737e-02,  7.8104e-03, -2.6473e-03,\n",
              "          2.2297e-02, -2.2014e-02, -2.2084e-02, -2.9328e-02,  2.5234e-02,\n",
              "          2.7062e-02, -2.7877e-02, -2.0630e-02,  1.9244e-02,  1.6541e-02,\n",
              "         -1.7646e-02,  3.2225e-04, -2.5996e-02, -1.8584e-02, -1.1981e-02,\n",
              "          2.0410e-02, -2.9152e-02, -5.2047e-03, -2.8990e-02,  1.1037e-02,\n",
              "         -2.2448e-02,  8.7456e-03,  2.5595e-02, -2.9518e-02,  2.6131e-02,\n",
              "         -2.8135e-02,  1.0149e-02, -2.8058e-02,  1.9725e-02, -9.0041e-03,\n",
              "          6.5263e-03, -2.5279e-03,  7.8205e-04,  1.0576e-02, -2.5855e-02,\n",
              "          1.2865e-02, -1.0878e-02,  2.0166e-02,  4.9063e-03, -1.9915e-02],\n",
              "        requires_grad=True),\n",
              " Parameter containing:\n",
              " tensor([[ 0.0258,  0.0249,  0.0415,  ...,  0.0734,  0.0886,  0.0256],\n",
              "         [ 0.0224, -0.0791,  0.0697,  ...,  0.0799, -0.0583,  0.0356],\n",
              "         [-0.0444,  0.0861,  0.0043,  ..., -0.0058,  0.0433, -0.0546],\n",
              "         ...,\n",
              "         [-0.0779, -0.0799, -0.0888,  ...,  0.0704,  0.0691, -0.0260],\n",
              "         [-0.0285,  0.0002, -0.0179,  ..., -0.0485, -0.0550, -0.0864],\n",
              "         [ 0.0079,  0.0261,  0.0159,  ...,  0.0066,  0.0430, -0.0903]],\n",
              "        requires_grad=True),\n",
              " Parameter containing:\n",
              " tensor([-0.0686,  0.0533, -0.0512, -0.0453,  0.0568, -0.0812,  0.0997,  0.0949,\n",
              "          0.0518, -0.0973, -0.0574, -0.0171, -0.0477,  0.0267,  0.0883, -0.0221,\n",
              "         -0.0081, -0.0195,  0.0312, -0.0848,  0.0833, -0.0780,  0.0221, -0.0620,\n",
              "         -0.0911, -0.0334, -0.0044,  0.0084, -0.0757,  0.0538, -0.0469, -0.0871,\n",
              "          0.0966, -0.0077,  0.0242,  0.0260, -0.0925, -0.0949, -0.0705, -0.0128,\n",
              "         -0.0791, -0.0225,  0.0399, -0.0004, -0.0040,  0.0331,  0.0448, -0.0077,\n",
              "         -0.0251,  0.0461,  0.0023,  0.0387,  0.0190, -0.0653,  0.0311, -0.0474,\n",
              "          0.0583,  0.0405, -0.0181, -0.0954, -0.0394, -0.0149, -0.0523, -0.0658,\n",
              "          0.0875, -0.0487,  0.0789, -0.0943,  0.0457,  0.0483,  0.0068,  0.0442,\n",
              "          0.0295,  0.0725,  0.0077, -0.0277,  0.0729,  0.0300,  0.0924, -0.0251,\n",
              "         -0.0407, -0.0457,  0.0920,  0.0220, -0.0311, -0.0713, -0.0917,  0.0528,\n",
              "         -0.0841,  0.0609, -0.0287,  0.0643,  0.0666,  0.0150,  0.0117, -0.0697,\n",
              "          0.0915, -0.0566,  0.0071,  0.0439], requires_grad=True),\n",
              " Parameter containing:\n",
              " tensor([[-0.0488, -0.0480,  0.0464, -0.0155,  0.0320, -0.0848, -0.0207,  0.0366,\n",
              "          -0.0237, -0.0256,  0.0927, -0.0487,  0.0759,  0.0051,  0.0847, -0.0673,\n",
              "          -0.0775,  0.0725, -0.0205, -0.0213, -0.0860,  0.0876,  0.0353, -0.0108,\n",
              "           0.0384,  0.0863, -0.0443, -0.0396,  0.0311, -0.0921,  0.0176,  0.0961,\n",
              "           0.0570,  0.0872,  0.0955, -0.0916, -0.0326,  0.0586, -0.0265, -0.0152,\n",
              "           0.0089,  0.0670, -0.0845, -0.0651,  0.0627, -0.0194,  0.0362, -0.0978,\n",
              "          -0.0479,  0.0322,  0.0994,  0.0299, -0.0573,  0.0094,  0.0723, -0.0712,\n",
              "          -0.0491, -0.0767, -0.0789,  0.0449, -0.0833, -0.0427,  0.0324, -0.0257,\n",
              "          -0.0539,  0.0964,  0.0777, -0.0553,  0.0449,  0.0230,  0.0627,  0.0233,\n",
              "           0.0523, -0.0321,  0.0372,  0.0796,  0.0989,  0.0227,  0.0504, -0.0470,\n",
              "           0.0642, -0.0675, -0.0066,  0.0623,  0.0872, -0.0835,  0.0643, -0.0060,\n",
              "           0.0400,  0.0126,  0.0281, -0.0782,  0.0891, -0.0004,  0.0695, -0.0990,\n",
              "           0.0498, -0.0406,  0.0366,  0.0385],\n",
              "         [ 0.0552, -0.0146, -0.0867,  0.0110,  0.0414,  0.0193, -0.0093,  0.0507,\n",
              "           0.0739, -0.0583,  0.0724, -0.0753,  0.0114,  0.0365,  0.0538, -0.0027,\n",
              "           0.0068,  0.0129,  0.0421, -0.0525,  0.0962, -0.0244, -0.0273,  0.0897,\n",
              "           0.0566, -0.0289, -0.0894, -0.0668, -0.0723, -0.0353,  0.0294,  0.0305,\n",
              "          -0.0016,  0.0211,  0.0146,  0.0306, -0.0577, -0.0625, -0.0444,  0.0509,\n",
              "           0.0365, -0.0197,  0.0022,  0.0369, -0.0161, -0.0527, -0.0642,  0.0794,\n",
              "          -0.0694, -0.0949, -0.0714, -0.0231,  0.0229, -0.0048,  0.0605, -0.0698,\n",
              "           0.0926, -0.0827, -0.0634,  0.0719,  0.0562,  0.0812, -0.0138,  0.0506,\n",
              "           0.0307, -0.0875, -0.0430,  0.0404,  0.0013,  0.0177, -0.0570, -0.0008,\n",
              "           0.0248,  0.0005,  0.0402,  0.0810,  0.0401, -0.0707, -0.0074,  0.0669,\n",
              "           0.0033,  0.0156, -0.0974, -0.0365,  0.0920, -0.0529, -0.0859,  0.0253,\n",
              "           0.0718, -0.0869,  0.0890,  0.0709,  0.0370, -0.0400, -0.0033, -0.0958,\n",
              "          -0.0685,  0.0994,  0.0436, -0.0269]], requires_grad=True),\n",
              " Parameter containing:\n",
              " tensor([-0.0131, -0.0262], requires_grad=True)]"
            ]
          },
          "metadata": {},
          "execution_count": 17
        }
      ],
      "source": [
        "list(model.parameters())"
      ]
    },
    {
      "cell_type": "code",
      "execution_count": 18,
      "metadata": {
        "id": "UPRB3kkdRqjw"
      },
      "outputs": [],
      "source": [
        "import torch.optim as optim\n",
        "\n",
        "optimizer = optim.Adam(model.parameters(), lr=0.001)"
      ]
    },
    {
      "cell_type": "markdown",
      "metadata": {
        "id": "Q1Ad6PXORqjw"
      },
      "source": [
        "Now we have to acutally do one step of optimization using the ```step``` method:"
      ]
    },
    {
      "cell_type": "code",
      "execution_count": 19,
      "metadata": {
        "id": "3kbpLX5rRqjx"
      },
      "outputs": [],
      "source": [
        "optimizer.step()"
      ]
    },
    {
      "cell_type": "markdown",
      "metadata": {
        "id": "YhRPeKxYRqjx"
      },
      "source": [
        "Let's check that some parameters have really changed:"
      ]
    },
    {
      "cell_type": "code",
      "execution_count": 20,
      "metadata": {
        "id": "nRQs6vg1Rqjy",
        "outputId": "66fa8814-f323-406c-defb-08c8b10c45b2",
        "colab": {
          "base_uri": "https://localhost:8080/"
        }
      },
      "outputs": [
        {
          "output_type": "execute_result",
          "data": {
            "text/plain": [
              "[Parameter containing:\n",
              " tensor([[-0.0242, -0.0296,  0.0125,  ..., -0.0092,  0.0307, -0.0118],\n",
              "         [-0.0287,  0.0087, -0.0014,  ...,  0.0182, -0.0147, -0.0067],\n",
              "         [-0.0215, -0.0134,  0.0271,  ...,  0.0210,  0.0289, -0.0010],\n",
              "         ...,\n",
              "         [-0.0122,  0.0072,  0.0147,  ..., -0.0109, -0.0260, -0.0136],\n",
              "         [-0.0297, -0.0240,  0.0305,  ..., -0.0036, -0.0175,  0.0139],\n",
              "         [-0.0058, -0.0261, -0.0103,  ...,  0.0149, -0.0012,  0.0304]],\n",
              "        requires_grad=True), Parameter containing:\n",
              " tensor([-0.0017,  0.0149, -0.0055,  0.0168,  0.0236,  0.0044, -0.0061, -0.0019,\n",
              "         -0.0018,  0.0026,  0.0175, -0.0193,  0.0083, -0.0310, -0.0043,  0.0030,\n",
              "          0.0246,  0.0158, -0.0190,  0.0107,  0.0072, -0.0064,  0.0235,  0.0280,\n",
              "          0.0260, -0.0234,  0.0168, -0.0128,  0.0127, -0.0183, -0.0129, -0.0068,\n",
              "         -0.0193,  0.0174, -0.0203,  0.0183,  0.0150,  0.0142,  0.0299, -0.0093,\n",
              "         -0.0225, -0.0308,  0.0262,  0.0070, -0.0194, -0.0206, -0.0073,  0.0227,\n",
              "          0.0005,  0.0198,  0.0009,  0.0153,  0.0296, -0.0069,  0.0017, -0.0272,\n",
              "          0.0062,  0.0197,  0.0068, -0.0016,  0.0223, -0.0210, -0.0211, -0.0293,\n",
              "          0.0262,  0.0281, -0.0289, -0.0196,  0.0202,  0.0155, -0.0166,  0.0013,\n",
              "         -0.0260, -0.0186, -0.0130,  0.0194, -0.0302, -0.0062, -0.0300,  0.0100,\n",
              "         -0.0224,  0.0077,  0.0266, -0.0305,  0.0271, -0.0281,  0.0101, -0.0291,\n",
              "          0.0187, -0.0100,  0.0055, -0.0035, -0.0002,  0.0106, -0.0249,  0.0119,\n",
              "         -0.0099,  0.0212,  0.0059, -0.0209], requires_grad=True), Parameter containing:\n",
              " tensor([[ 0.0258,  0.0249,  0.0415,  ...,  0.0734,  0.0886,  0.0256],\n",
              "         [ 0.0224, -0.0781,  0.0707,  ...,  0.0809, -0.0593,  0.0356],\n",
              "         [-0.0444,  0.0851,  0.0033,  ..., -0.0068,  0.0443, -0.0546],\n",
              "         ...,\n",
              "         [-0.0779, -0.0789, -0.0878,  ...,  0.0714,  0.0701, -0.0250],\n",
              "         [-0.0285,  0.0012, -0.0169,  ..., -0.0475, -0.0540, -0.0854],\n",
              "         [ 0.0079,  0.0251,  0.0149,  ...,  0.0056,  0.0420, -0.0913]],\n",
              "        requires_grad=True), Parameter containing:\n",
              " tensor([-0.0686,  0.0543, -0.0522, -0.0443,  0.0578, -0.0822,  0.1007,  0.0959,\n",
              "          0.0518, -0.0973, -0.0584, -0.0171, -0.0487,  0.0277,  0.0873, -0.0221,\n",
              "         -0.0071, -0.0205,  0.0322, -0.0848,  0.0823, -0.0770,  0.0211, -0.0610,\n",
              "         -0.0901, -0.0344, -0.0054,  0.0074, -0.0767,  0.0538, -0.0459, -0.0881,\n",
              "          0.0956, -0.0077,  0.0242,  0.0270, -0.0925, -0.0959, -0.0705, -0.0118,\n",
              "         -0.0791, -0.0225,  0.0409,  0.0006, -0.0050,  0.0321,  0.0448, -0.0077,\n",
              "         -0.0251,  0.0451,  0.0013,  0.0387,  0.0190, -0.0663,  0.0301, -0.0484,\n",
              "          0.0593,  0.0395, -0.0181, -0.0964, -0.0394, -0.0149, -0.0523, -0.0658,\n",
              "          0.0865, -0.0487,  0.0779, -0.0943,  0.0447,  0.0473,  0.0058,  0.0432,\n",
              "          0.0285,  0.0735,  0.0087, -0.0267,  0.0719,  0.0300,  0.0914, -0.0261,\n",
              "         -0.0407, -0.0447,  0.0910,  0.0210, -0.0301, -0.0713, -0.0927,  0.0528,\n",
              "         -0.0841,  0.0619, -0.0277,  0.0653,  0.0656,  0.0140,  0.0107, -0.0697,\n",
              "          0.0905, -0.0556,  0.0081,  0.0429], requires_grad=True), Parameter containing:\n",
              " tensor([[-0.0488, -0.0490,  0.0454, -0.0165,  0.0310, -0.0838, -0.0217,  0.0356,\n",
              "          -0.0237, -0.0256,  0.0917, -0.0487,  0.0749,  0.0041,  0.0837, -0.0673,\n",
              "          -0.0785,  0.0735, -0.0215, -0.0213, -0.0850,  0.0886,  0.0343, -0.0118,\n",
              "           0.0374,  0.0873, -0.0453, -0.0406,  0.0301, -0.0921,  0.0166,  0.0951,\n",
              "           0.0580,  0.0872,  0.0955, -0.0926, -0.0326,  0.0576, -0.0265, -0.0162,\n",
              "           0.0089,  0.0670, -0.0855, -0.0661,  0.0617, -0.0204,  0.0362, -0.0978,\n",
              "          -0.0479,  0.0332,  0.0984,  0.0299, -0.0573,  0.0084,  0.0733, -0.0702,\n",
              "          -0.0501, -0.0777, -0.0789,  0.0459, -0.0833, -0.0427,  0.0324, -0.0257,\n",
              "          -0.0529,  0.0964,  0.0787, -0.0553,  0.0439,  0.0240,  0.0617,  0.0223,\n",
              "           0.0513, -0.0331,  0.0362,  0.0786,  0.0999,  0.0227,  0.0494, -0.0460,\n",
              "           0.0642, -0.0685, -0.0076,  0.0613,  0.0862, -0.0835,  0.0633, -0.0060,\n",
              "           0.0400,  0.0136,  0.0271, -0.0792,  0.0881,  0.0006,  0.0685, -0.0990,\n",
              "           0.0508, -0.0416,  0.0356,  0.0395],\n",
              "         [ 0.0552, -0.0136, -0.0857,  0.0120,  0.0424,  0.0183, -0.0083,  0.0517,\n",
              "           0.0739, -0.0583,  0.0734, -0.0753,  0.0124,  0.0375,  0.0548, -0.0027,\n",
              "           0.0078,  0.0119,  0.0431, -0.0525,  0.0952, -0.0254, -0.0263,  0.0907,\n",
              "           0.0576, -0.0299, -0.0884, -0.0658, -0.0713, -0.0353,  0.0304,  0.0315,\n",
              "          -0.0026,  0.0211,  0.0146,  0.0316, -0.0577, -0.0615, -0.0444,  0.0519,\n",
              "           0.0365, -0.0197,  0.0032,  0.0379, -0.0151, -0.0517, -0.0642,  0.0794,\n",
              "          -0.0694, -0.0959, -0.0704, -0.0231,  0.0229, -0.0038,  0.0595, -0.0708,\n",
              "           0.0936, -0.0817, -0.0634,  0.0709,  0.0562,  0.0812, -0.0138,  0.0506,\n",
              "           0.0297, -0.0875, -0.0440,  0.0404,  0.0023,  0.0167, -0.0560,  0.0002,\n",
              "           0.0258,  0.0015,  0.0412,  0.0820,  0.0391, -0.0707, -0.0064,  0.0659,\n",
              "           0.0033,  0.0166, -0.0964, -0.0355,  0.0930, -0.0529, -0.0849,  0.0253,\n",
              "           0.0718, -0.0879,  0.0900,  0.0719,  0.0380, -0.0410, -0.0023, -0.0958,\n",
              "          -0.0695,  0.1004,  0.0446, -0.0279]], requires_grad=True), Parameter containing:\n",
              " tensor([-0.0141, -0.0252], requires_grad=True)]"
            ]
          },
          "metadata": {},
          "execution_count": 20
        }
      ],
      "source": [
        "list(model.parameters())"
      ]
    },
    {
      "cell_type": "markdown",
      "metadata": {
        "id": "PwMnEVM5Rqjy"
      },
      "source": [
        "## Measuring accuracy\n",
        "\n",
        "We use the cross-entropy as loss because it allows us to optimize our network. However what we are ultimately interested in is the **accuracy** of our model i.e. whether the correct label has been found or not. Such a binary answer is not useful for optimization but is what we want to monitor in the end. Let's generate some random data and see how we can calculate this:"
      ]
    },
    {
      "cell_type": "code",
      "execution_count": 21,
      "metadata": {
        "id": "ws3h3gD6Rqjz"
      },
      "outputs": [],
      "source": [
        "myimages = torch.randn((3,32,32))\n",
        "labels = torch.randint(0,2,(3,))"
      ]
    },
    {
      "cell_type": "code",
      "execution_count": 22,
      "metadata": {
        "id": "B4pIvdQBRqjz",
        "outputId": "a6d50939-5d3e-4793-c32c-eec42801cb53",
        "colab": {
          "base_uri": "https://localhost:8080/"
        }
      },
      "outputs": [
        {
          "output_type": "execute_result",
          "data": {
            "text/plain": [
              "tensor([0, 1, 0])"
            ]
          },
          "metadata": {},
          "execution_count": 22
        }
      ],
      "source": [
        "labels"
      ]
    },
    {
      "cell_type": "code",
      "execution_count": 23,
      "metadata": {
        "id": "DwxK2Dn2Rqj0",
        "outputId": "efaaf054-cd5f-4521-8bdd-21a2e3fe73dc",
        "colab": {
          "base_uri": "https://localhost:8080/"
        }
      },
      "outputs": [
        {
          "output_type": "execute_result",
          "data": {
            "text/plain": [
              "tensor([[ 0.2409, -0.0868],\n",
              "        [ 0.1836, -0.0178],\n",
              "        [ 0.1323, -0.0133]], grad_fn=<AddmmBackward0>)"
            ]
          },
          "metadata": {},
          "execution_count": 23
        }
      ],
      "source": [
        "output = model(myimages)\n",
        "output"
      ]
    },
    {
      "cell_type": "markdown",
      "metadata": {
        "id": "3jKAJSjnRqj1"
      },
      "source": [
        "The predicted category is the one with the highest probability (not normalized here but it doesn't matter). We can therefore just look for the index of the maximum value along the horizontal dimension:"
      ]
    },
    {
      "cell_type": "code",
      "execution_count": 24,
      "metadata": {
        "id": "v9iWfj-qRqj1",
        "outputId": "624b5f27-e41b-4374-822f-78a01431772b",
        "colab": {
          "base_uri": "https://localhost:8080/"
        }
      },
      "outputs": [
        {
          "output_type": "execute_result",
          "data": {
            "text/plain": [
              "tensor([0, 0, 0])"
            ]
          },
          "metadata": {},
          "execution_count": 24
        }
      ],
      "source": [
        "output.argmax(dim=1)"
      ]
    },
    {
      "cell_type": "markdown",
      "metadata": {
        "id": "5sfzfrX_Rqj2"
      },
      "source": [
        "Now we can compare prediction and true label:"
      ]
    },
    {
      "cell_type": "code",
      "execution_count": 25,
      "metadata": {
        "id": "WMxy7H_TRqj2",
        "outputId": "ed1667fc-6eac-4404-9343-328cba7d2f04",
        "colab": {
          "base_uri": "https://localhost:8080/"
        }
      },
      "outputs": [
        {
          "output_type": "execute_result",
          "data": {
            "text/plain": [
              "tensor([ True, False,  True])"
            ]
          },
          "metadata": {},
          "execution_count": 25
        }
      ],
      "source": [
        "labels == output.argmax(dim=1)"
      ]
    },
    {
      "cell_type": "markdown",
      "metadata": {
        "id": "vsHfEzLfRqj2"
      },
      "source": [
        "If we take the sum over this tensor, it tells us how many samples in the batch were correctly predicted and the average accuracy is:"
      ]
    },
    {
      "cell_type": "code",
      "execution_count": 26,
      "metadata": {
        "id": "yWexl4iqRqj3",
        "outputId": "c936e127-10b7-4e44-d340-23e5fa154973",
        "colab": {
          "base_uri": "https://localhost:8080/"
        }
      },
      "outputs": [
        {
          "output_type": "execute_result",
          "data": {
            "text/plain": [
              "tensor(0.6667)"
            ]
          },
          "metadata": {},
          "execution_count": 26
        }
      ],
      "source": [
        "(labels == output.argmax(dim=1)).sum()/3"
      ]
    },
    {
      "cell_type": "markdown",
      "metadata": {
        "id": "9OjEpp1qRqj3"
      },
      "source": [
        "## Dataset\n",
        "\n",
        "Now that we know that all steps work, we want to test our network. We will create a synthetic dataset for that using ```skimage.draw```. We will just generate random images with either circles or triangles. As we have an \"infinite\" amount of data available, we just artificially set a size for our dataset.\n",
        "\n",
        "Don't forget that we need a training and a validation dataset. Every time we have trained the network with the whole training dataset we check prediction quality with the validation dataset to make sure e.g. we are not over-fitting."
      ]
    },
    {
      "cell_type": "code",
      "execution_count": 27,
      "metadata": {
        "id": "7BNn5WYoRqj3"
      },
      "outputs": [],
      "source": [
        "from skimage.draw import random_shapes\n",
        "import matplotlib.pyplot as plt\n",
        "import numpy as np"
      ]
    },
    {
      "cell_type": "markdown",
      "metadata": {
        "id": "HjBzv0M6Rqj3"
      },
      "source": [
        "The following function takes as input a keyword - ```triangle```, ```circle```, etc. - and outputs an image with that object as a PyTorch tensor:"
      ]
    },
    {
      "cell_type": "code",
      "execution_count": 28,
      "metadata": {
        "id": "B-S1No8rRqj4"
      },
      "outputs": [],
      "source": [
        "def make_image(shape, imsize):\n",
        "    \"\"\"Generate image of given shape scaled 0-1.\n",
        "    shape: str\n",
        "        shape to draw (circle, triangle, rectangle)\n",
        "    imsize: int\n",
        "        size of image\n",
        "    \"\"\"\n",
        "    \n",
        "    image, _ = random_shapes(\n",
        "        image_shape=(imsize,imsize),max_shapes=1, min_shapes=1,\n",
        "        num_channels=1, channel_axis=None, shape=shape, min_size=8)\n",
        "    #normalize\n",
        "    image = (255-image)/255\n",
        "\n",
        "    # turn into tensor\n",
        "    image_tensor = torch.tensor(image,dtype=torch.float32)\n",
        "    \n",
        "    return image_tensor"
      ]
    },
    {
      "cell_type": "markdown",
      "metadata": {
        "id": "bTenTjnYRqj4"
      },
      "source": [
        "To create pairs of images and labels we simply create a list of possible shapes and randomly pick values from there. We should also not forget to transform the label into a tensor. Let's make a single image:"
      ]
    },
    {
      "cell_type": "code",
      "execution_count": 29,
      "metadata": {
        "id": "bJ3XtvynRqj4"
      },
      "outputs": [],
      "source": [
        "im_type = ['circle', 'triangle','rectangle']\n",
        "num_cat = len(im_type)\n",
        "image_size = 32\n",
        "\n",
        "label = torch.randint(0,num_cat,(1,))\n",
        "image = make_image(im_type[label], image_size)"
      ]
    },
    {
      "cell_type": "code",
      "execution_count": 30,
      "metadata": {
        "id": "W6dAShQcRqj5",
        "outputId": "8da38b66-6903-4f38-c9ba-20a3673d7c9e",
        "colab": {
          "base_uri": "https://localhost:8080/",
          "height": 281
        }
      },
      "outputs": [
        {
          "output_type": "display_data",
          "data": {
            "image/png": "[encoded data removed]",
            "text/plain": [
              "<Figure size 432x288 with 1 Axes>"
            ]
          },
          "metadata": {
            "needs_background": "light"
          }
        }
      ],
      "source": [
        "fig, ax = plt.subplots()\n",
        "ax.imshow(image)\n",
        "ax.set_title(im_type[label]);"
      ]
    },
    {
      "cell_type": "markdown",
      "metadata": {
        "id": "AI5TOvmcRqj6"
      },
      "source": [
        "We want to train our network using mini-batches, and each batch should have a size ```N x H x W``` where ```N``` is the batch size and ```H,W``` the image dimension. We can create a batch by stacking multiple 2D tensors together:"
      ]
    },
    {
      "cell_type": "code",
      "execution_count": 31,
      "metadata": {
        "id": "BLsU08wERqj6",
        "outputId": "44b83351-e49c-4b5c-cdad-744b4c069766",
        "colab": {
          "base_uri": "https://localhost:8080/"
        }
      },
      "outputs": [
        {
          "output_type": "execute_result",
          "data": {
            "text/plain": [
              "torch.Size([10, 32, 32])"
            ]
          },
          "metadata": {},
          "execution_count": 31
        }
      ],
      "source": [
        "batch_size = 10\n",
        "single_batch = torch.stack([make_image('circle', image_size) for x in range(batch_size)])\n",
        "single_batch.size()"
      ]
    },
    {
      "cell_type": "markdown",
      "metadata": {
        "id": "LEBR_4W0Rqj6"
      },
      "source": [
        "Of course we want to mix the different image types, so we generate labels of size ```batch_size``` as well:"
      ]
    },
    {
      "cell_type": "code",
      "execution_count": 32,
      "metadata": {
        "id": "Q_VXSRtNRqj7",
        "outputId": "8fdbf627-5013-4843-8009-cd8880c79f9f",
        "colab": {
          "base_uri": "https://localhost:8080/",
          "height": 124
        }
      },
      "outputs": [
        {
          "output_type": "display_data",
          "data": {
            "image/png": "[encoded data removed]",
            "text/plain": [
              "<Figure size 432x288 with 4 Axes>"
            ]
          },
          "metadata": {
            "needs_background": "light"
          }
        }
      ],
      "source": [
        "label = torch.randint(0,num_cat,(batch_size,))\n",
        "single_batch = torch.stack([make_image(im_type[x], image_size) for x in label])\n",
        "\n",
        "fig, ax = plt.subplots(1,4)\n",
        "for x in range(4):\n",
        "    ax[x].imshow(single_batch[x,:,:])"
      ]
    },
    {
      "cell_type": "markdown",
      "metadata": {
        "id": "NqqeRJFkRqj7"
      },
      "source": [
        "Finally we can create our full dataset (as a list of tensors) by generating ```M``` bachtes in order to have ```M x N``` training examples:"
      ]
    },
    {
      "cell_type": "code",
      "execution_count": 33,
      "metadata": {
        "id": "MW0lnvUDRqj7"
      },
      "outputs": [],
      "source": [
        "# size of training dataset\n",
        "batch_size = 10\n",
        "training_size = 5000\n",
        "validation_size = 100\n",
        "train_batch_number = int(training_size/batch_size)\n",
        "validation_batch_number = int(validation_size/batch_size)\n",
        "\n",
        "training_label = [torch.randint(0,num_cat,(batch_size,)) for i in range(train_batch_number)]\n",
        "validation_label = [torch.randint(0,num_cat,(batch_size,)) for i in range(validation_batch_number)]\n",
        "\n",
        "train_batches = [torch.stack([make_image(im_type[x], image_size) for x in lab]) for lab in training_label]\n",
        "valid_batches = [torch.stack([make_image(im_type[x], image_size) for x in lab]) for lab in validation_label]\n"
      ]
    },
    {
      "cell_type": "markdown",
      "metadata": {
        "id": "T_R8Tf77Rqj7"
      },
      "source": [
        "## Training loop\n",
        "\n",
        "Now we can create a loop where we iterate through our batches to train our network and go through the steps defined above. We will do two loops: \n",
        "1. Over epochs: one epoch representing a training step over **all batches**\n",
        "2. Over batches\n",
        "\n",
        "We do validation only once per epoch to see how training goes."
      ]
    },
    {
      "cell_type": "code",
      "execution_count": 34,
      "metadata": {
        "id": "DA1xsXV1Rqj8",
        "outputId": "f17693a1-608b-4295-fb28-d2e25e0a569e",
        "colab": {
          "base_uri": "https://localhost:8080/"
        }
      },
      "outputs": [
        {
          "output_type": "stream",
          "name": "stdout",
          "text": [
            "epoch: 0\n",
            "valid_accuracy: 0.699999988079071\n",
            "epoch: 1\n",
            "valid_accuracy: 0.7099999785423279\n",
            "epoch: 2\n",
            "valid_accuracy: 0.7699999809265137\n",
            "epoch: 3\n",
            "valid_accuracy: 0.8100000619888306\n",
            "epoch: 4\n",
            "valid_accuracy: 0.8500000238418579\n",
            "epoch: 5\n",
            "valid_accuracy: 0.8600000143051147\n",
            "epoch: 6\n",
            "valid_accuracy: 0.8399999737739563\n",
            "epoch: 7\n",
            "valid_accuracy: 0.8700000643730164\n",
            "epoch: 8\n",
            "valid_accuracy: 0.8399999737739563\n",
            "epoch: 9\n",
            "valid_accuracy: 0.8799999952316284\n"
          ]
        }
      ],
      "source": [
        "#del model\n",
        "model = Mynetwork(1024, 3)\n",
        "optimizer = optim.Adam(model.parameters(), lr=0.001)\n",
        "\n",
        "for epoch in range(10):\n",
        "    \n",
        "    print(f'epoch: {epoch}')\n",
        "    \n",
        "    # initialize running accuracy\n",
        "    running_accuracy = 0\n",
        "    \n",
        "    for t in range(train_batch_number):\n",
        "    \n",
        "        # get batch\n",
        "        label = training_label[t]\n",
        "        mybatch = train_batches[t]\n",
        "\n",
        "        # calculate predicted label and calculate loss\n",
        "        pred = model(mybatch)\n",
        "        loss = criterion(pred, label)\n",
        "\n",
        "        # backpropagate the loss\n",
        "        loss.backward()\n",
        "\n",
        "        # do the optimization step\n",
        "        optimizer.step()\n",
        "\n",
        "        # set gradients to zero as PyTorch accumulates them otherwise\n",
        "        optimizer.zero_grad()\n",
        "\n",
        "        # calculate accuracy\n",
        "        mean_accuracy = (torch.argmax(pred,dim=1) == label).sum()/batch_size\n",
        "        running_accuracy+=mean_accuracy\n",
        "\n",
        "        every_nth = 1000\n",
        "        if t % every_nth == every_nth-1: \n",
        "            print(f'accuracy: {running_accuracy/every_nth}')\n",
        "            running_accuracy = 0.0\n",
        "    \n",
        "    # validation\n",
        "    valid_accuracy = 0\n",
        "    for t in range(validation_batch_number):\n",
        "    \n",
        "        # get batch\n",
        "        label = validation_label[t]\n",
        "        mybatch = valid_batches[t]\n",
        "\n",
        "        # calculate predicted label\n",
        "        pred = model(mybatch)\n",
        "        # calculate accuracy\n",
        "        mean_accuracy = (torch.argmax(pred,dim=1) == label).sum()/batch_size\n",
        "        valid_accuracy += mean_accuracy\n",
        "    valid_accuracy = valid_accuracy/validation_batch_number\n",
        "    print(f'valid_accuracy: {valid_accuracy}')"
      ]
    },
    {
      "cell_type": "markdown",
      "metadata": {
        "id": "Hf2g8E2qRqj8"
      },
      "source": [
        "We see that accuracy improves but not to a perfect level. We can try to increase the number of epochs or the training size. We can also try to understand where the problem is. For example we can try to find out which images are most mis-classified using a confusion matrix from scikit-learn."
      ]
    },
    {
      "cell_type": "code",
      "execution_count": 35,
      "metadata": {
        "id": "xig75SnYRqj8"
      },
      "outputs": [],
      "source": [
        "from sklearn.metrics import confusion_matrix\n",
        "import pandas as pd\n",
        "import seaborn as sn"
      ]
    },
    {
      "cell_type": "markdown",
      "metadata": {
        "id": "Nc4CeZqERqj9"
      },
      "source": [
        "We generate a test batch and obtain a prediction with our model:"
      ]
    },
    {
      "cell_type": "code",
      "execution_count": 36,
      "metadata": {
        "id": "Gc1r9mRvRqj-"
      },
      "outputs": [],
      "source": [
        "label = torch.randint(0,len(im_type),(100,))\n",
        "mybatch = torch.stack([make_image(im_type[x], image_size) for x in label])\n",
        "pred = model(mybatch)"
      ]
    },
    {
      "cell_type": "markdown",
      "metadata": {
        "id": "jWzBEUcbRqj_"
      },
      "source": [
        "Again the maximum index for each element of the batch gives us the final class:"
      ]
    },
    {
      "cell_type": "code",
      "execution_count": 37,
      "metadata": {
        "id": "49RsDQRvRqj_",
        "outputId": "90124a80-7133-4cf7-b693-c42e149fc1fc",
        "colab": {
          "base_uri": "https://localhost:8080/"
        }
      },
      "outputs": [
        {
          "output_type": "execute_result",
          "data": {
            "text/plain": [
              "tensor([1, 1, 1, 0, 0, 2, 0, 2, 2, 1, 0, 0, 2, 2, 1, 2, 2, 0, 2, 2, 0, 1, 0, 0,\n",
              "        0, 2, 0, 0, 2, 1, 1, 1, 2, 0, 1, 0, 1, 1, 0, 0, 0, 2, 2, 1, 2, 2, 0, 0,\n",
              "        2, 0, 2, 2, 1, 0, 2, 2, 1, 0, 1, 2, 1, 0, 2, 0, 0, 1, 1, 2, 0, 0, 0, 2,\n",
              "        0, 2, 1, 0, 1, 1, 1, 2, 0, 1, 2, 1, 2, 1, 1, 1, 1, 0, 2, 1, 0, 1, 2, 0,\n",
              "        0, 0, 1, 2])"
            ]
          },
          "metadata": {},
          "execution_count": 37
        }
      ],
      "source": [
        "pred.argmax(dim=1)"
      ]
    },
    {
      "cell_type": "code",
      "execution_count": 38,
      "metadata": {
        "id": "qe8gJhPpRqj_",
        "outputId": "0f36f0bd-5e65-4c28-bca0-6632d021365b",
        "colab": {
          "base_uri": "https://localhost:8080/"
        }
      },
      "outputs": [
        {
          "output_type": "execute_result",
          "data": {
            "text/plain": [
              "tensor([1, 1, 1, 0, 0, 2, 0, 2, 2, 1, 0, 0, 2, 0, 0, 2, 2, 0, 2, 2, 0, 1, 0, 0,\n",
              "        2, 2, 0, 0, 2, 1, 1, 1, 2, 0, 1, 0, 1, 1, 0, 0, 0, 2, 2, 1, 2, 2, 0, 0,\n",
              "        2, 0, 2, 2, 1, 0, 2, 2, 1, 0, 1, 2, 1, 0, 2, 2, 0, 1, 1, 2, 0, 2, 0, 2,\n",
              "        0, 2, 1, 0, 1, 1, 1, 2, 0, 1, 2, 1, 2, 1, 1, 1, 1, 0, 2, 1, 0, 1, 2, 0,\n",
              "        0, 0, 0, 2])"
            ]
          },
          "metadata": {},
          "execution_count": 38
        }
      ],
      "source": [
        "label"
      ]
    },
    {
      "cell_type": "markdown",
      "metadata": {
        "id": "D3YnUkxnRqkA"
      },
      "source": [
        "Let's calcualte the confusion matrix and transform it into a Dataframe that we can then easily plot with seaborn:"
      ]
    },
    {
      "cell_type": "code",
      "execution_count": 39,
      "metadata": {
        "id": "jZH_XPesRqkA"
      },
      "outputs": [],
      "source": [
        "df_cm = pd.DataFrame(confusion_matrix(pred.argmax(dim=1), label), index = im_type,\n",
        "                  columns = im_type)"
      ]
    },
    {
      "cell_type": "code",
      "execution_count": 40,
      "metadata": {
        "id": "3_rfGPAnRqkA",
        "outputId": "64fe4a5f-bf9b-4a5f-a12c-57f6625d8324",
        "colab": {
          "base_uri": "https://localhost:8080/",
          "height": 428
        }
      },
      "outputs": [
        {
          "output_type": "display_data",
          "data": {
            "image/png": "[encoded data removed]",
            "text/plain": [
              "<Figure size 720x504 with 2 Axes>"
            ]
          },
          "metadata": {
            "needs_background": "light"
          }
        }
      ],
      "source": [
        "plt.figure(figsize = (10,7))\n",
        "sn.heatmap(df_cm, annot=True);"
      ]
    },
    {
      "cell_type": "markdown",
      "metadata": {
        "id": "MBdoC4QURqkA"
      },
      "source": [
        "We see that the problem is mostly the circle. Because we use a tiny image, small circles are not smooth and can look like rectangles or triangles."
      ]
    },
    {
      "cell_type": "markdown",
      "metadata": {
        "id": "A_Q6-KeYRqkB"
      },
      "source": [
        "## Exercises\n",
        "\n",
        "1. Re-use the network you have create for the exercise 4. Make sure it can take **batches** of 2D images as input.\n",
        "2. Create an image generator which creates black (value=0) images (2D tensors) with a single white (value=1) line which is vertical (class #1) or horizontal (class #2)\n",
        "3. Create training and validation data generators\n",
        "4. Add a training loop and train. Verify that the nework works\n",
        "5. \"Bonus\": try to add various levels of noise to the image and see how prediction is affected"
      ]
    }
  ],
  "metadata": {
    "kernelspec": {
      "display_name": "Python 3",
      "language": "python",
      "name": "python3"
    },
    "language_info": {
      "codemirror_mode": {
        "name": "ipython",
        "version": 3
      },
      "file_extension": ".py",
      "mimetype": "text/x-python",
      "name": "python",
      "nbconvert_exporter": "python",
      "pygments_lexer": "ipython3",
      "version": "3.9.10"
    },
    "toc": {
      "base_numbering": 1,
      "nav_menu": {},
      "number_sections": false,
      "sideBar": true,
      "skip_h1_title": false,
      "title_cell": "Table of Contents",
      "title_sidebar": "Contents",
      "toc_cell": false,
      "toc_position": {},
      "toc_section_display": true,
      "toc_window_display": true
    },
    "varInspector": {
      "cols": {
        "lenName": 16,
        "lenType": 16,
        "lenVar": 40
      },
      "kernels_config": {
        "python": {
          "delete_cmd_postfix": "",
          "delete_cmd_prefix": "del ",
          "library": "var_list.py",
          "varRefreshCmd": "print(var_dic_list())"
        },
        "r": {
          "delete_cmd_postfix": ") ",
          "delete_cmd_prefix": "rm(",
          "library": "var_list.r",
          "varRefreshCmd": "cat(var_dic_list()) "
        }
      },
      "types_to_exclude": [
        "module",
        "function",
        "builtin_function_or_method",
        "instance",
        "_Feature"
      ],
      "window_display": false
    },
    "colab": {
      "name": "05-Training.ipynb",
      "provenance": []
    },
    "accelerator": "GPU"
  },
  "nbformat": 4,
  "nbformat_minor": 0
}