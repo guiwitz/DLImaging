{
 "cells": [
  {
   "cell_type": "markdown",
   "metadata": {},
   "source": [
    "# 5. Training a network"
   ]
  },
  {
   "cell_type": "markdown",
   "metadata": {},
   "source": [
    "Now that we know how to create a network, pass an input and an output, we only need to learn how to proceed for training and using it. Let's remember the different steps needed:"
   ]
  },
  {
   "cell_type": "code",
   "execution_count": 1,
   "metadata": {},
   "outputs": [
    {
     "data": {
      "text/html": [
       "<img src=\"https://github.com/guiwitz/DLImaging/raw/master/illustrations/ML_principle.jpg\" width=\"700\"/>"
      ],
      "text/plain": [
       "<IPython.core.display.Image object>"
      ]
     },
     "execution_count": 1,
     "metadata": {},
     "output_type": "execute_result"
    }
   ],
   "source": [
    "from IPython.display import Image\n",
    "\n",
    "# set path containing data folder or use default for Colab (/gdrive/My Drive)\n",
    "local_folder = \"../\"\n",
    "import urllib.request\n",
    "urllib.request.urlretrieve('https://raw.githubusercontent.com/guiwitz/DLImaging/master/utils/check_colab.py', 'check_colab.py')\n",
    "from check_colab import set_datapath\n",
    "colab, datapath = set_datapath(local_folder)\n",
    "\n",
    "Image(url='https://github.com/guiwitz/DLImaging/raw/master/illustrations/ML_principle.jpg',width=700)"
   ]
  },
  {
   "cell_type": "markdown",
   "metadata": {},
   "source": [
    "1. First we will pass training examples *forward* through the network\n",
    "2. We measure an error between prediction and true label, the loss\n",
    "3. We calculate the gradient of the loss respective to each parameter in the model. This is done by *backpropagation*\n",
    "4. We adjust the parameters using the calculated gradient and an optimizer (e.g. SGD)\n",
    "\n",
    "Additionally we will also see in this notebooks additional aspects such as training epochs and validation. The goal here is to once see the whole pipeline in detail before we start using tools that reduce some of the boiler-plate code necessary here."
   ]
  },
  {
   "cell_type": "markdown",
   "metadata": {},
   "source": [
    "## Mini-batches\n",
    "\n",
    "Before we create our network and define a loss, let's remember how training samples are passed through the network. In principle we want to do each optimization step for the **entire dataset** not just a single image as training would have a difficult time to converge. However this is usually not possible and and instead what is generally done is to use **mini-batches**, i.e. the network is iteratively trained on subsets of traininig examples. So now instead of using the gradients produced by a single image, one can use for example the average gradients over the mini-batch:"
   ]
  },
  {
   "cell_type": "code",
   "execution_count": 2,
   "metadata": {},
   "outputs": [
    {
     "data": {
      "text/html": [
       "<img src=\"https://github.com/guiwitz/DLImaging/raw/master/illustrations/batch_processing.jpg\" width=\"700\"/>"
      ],
      "text/plain": [
       "<IPython.core.display.Image object>"
      ]
     },
     "execution_count": 2,
     "metadata": {},
     "output_type": "execute_result"
    }
   ],
   "source": [
    "Image(url='https://github.com/guiwitz/DLImaging/raw/master/illustrations/batch_processing.jpg',width=700) "
   ]
  },
  {
   "cell_type": "markdown",
   "metadata": {},
   "source": [
    "PyTorch is in fact designed to handle batches *by default*. We can see that if we look at the documentation of modules such as ```nn.Linear``` which says that inputs should have the shape ```N x ...``` where ```N``` stands for batch size and ```...``` for other dimensions such as channels, samples etc. This applies in fact to all modules, including those calculating losses. We can therefore feed examples with dimensions ```N x ...``` and PyTorch handles batch calculations for us."
   ]
  },
  {
   "cell_type": "markdown",
   "metadata": {},
   "source": [
    "## Creating the network\n",
    "\n",
    "What does this mean for out network? We only have to make one slight modification. We used ```x.view(-1)``` previously to flatten 32x32 images into vectors of 1024 elements. If we now feed a batch of size Nx32x32, this would generate a long vector of size Nx1024. So we need to adjust the ```view()``` command and specify the size of the first dimension. In such a way only the image dimensions are flattened: ```x.view(batchsize, -1)```. Alternatively we can use ```torch.flatten(start_dim = 1)``` specifying from which dimension we want to start flattening:"
   ]
  },
  {
   "cell_type": "code",
   "execution_count": 3,
   "metadata": {},
   "outputs": [],
   "source": [
    "import torch\n",
    "from torch import nn\n",
    "from torch.functional import F"
   ]
  },
  {
   "cell_type": "code",
   "execution_count": 4,
   "metadata": {},
   "outputs": [],
   "source": [
    "class Mynetwork(nn.Module):\n",
    "    def __init__(self, input_size, num_categories):\n",
    "        super(Mynetwork, self).__init__()\n",
    "        \n",
    "        # define e.g. layers here e.g.\n",
    "        self.layer1 = nn.Linear(input_size, 100)\n",
    "        self.layer2 = nn.Linear(100, 100)\n",
    "        self.layer3 = nn.Linear(100, num_categories)\n",
    "\n",
    "    def forward(self, x):\n",
    "        \n",
    "        # flatten the input\n",
    "        x = x.flatten(start_dim=1)\n",
    "        # define the sequence of operations in the network including e.g. activations\n",
    "        x = F.relu(self.layer1(x))\n",
    "        x = F.relu(self.layer2(x))\n",
    "        x = self.layer3(x)\n",
    "        \n",
    "        return x"
   ]
  },
  {
   "cell_type": "markdown",
   "metadata": {},
   "source": [
    "And now we instantiate it with:"
   ]
  },
  {
   "cell_type": "code",
   "execution_count": 5,
   "metadata": {},
   "outputs": [],
   "source": [
    "model = Mynetwork(1024, 2)"
   ]
  },
  {
   "cell_type": "markdown",
   "metadata": {},
   "source": [
    "Let's check that inputs/outputs work as expected:"
   ]
  },
  {
   "cell_type": "code",
   "execution_count": 6,
   "metadata": {},
   "outputs": [
    {
     "data": {
      "text/plain": [
       "torch.Size([5, 32, 32])"
      ]
     },
     "execution_count": 6,
     "metadata": {},
     "output_type": "execute_result"
    }
   ],
   "source": [
    "myinput = torch.randn((5,32,32))\n",
    "myinput.size()"
   ]
  },
  {
   "cell_type": "code",
   "execution_count": 7,
   "metadata": {},
   "outputs": [
    {
     "data": {
      "text/plain": [
       "torch.Size([5, 2])"
      ]
     },
     "execution_count": 7,
     "metadata": {},
     "output_type": "execute_result"
    }
   ],
   "source": [
    "myoutput = model(myinput)\n",
    "myoutput.size()"
   ]
  },
  {
   "cell_type": "markdown",
   "metadata": {},
   "source": [
    "If we want to pass a single element, e.g. in the inference phase, then we still have to reshape it so that it has dimensions ```N x ...```. The first dimension will just have a size of 1. The simples to do that is to use ```unsqueeze()```:"
   ]
  },
  {
   "cell_type": "code",
   "execution_count": 8,
   "metadata": {},
   "outputs": [
    {
     "data": {
      "text/plain": [
       "torch.Size([32, 32])"
      ]
     },
     "execution_count": 8,
     "metadata": {},
     "output_type": "execute_result"
    }
   ],
   "source": [
    "myimage = torch.randn((32,32))\n",
    "myimage.size()"
   ]
  },
  {
   "cell_type": "code",
   "execution_count": 9,
   "metadata": {},
   "outputs": [
    {
     "data": {
      "text/plain": [
       "torch.Size([1, 32, 32])"
      ]
     },
     "execution_count": 9,
     "metadata": {},
     "output_type": "execute_result"
    }
   ],
   "source": [
    "myimage = myimage.unsqueeze(0)\n",
    "myimage.size()"
   ]
  },
  {
   "cell_type": "code",
   "execution_count": 10,
   "metadata": {},
   "outputs": [
    {
     "data": {
      "text/plain": [
       "torch.Size([1, 2])"
      ]
     },
     "execution_count": 10,
     "metadata": {},
     "output_type": "execute_result"
    }
   ],
   "source": [
    "output = model(myimage)\n",
    "output.size()"
   ]
  },
  {
   "cell_type": "markdown",
   "metadata": {},
   "source": [
    "## Defining a loss function and and backpropagating\n",
    "\n",
    "In this example, we are going to classify images. Therefore we can use a standard loss function like cross-entropy which is also available in the ```torch.nn``` module:"
   ]
  },
  {
   "cell_type": "code",
   "execution_count": 11,
   "metadata": {},
   "outputs": [],
   "source": [
    "criterion = nn.CrossEntropyLoss()"
   ]
  },
  {
   "cell_type": "code",
   "execution_count": 12,
   "metadata": {},
   "outputs": [
    {
     "data": {
      "text/plain": [
       "torch.nn.modules.loss.CrossEntropyLoss"
      ]
     },
     "execution_count": 12,
     "metadata": {},
     "output_type": "execute_result"
    }
   ],
   "source": [
    "type(criterion)"
   ]
  },
  {
   "cell_type": "markdown",
   "metadata": {},
   "source": [
    "We see that the loss function is also a module i.e. it is differentiable and can just be integrated in the network. Also it sticks to the same \"batch-logic\" as the other layers. Therefore it expects inputs whose dimensions start with ```N``` for bactches. What we need here is the output of the network of size ```N x C``` where C is the number of categories (2 in our example) and a list of target labels (\"true\" labels) which have of course to be turned into a tensor.\n",
    "\n",
    "We make up some data here:"
   ]
  },
  {
   "cell_type": "code",
   "execution_count": 13,
   "metadata": {},
   "outputs": [],
   "source": [
    "mysample = torch.randn(3, 32*32)\n",
    "mylabels = torch.tensor([0,1,1])"
   ]
  },
  {
   "cell_type": "markdown",
   "metadata": {},
   "source": [
    "We pass them through the network:"
   ]
  },
  {
   "cell_type": "code",
   "execution_count": 14,
   "metadata": {},
   "outputs": [],
   "source": [
    "output = model(mysample)"
   ]
  },
  {
   "cell_type": "markdown",
   "metadata": {},
   "source": [
    "And compare output to target with the cross-entropy module:"
   ]
  },
  {
   "cell_type": "code",
   "execution_count": 15,
   "metadata": {},
   "outputs": [],
   "source": [
    "loss = criterion(output, mylabels)"
   ]
  },
  {
   "cell_type": "markdown",
   "metadata": {},
   "source": [
    "Note that the ```CrossEntropyLoss``` module **automatically** applies soft-max to the output and then calculates the loss. So we **don't need** to have a soft-max layer at the end of our network."
   ]
  },
  {
   "cell_type": "markdown",
   "metadata": {},
   "source": [
    "Now that we have done the forward pass, we can calculate the gradients of the loss by backpropagation. This is simply done by calling the ```backward``` method:"
   ]
  },
  {
   "cell_type": "code",
   "execution_count": 16,
   "metadata": {},
   "outputs": [],
   "source": [
    "loss.backward()"
   ]
  },
  {
   "cell_type": "markdown",
   "metadata": {},
   "source": [
    "### Optimizer\n",
    "\n",
    "Now that we have an estimate of the loss and gradients, we can optimize all our paramters by using some optimization algorithm. Several are available in ```torch.optim```. We use here the Adam optimizer, one of the \"safest\" choices. As arguments we need to pass a list of parameters that need to be optimized. We can do that by recovering them from our model:"
   ]
  },
  {
   "cell_type": "code",
   "execution_count": 17,
   "metadata": {},
   "outputs": [
    {
     "data": {
      "text/plain": [
       "[Parameter containing:\n",
       " tensor([[-0.0207,  0.0286, -0.0202,  ..., -0.0044,  0.0245,  0.0275],\n",
       "         [ 0.0120,  0.0176,  0.0056,  ..., -0.0290,  0.0288,  0.0178],\n",
       "         [-0.0177,  0.0174,  0.0301,  ..., -0.0175,  0.0172, -0.0083],\n",
       "         ...,\n",
       "         [-0.0308,  0.0180,  0.0090,  ..., -0.0094, -0.0253, -0.0114],\n",
       "         [-0.0198, -0.0272, -0.0310,  ..., -0.0183,  0.0278,  0.0070],\n",
       "         [-0.0093,  0.0152, -0.0251,  ...,  0.0019, -0.0024,  0.0301]],\n",
       "        requires_grad=True),\n",
       " Parameter containing:\n",
       " tensor([ 0.0269, -0.0029, -0.0003,  0.0126, -0.0222, -0.0133,  0.0131, -0.0137,\n",
       "         -0.0287,  0.0127, -0.0305,  0.0223,  0.0043,  0.0057,  0.0169,  0.0251,\n",
       "         -0.0224, -0.0043,  0.0099, -0.0062, -0.0099, -0.0060, -0.0210,  0.0206,\n",
       "          0.0078, -0.0162,  0.0019,  0.0281,  0.0185,  0.0214,  0.0021, -0.0058,\n",
       "          0.0124,  0.0104,  0.0054, -0.0120, -0.0138, -0.0025,  0.0056, -0.0064,\n",
       "          0.0189, -0.0239,  0.0176,  0.0194, -0.0129,  0.0155, -0.0159, -0.0020,\n",
       "          0.0027,  0.0020,  0.0047,  0.0146,  0.0035, -0.0187,  0.0033,  0.0148,\n",
       "         -0.0160, -0.0114,  0.0047,  0.0143,  0.0264,  0.0198, -0.0232, -0.0164,\n",
       "          0.0017,  0.0236,  0.0076,  0.0168, -0.0295, -0.0260, -0.0046, -0.0309,\n",
       "          0.0213, -0.0093, -0.0074,  0.0292,  0.0252, -0.0221, -0.0145,  0.0079,\n",
       "         -0.0039,  0.0012,  0.0103,  0.0155, -0.0207,  0.0133, -0.0135, -0.0298,\n",
       "          0.0297,  0.0064, -0.0239, -0.0057,  0.0072,  0.0219, -0.0011,  0.0143,\n",
       "         -0.0059,  0.0204, -0.0093, -0.0198], requires_grad=True),\n",
       " Parameter containing:\n",
       " tensor([[-0.0995, -0.0855, -0.0827,  ..., -0.0805, -0.0393, -0.0705],\n",
       "         [ 0.0896,  0.0198,  0.0019,  ...,  0.0030, -0.0604,  0.0639],\n",
       "         [ 0.0978,  0.0244,  0.0165,  ..., -0.0509, -0.0219, -0.0827],\n",
       "         ...,\n",
       "         [ 0.0336,  0.0868,  0.0923,  ...,  0.0713,  0.0690, -0.0251],\n",
       "         [ 0.0459,  0.0561, -0.0181,  ...,  0.0520, -0.0958,  0.0292],\n",
       "         [ 0.0095,  0.0174,  0.0968,  ..., -0.0383,  0.0888,  0.0991]],\n",
       "        requires_grad=True),\n",
       " Parameter containing:\n",
       " tensor([-0.0395,  0.0235, -0.0367,  0.0054, -0.0421, -0.0406,  0.0958, -0.0614,\n",
       "          0.0279, -0.0983,  0.0769, -0.0323,  0.0290,  0.0447, -0.0913, -0.0531,\n",
       "         -0.0775,  0.0337, -0.0758,  0.0199, -0.0266,  0.0549, -0.0519, -0.0967,\n",
       "          0.0056,  0.0640,  0.0443,  0.0717,  0.0717,  0.0148,  0.0152, -0.0487,\n",
       "          0.0066, -0.0716,  0.0198, -0.0643,  0.0269, -0.0937, -0.0630,  0.0653,\n",
       "          0.0396, -0.0024, -0.0611,  0.0551,  0.0834,  0.0819, -0.0331,  0.0753,\n",
       "          0.0137, -0.0564,  0.0786, -0.0300,  0.0355, -0.0627,  0.0057,  0.0520,\n",
       "         -0.0985, -0.0800,  0.0723, -0.0815,  0.0090,  0.0635,  0.0799, -0.0152,\n",
       "         -0.0626,  0.0070,  0.0948, -0.0005, -0.0002, -0.0574, -0.0694, -0.0017,\n",
       "          0.0236, -0.0006, -0.0177, -0.0890,  0.0058, -0.0744, -0.0933,  0.0744,\n",
       "          0.0970,  0.0782,  0.0203,  0.0653, -0.0970,  0.0332,  0.0575,  0.0649,\n",
       "         -0.0114, -0.0078,  0.0223, -0.0539,  0.0123,  0.0422,  0.0367, -0.0648,\n",
       "         -0.0751,  0.0274, -0.0595,  0.0747], requires_grad=True),\n",
       " Parameter containing:\n",
       " tensor([[ 3.8702e-03,  3.5696e-02, -7.2100e-02, -9.7508e-03,  8.6731e-02,\n",
       "           3.3798e-02, -7.8274e-02,  2.5065e-02,  4.1521e-02,  3.2090e-03,\n",
       "           3.6306e-03,  3.3998e-02,  8.0662e-02, -2.4851e-02,  2.1402e-02,\n",
       "           4.0763e-02, -3.3036e-02,  5.0411e-02, -8.3928e-02,  1.0472e-02,\n",
       "           1.2370e-02, -7.3249e-02,  8.8429e-02,  1.0340e-02,  9.2734e-02,\n",
       "          -3.2813e-02, -6.4033e-03,  6.4540e-02, -2.1975e-02, -1.5804e-02,\n",
       "          -2.4598e-02,  1.4900e-02, -9.4502e-02, -3.6380e-02, -3.5105e-02,\n",
       "          -6.0067e-02, -9.7207e-02,  2.0937e-02,  1.2341e-02,  4.9291e-02,\n",
       "           5.6069e-02, -8.9583e-02, -7.8351e-02, -9.4778e-02, -8.8624e-03,\n",
       "           4.5480e-02,  5.1207e-02, -9.6719e-02, -4.3040e-02, -4.8931e-02,\n",
       "          -2.1983e-02, -6.0855e-02, -1.3216e-02,  7.6858e-03, -1.8548e-02,\n",
       "          -2.3957e-03, -2.1508e-02,  4.5537e-02,  3.7270e-02,  4.0807e-02,\n",
       "          -2.9987e-02, -9.4821e-02, -6.2711e-03,  2.8898e-02,  2.1901e-02,\n",
       "          -1.4467e-02, -6.2859e-02,  7.0738e-02,  1.6175e-02,  3.0059e-02,\n",
       "          -3.1053e-02,  8.5979e-02, -4.9416e-02,  7.3150e-02, -1.8781e-02,\n",
       "          -3.0675e-02,  3.3816e-02,  1.0636e-02, -2.3614e-02, -5.6499e-02,\n",
       "           2.6137e-02,  8.3095e-02,  3.3363e-02, -4.0221e-02, -7.5914e-02,\n",
       "           6.9512e-02,  5.1678e-02,  5.6679e-02,  5.2818e-02,  3.4573e-02,\n",
       "          -8.0616e-02, -5.4624e-02,  5.8595e-02,  7.3824e-02, -8.5722e-02,\n",
       "           1.6345e-02,  8.8578e-02,  1.7658e-02,  6.5806e-03,  4.2578e-02],\n",
       "         [-3.4165e-02, -1.3692e-02, -6.7411e-02,  2.2738e-02, -9.0232e-02,\n",
       "          -7.5389e-02,  5.5766e-02, -3.8761e-03,  2.1492e-02,  7.4959e-02,\n",
       "           6.4297e-02,  6.0278e-02, -1.5439e-03, -4.5557e-02,  5.8821e-02,\n",
       "          -4.1783e-05,  3.9907e-02, -1.0458e-02,  5.7111e-02,  9.8599e-02,\n",
       "          -9.6829e-02,  2.6864e-02, -9.8429e-02,  2.5922e-02, -4.7673e-02,\n",
       "          -9.5206e-02, -2.9672e-02, -6.9571e-02,  5.2893e-02, -1.1750e-02,\n",
       "          -9.5142e-02,  7.0098e-02, -1.7801e-02, -9.3244e-02, -2.1579e-04,\n",
       "           2.1100e-02,  4.7884e-02,  6.3352e-02,  9.9338e-02,  2.7690e-02,\n",
       "           6.7637e-02, -2.0365e-02,  3.7900e-02, -2.0802e-02, -4.7971e-02,\n",
       "          -4.2211e-03, -3.3654e-02, -2.1424e-02,  9.7731e-02,  9.5915e-02,\n",
       "          -6.8594e-02, -5.2848e-02,  8.4207e-02,  2.2497e-02, -4.1488e-02,\n",
       "           4.9087e-02,  9.1304e-02, -1.1514e-02, -1.6157e-02,  5.1437e-04,\n",
       "           3.8481e-02,  2.5475e-02, -6.7826e-02,  1.3301e-02, -9.8939e-02,\n",
       "          -8.3005e-03, -4.9380e-02,  2.7930e-02,  9.0394e-02, -8.4940e-02,\n",
       "          -1.0692e-02,  7.5798e-02, -4.4298e-02, -8.6632e-02,  2.7608e-02,\n",
       "           9.4091e-02,  8.7362e-02,  8.5525e-02, -1.7437e-02,  2.0956e-02,\n",
       "          -5.8355e-02, -8.6588e-03, -3.7202e-03,  7.6798e-02,  9.8889e-02,\n",
       "           4.4902e-02,  9.1539e-02, -3.0416e-02, -9.4850e-02,  7.8446e-02,\n",
       "          -6.7352e-02, -6.3957e-02,  3.5493e-02, -2.0826e-04, -3.9342e-02,\n",
       "           2.6463e-03,  5.3421e-03, -2.3860e-02, -3.1250e-02, -2.5869e-03]],\n",
       "        requires_grad=True),\n",
       " Parameter containing:\n",
       " tensor([0.0933, 0.0913], requires_grad=True)]"
      ]
     },
     "execution_count": 17,
     "metadata": {},
     "output_type": "execute_result"
    }
   ],
   "source": [
    "list(model.parameters())"
   ]
  },
  {
   "cell_type": "code",
   "execution_count": 18,
   "metadata": {},
   "outputs": [],
   "source": [
    "import torch.optim as optim\n",
    "\n",
    "optimizer = optim.Adam(model.parameters(), lr=0.001)"
   ]
  },
  {
   "cell_type": "markdown",
   "metadata": {},
   "source": [
    "Now we have to acutally do one step of optimization using the ```step``` method:"
   ]
  },
  {
   "cell_type": "code",
   "execution_count": 19,
   "metadata": {},
   "outputs": [],
   "source": [
    "optimizer.step()"
   ]
  },
  {
   "cell_type": "markdown",
   "metadata": {},
   "source": [
    "Let's check that some parameters have really changed:"
   ]
  },
  {
   "cell_type": "code",
   "execution_count": 20,
   "metadata": {},
   "outputs": [
    {
     "data": {
      "text/plain": [
       "[Parameter containing:\n",
       " tensor([[-0.0217,  0.0296, -0.0212,  ..., -0.0034,  0.0255,  0.0285],\n",
       "         [ 0.0130,  0.0166,  0.0066,  ..., -0.0280,  0.0298,  0.0168],\n",
       "         [-0.0187,  0.0164,  0.0291,  ..., -0.0165,  0.0162, -0.0073],\n",
       "         ...,\n",
       "         [-0.0318,  0.0190,  0.0080,  ..., -0.0104, -0.0263, -0.0124],\n",
       "         [-0.0188, -0.0262, -0.0320,  ..., -0.0193,  0.0268,  0.0060],\n",
       "         [-0.0103,  0.0142, -0.0261,  ...,  0.0029, -0.0034,  0.0311]],\n",
       "        requires_grad=True),\n",
       " Parameter containing:\n",
       " tensor([ 2.7912e-02, -3.9282e-03,  7.1292e-04,  1.3552e-02, -2.3237e-02,\n",
       "         -1.2270e-02,  1.2098e-02, -1.2676e-02, -2.9673e-02,  1.1697e-02,\n",
       "         -2.9461e-02,  2.1328e-02,  5.3354e-03,  6.6806e-03,  1.7908e-02,\n",
       "          2.4146e-02, -2.1449e-02, -5.2837e-03,  1.0939e-02, -6.1688e-03,\n",
       "         -1.0918e-02, -4.9600e-03, -2.0002e-02,  1.9586e-02,  8.7852e-03,\n",
       "         -1.7249e-02,  1.8505e-03,  2.9110e-02,  1.7487e-02,  2.1442e-02,\n",
       "          1.1191e-03, -4.7743e-03,  1.1357e-02,  9.3898e-03,  6.3998e-03,\n",
       "         -1.3000e-02, -1.4849e-02, -2.5188e-03,  6.5912e-03, -6.3906e-03,\n",
       "          1.9938e-02, -2.4922e-02,  1.8577e-02,  2.0445e-02, -1.3932e-02,\n",
       "          1.6538e-02, -1.4920e-02, -9.6416e-04,  3.6774e-03,  3.0017e-03,\n",
       "          3.7153e-03,  1.4593e-02,  4.4638e-03, -1.7728e-02,  2.3035e-03,\n",
       "          1.3810e-02, -1.7044e-02, -1.2438e-02,  3.6536e-03,  1.3263e-02,\n",
       "          2.7447e-02,  1.9767e-02, -2.3209e-02, -1.6353e-02,  7.1181e-04,\n",
       "          2.4645e-02,  6.5945e-03,  1.7753e-02, -3.0539e-02, -2.4954e-02,\n",
       "         -3.6280e-03, -2.9852e-02,  2.0290e-02, -1.0273e-02, -6.3985e-03,\n",
       "          3.0201e-02,  2.4205e-02, -2.3106e-02, -1.3458e-02,  8.8640e-03,\n",
       "         -4.8522e-03,  2.1701e-03,  1.1268e-02,  1.4461e-02, -1.9670e-02,\n",
       "          1.4271e-02, -1.4542e-02, -2.8789e-02,  3.0724e-02,  7.3912e-03,\n",
       "         -2.2946e-02, -6.7139e-03,  8.1547e-03,  2.2892e-02, -5.1610e-05,\n",
       "          1.3306e-02, -4.8654e-03,  2.1418e-02, -1.0303e-02, -1.8813e-02],\n",
       "        requires_grad=True),\n",
       " Parameter containing:\n",
       " tensor([[-0.0995, -0.0855, -0.0827,  ..., -0.0805, -0.0393, -0.0705],\n",
       "         [ 0.0886,  0.0188,  0.0009,  ...,  0.0040, -0.0614,  0.0629],\n",
       "         [ 0.0988,  0.0254,  0.0175,  ..., -0.0519, -0.0209, -0.0817],\n",
       "         ...,\n",
       "         [ 0.0346,  0.0878,  0.0913,  ...,  0.0723,  0.0680, -0.0261],\n",
       "         [ 0.0449,  0.0551, -0.0191,  ...,  0.0530, -0.0968,  0.0282],\n",
       "         [ 0.0085,  0.0164,  0.0958,  ..., -0.0393,  0.0878,  0.0981]],\n",
       "        requires_grad=True),\n",
       " Parameter containing:\n",
       " tensor([-0.0395,  0.0225, -0.0357,  0.0064, -0.0421, -0.0406,  0.0968, -0.0604,\n",
       "          0.0279, -0.0973,  0.0779, -0.0313,  0.0280,  0.0437, -0.0903, -0.0541,\n",
       "         -0.0775,  0.0347, -0.0748,  0.0209, -0.0256,  0.0559, -0.0529, -0.0957,\n",
       "          0.0046,  0.0630,  0.0433,  0.0707,  0.0727,  0.0158,  0.0142, -0.0477,\n",
       "          0.0076, -0.0726,  0.0208, -0.0633,  0.0279, -0.0937, -0.0620,  0.0643,\n",
       "          0.0406, -0.0014, -0.0611,  0.0561,  0.0824,  0.0809, -0.0331,  0.0753,\n",
       "          0.0147, -0.0564,  0.0776, -0.0300,  0.0365, -0.0617,  0.0067,  0.0530,\n",
       "         -0.0985, -0.0810,  0.0713, -0.0815,  0.0100,  0.0645,  0.0809, -0.0162,\n",
       "         -0.0636,  0.0070,  0.0958, -0.0005,  0.0008, -0.0564, -0.0684, -0.0027,\n",
       "          0.0246,  0.0004, -0.0177, -0.0890,  0.0068, -0.0734, -0.0923,  0.0754,\n",
       "          0.0960,  0.0772,  0.0193,  0.0663, -0.0960,  0.0322,  0.0585,  0.0639,\n",
       "         -0.0124, -0.0068,  0.0233, -0.0549,  0.0113,  0.0422,  0.0377, -0.0658,\n",
       "         -0.0761,  0.0264, -0.0605,  0.0737], requires_grad=True),\n",
       " Parameter containing:\n",
       " tensor([[ 0.0039,  0.0347, -0.0711, -0.0108,  0.0867,  0.0338, -0.0773,  0.0261,\n",
       "           0.0415,  0.0022,  0.0026,  0.0330,  0.0797, -0.0259,  0.0204,  0.0398,\n",
       "          -0.0330,  0.0514, -0.0849,  0.0095,  0.0134, -0.0742,  0.0874,  0.0093,\n",
       "           0.0917, -0.0338, -0.0074,  0.0655, -0.0230, -0.0168, -0.0256,  0.0139,\n",
       "          -0.0955, -0.0374, -0.0361, -0.0611, -0.0962,  0.0209,  0.0113,  0.0483,\n",
       "           0.0551, -0.0906, -0.0784, -0.0958, -0.0079,  0.0465,  0.0512, -0.0967,\n",
       "          -0.0440, -0.0489, -0.0230, -0.0609, -0.0142,  0.0067, -0.0175, -0.0034,\n",
       "          -0.0215,  0.0445,  0.0363,  0.0408, -0.0310, -0.0958, -0.0053,  0.0279,\n",
       "           0.0209, -0.0145, -0.0639,  0.0707,  0.0152,  0.0311, -0.0321,  0.0850,\n",
       "          -0.0504,  0.0742, -0.0188, -0.0307,  0.0328,  0.0096, -0.0246, -0.0575,\n",
       "           0.0251,  0.0821,  0.0344, -0.0392, -0.0769,  0.0685,  0.0527,  0.0577,\n",
       "           0.0518,  0.0336, -0.0816, -0.0556,  0.0576,  0.0738, -0.0867,  0.0153,\n",
       "           0.0896,  0.0167,  0.0076,  0.0416],\n",
       "         [-0.0342, -0.0127, -0.0684,  0.0237, -0.0902, -0.0754,  0.0548, -0.0049,\n",
       "           0.0215,  0.0760,  0.0653,  0.0613, -0.0005, -0.0446,  0.0598,  0.0010,\n",
       "           0.0399, -0.0115,  0.0581,  0.0996, -0.0978,  0.0279, -0.0974,  0.0269,\n",
       "          -0.0467, -0.0942, -0.0287, -0.0706,  0.0539, -0.0107, -0.0941,  0.0711,\n",
       "          -0.0168, -0.0922,  0.0008,  0.0221,  0.0469,  0.0634,  0.1003,  0.0287,\n",
       "           0.0686, -0.0194,  0.0379, -0.0198, -0.0490, -0.0052, -0.0337, -0.0214,\n",
       "           0.0987,  0.0959, -0.0676, -0.0528,  0.0852,  0.0235, -0.0425,  0.0501,\n",
       "           0.0913, -0.0105, -0.0152,  0.0005,  0.0395,  0.0265, -0.0688,  0.0143,\n",
       "          -0.0979, -0.0083, -0.0484,  0.0279,  0.0914, -0.0859, -0.0097,  0.0768,\n",
       "          -0.0433, -0.0876,  0.0276,  0.0941,  0.0884,  0.0865, -0.0164,  0.0220,\n",
       "          -0.0574, -0.0077, -0.0047,  0.0758,  0.0999,  0.0459,  0.0905, -0.0314,\n",
       "          -0.0939,  0.0794, -0.0664, -0.0630,  0.0365, -0.0002, -0.0383,  0.0036,\n",
       "           0.0043, -0.0229, -0.0322, -0.0016]], requires_grad=True),\n",
       " Parameter containing:\n",
       " tensor([0.0923, 0.0923], requires_grad=True)]"
      ]
     },
     "execution_count": 20,
     "metadata": {},
     "output_type": "execute_result"
    }
   ],
   "source": [
    "list(model.parameters())"
   ]
  },
  {
   "cell_type": "markdown",
   "metadata": {},
   "source": [
    "## Measuring accuracy\n",
    "\n",
    "We use the cross-entropy as loss because it allows us to optimize our network. However what we are ultimately interested in is the **accuracy** of our model i.e. whether the correct label has been found or not. Such a binary answer is not useful for optimization but is what we want to monitor in the end. Let's generate some random data and see how we can calculate this:"
   ]
  },
  {
   "cell_type": "code",
   "execution_count": 21,
   "metadata": {},
   "outputs": [],
   "source": [
    "myimages = torch.randn((3,32,32))\n",
    "labels = torch.randint(0,2,(3,))"
   ]
  },
  {
   "cell_type": "code",
   "execution_count": 22,
   "metadata": {},
   "outputs": [
    {
     "data": {
      "text/plain": [
       "tensor([0, 1, 1])"
      ]
     },
     "execution_count": 22,
     "metadata": {},
     "output_type": "execute_result"
    }
   ],
   "source": [
    "labels"
   ]
  },
  {
   "cell_type": "code",
   "execution_count": 23,
   "metadata": {},
   "outputs": [
    {
     "data": {
      "text/plain": [
       "tensor([[0.1602, 0.2699],\n",
       "        [0.1208, 0.1867],\n",
       "        [0.0253, 0.0679]], grad_fn=<AddmmBackward0>)"
      ]
     },
     "execution_count": 23,
     "metadata": {},
     "output_type": "execute_result"
    }
   ],
   "source": [
    "output = model(myimages)\n",
    "output"
   ]
  },
  {
   "cell_type": "markdown",
   "metadata": {},
   "source": [
    "The predicted category is the one with the highest probability (not normalized here but it doesn't matter). We can therefore just look for the index of the maximum value along the horizontal dimension:"
   ]
  },
  {
   "cell_type": "code",
   "execution_count": 24,
   "metadata": {},
   "outputs": [
    {
     "data": {
      "text/plain": [
       "tensor([1, 1, 1])"
      ]
     },
     "execution_count": 24,
     "metadata": {},
     "output_type": "execute_result"
    }
   ],
   "source": [
    "output.argmax(dim=1)"
   ]
  },
  {
   "cell_type": "markdown",
   "metadata": {},
   "source": [
    "Now we can compare prediction and true label:"
   ]
  },
  {
   "cell_type": "code",
   "execution_count": 25,
   "metadata": {},
   "outputs": [
    {
     "data": {
      "text/plain": [
       "tensor([False,  True,  True])"
      ]
     },
     "execution_count": 25,
     "metadata": {},
     "output_type": "execute_result"
    }
   ],
   "source": [
    "labels == output.argmax(dim=1)"
   ]
  },
  {
   "cell_type": "markdown",
   "metadata": {},
   "source": [
    "If we take the sum over this tensor, it tells us how many samples in the batch were correctly predicted and the average accuracy is:"
   ]
  },
  {
   "cell_type": "code",
   "execution_count": 26,
   "metadata": {},
   "outputs": [
    {
     "data": {
      "text/plain": [
       "tensor(0.6667)"
      ]
     },
     "execution_count": 26,
     "metadata": {},
     "output_type": "execute_result"
    }
   ],
   "source": [
    "(labels == output.argmax(dim=1)).sum()/3"
   ]
  },
  {
   "cell_type": "markdown",
   "metadata": {},
   "source": [
    "## Dataset\n",
    "\n",
    "Now that we know that all steps work, we want to test our network. We will create a synthetic dataset for that using ```skimage.draw```. We will just generate random images with either circles or triangles. As we have an \"infinite\" amount of data available, we just artificially set a size for our dataset.\n",
    "\n",
    "Don't forget that we need a training and a validation dataset. Every time we have trained the network with the whole training dataset we check prediction quality with the validation dataset to make sure e.g. we are not over-fitting."
   ]
  },
  {
   "cell_type": "code",
   "execution_count": 27,
   "metadata": {},
   "outputs": [],
   "source": [
    "from skimage.draw import random_shapes\n",
    "import matplotlib.pyplot as plt\n",
    "import numpy as np"
   ]
  },
  {
   "cell_type": "markdown",
   "metadata": {},
   "source": [
    "The following function takes as input a keyword - ```triangle```, ```circle```, etc. - and outputs an image with that object as a PyTorch tensor:"
   ]
  },
  {
   "cell_type": "code",
   "execution_count": 29,
   "metadata": {},
   "outputs": [],
   "source": [
    "def make_image(shape, imsize):\n",
    "    \"\"\"Generate image of given shape scaled 0-1.\n",
    "    shape: str\n",
    "        shape to draw (circle, triangle, rectangle)\n",
    "    imsize: int\n",
    "        size of image\n",
    "    \"\"\"\n",
    "    \n",
    "    image, _ = random_shapes((imsize,imsize),max_shapes=1, min_shapes=1, num_channels=1, shape=shape,\n",
    "                                min_size=8)\n",
    "    #normalize\n",
    "    image = (255-image)/255\n",
    "\n",
    "    # turn into tensor\n",
    "    image_tensor = torch.tensor(image,dtype=torch.float32)\n",
    "    \n",
    "    return image_tensor"
   ]
  },
  {
   "cell_type": "markdown",
   "metadata": {},
   "source": [
    "To create pairs of images and labels we simply create a list of possible shapes and randomly pick values from there. We should also not forget to transform the label into a tensor. Let's make a single image:"
   ]
  },
  {
   "cell_type": "code",
   "execution_count": 30,
   "metadata": {},
   "outputs": [],
   "source": [
    "im_type = ['circle', 'triangle','rectangle']\n",
    "num_cat = len(im_type)\n",
    "image_size = 32\n",
    "\n",
    "label = torch.randint(0,num_cat,(1,))\n",
    "image = make_image(im_type[label], image_size)"
   ]
  },
  {
   "cell_type": "code",
   "execution_count": 31,
   "metadata": {},
   "outputs": [
    {
     "data": {
      "image/png": "[encoded data removed]",
      "text/plain": [
       "<Figure size 432x288 with 1 Axes>"
      ]
     },
     "metadata": {
      "needs_background": "light"
     },
     "output_type": "display_data"
    }
   ],
   "source": [
    "fig, ax = plt.subplots()\n",
    "ax.imshow(image)\n",
    "ax.set_title(im_type[label]);"
   ]
  },
  {
   "cell_type": "markdown",
   "metadata": {},
   "source": [
    "We want to train our network using mini-batches, and each batch should have a size ```N x H x W``` where ```N``` is the batch size and ```H,W``` the image dimension. We can create a batch by stacking multiple 2D tensors together:"
   ]
  },
  {
   "cell_type": "code",
   "execution_count": 32,
   "metadata": {},
   "outputs": [
    {
     "data": {
      "text/plain": [
       "torch.Size([10, 32, 32, 1])"
      ]
     },
     "execution_count": 32,
     "metadata": {},
     "output_type": "execute_result"
    }
   ],
   "source": [
    "batch_size = 10\n",
    "single_batch = torch.stack([make_image('circle', image_size) for x in range(batch_size)])\n",
    "single_batch.size()"
   ]
  },
  {
   "cell_type": "markdown",
   "metadata": {},
   "source": [
    "Of course we want to mix the different image types, so we generate labels of size ```batch_size``` as well:"
   ]
  },
  {
   "cell_type": "code",
   "execution_count": 33,
   "metadata": {},
   "outputs": [
    {
     "data": {
      "image/png": "[encoded data removed]",
      "text/plain": [
       "<Figure size 432x288 with 4 Axes>"
      ]
     },
     "metadata": {
      "needs_background": "light"
     },
     "output_type": "display_data"
    }
   ],
   "source": [
    "label = torch.randint(0,num_cat,(batch_size,))\n",
    "single_batch = torch.stack([make_image(im_type[x], image_size) for x in label])\n",
    "\n",
    "fig, ax = plt.subplots(1,4)\n",
    "for x in range(4):\n",
    "    ax[x].imshow(single_batch[x,:,:])"
   ]
  },
  {
   "cell_type": "markdown",
   "metadata": {},
   "source": [
    "Finally we can create our full dataset (as a list of tensors) by generating ```M``` bachtes in order to have ```M x N``` training examples:"
   ]
  },
  {
   "cell_type": "code",
   "execution_count": 34,
   "metadata": {},
   "outputs": [],
   "source": [
    "# size of training dataset\n",
    "batch_size = 10\n",
    "training_size = 5000\n",
    "validation_size = 100\n",
    "train_batch_number = int(training_size/batch_size)\n",
    "validation_batch_number = int(validation_size/batch_size)\n",
    "\n",
    "training_label = [torch.randint(0,num_cat,(batch_size,)) for i in range(train_batch_number)]\n",
    "validation_label = [torch.randint(0,num_cat,(batch_size,)) for i in range(validation_batch_number)]\n",
    "\n",
    "train_batches = [torch.stack([make_image(im_type[x], image_size) for x in lab]) for lab in training_label]\n",
    "valid_batches = [torch.stack([make_image(im_type[x], image_size) for x in lab]) for lab in validation_label]\n"
   ]
  },
  {
   "cell_type": "markdown",
   "metadata": {},
   "source": [
    "## Training loop\n",
    "\n",
    "Now we can create a loop where we iterate through our batches to train our network and go through the steps defined above. We will do two loops: \n",
    "1. Over epochs: one epoch representing a training step over **all batches**\n",
    "2. Over batches\n",
    "\n",
    "We do validation only once per epoch to see how training goes."
   ]
  },
  {
   "cell_type": "code",
   "execution_count": 36,
   "metadata": {},
   "outputs": [
    {
     "name": "stdout",
     "output_type": "stream",
     "text": [
      "epoch: 0\n",
      "valid_accuracy: 0.7199999094009399\n",
      "epoch: 1\n",
      "valid_accuracy: 0.7299999594688416\n",
      "epoch: 2\n",
      "valid_accuracy: 0.75\n",
      "epoch: 3\n",
      "valid_accuracy: 0.8200000524520874\n",
      "epoch: 4\n",
      "valid_accuracy: 0.8100000619888306\n",
      "epoch: 5\n",
      "valid_accuracy: 0.8600000143051147\n",
      "epoch: 6\n",
      "valid_accuracy: 0.8799999952316284\n",
      "epoch: 7\n",
      "valid_accuracy: 0.8799999952316284\n",
      "epoch: 8\n",
      "valid_accuracy: 0.8600000143051147\n",
      "epoch: 9\n",
      "valid_accuracy: 0.8700000047683716\n"
     ]
    }
   ],
   "source": [
    "#del model\n",
    "model = Mynetwork(1024, 3)\n",
    "optimizer = optim.Adam(model.parameters(), lr=0.001)\n",
    "\n",
    "for epoch in range(10):\n",
    "    \n",
    "    print(f'epoch: {epoch}')\n",
    "    \n",
    "    # initialize running accuracy\n",
    "    running_accuracy = 0\n",
    "    \n",
    "    for t in range(train_batch_number):\n",
    "    \n",
    "        # get batch\n",
    "        label = training_label[t]\n",
    "        mybatch = train_batches[t]\n",
    "\n",
    "        # calculate predicted label and calculate loss\n",
    "        pred = model(mybatch)\n",
    "        loss = criterion(pred, label)\n",
    "\n",
    "        # backpropagate the loss\n",
    "        loss.backward()\n",
    "\n",
    "        # do the optimization step\n",
    "        optimizer.step()\n",
    "\n",
    "        # set gradients to zero as PyTorch accumulates them otherwise\n",
    "        optimizer.zero_grad()\n",
    "\n",
    "        # calculate accuracy\n",
    "        mean_accuracy = (torch.argmax(pred,dim=1) == label).sum()/batch_size\n",
    "        running_accuracy+=mean_accuracy\n",
    "\n",
    "        every_nth = 1000\n",
    "        if t % every_nth == every_nth-1: \n",
    "            print(f'accuracy: {running_accuracy/every_nth}')\n",
    "            running_accuracy = 0.0\n",
    "    \n",
    "    # validation\n",
    "    valid_accuracy = 0\n",
    "    for t in range(validation_batch_number):\n",
    "    \n",
    "        # get batch\n",
    "        label = validation_label[t]\n",
    "        mybatch = valid_batches[t]\n",
    "\n",
    "        # calculate predicted label\n",
    "        pred = model(mybatch)\n",
    "        # calculate accuracy\n",
    "        mean_accuracy = (torch.argmax(pred,dim=1) == label).sum()/batch_size\n",
    "        valid_accuracy += mean_accuracy\n",
    "    valid_accuracy = valid_accuracy/validation_batch_number\n",
    "    print(f'valid_accuracy: {valid_accuracy}')"
   ]
  },
  {
   "cell_type": "markdown",
   "metadata": {},
   "source": [
    "We see that accuracy improves but not to a perfect level. We can try to increase the number of epochs or the training size. We can also try to understand where the problem is. For example we can try to find out which images are most mis-classified using a confusion matrix from scikit-learn."
   ]
  },
  {
   "cell_type": "code",
   "execution_count": 37,
   "metadata": {},
   "outputs": [],
   "source": [
    "from sklearn.metrics import confusion_matrix\n",
    "import pandas as pd\n",
    "import seaborn as sn"
   ]
  },
  {
   "cell_type": "markdown",
   "metadata": {},
   "source": [
    "We generate a test batch and obtain a prediction with our model:"
   ]
  },
  {
   "cell_type": "code",
   "execution_count": 43,
   "metadata": {},
   "outputs": [],
   "source": [
    "label = torch.randint(0,len(im_type),(100,))\n",
    "mybatch = torch.stack([make_image(im_type[x], image_size) for x in label])\n",
    "pred = model(mybatch)"
   ]
  },
  {
   "cell_type": "markdown",
   "metadata": {},
   "source": [
    "Again the maximum index for each element of the batch gives us the final class:"
   ]
  },
  {
   "cell_type": "code",
   "execution_count": 44,
   "metadata": {},
   "outputs": [
    {
     "data": {
      "text/plain": [
       "tensor([0, 1, 0, 1, 2, 1, 2, 1, 1, 0, 0, 1, 2, 0, 0, 0, 0, 1, 1, 2, 0, 0, 2, 2,\n",
       "        1, 0, 0, 0, 0, 0, 2, 0, 0, 0, 1, 0, 0, 0, 1, 1, 0, 0, 0, 1, 0, 2, 2, 2,\n",
       "        2, 2, 1, 2, 0, 2, 1, 2, 2, 0, 1, 1, 1, 0, 1, 1, 1, 0, 2, 0, 0, 0, 0, 0,\n",
       "        2, 1, 1, 1, 2, 0, 0, 2, 1, 2, 1, 0, 0, 1, 2, 1, 2, 1, 1, 2, 2, 0, 1, 1,\n",
       "        1, 1, 2, 2])"
      ]
     },
     "execution_count": 44,
     "metadata": {},
     "output_type": "execute_result"
    }
   ],
   "source": [
    "pred.argmax(dim=1)"
   ]
  },
  {
   "cell_type": "code",
   "execution_count": 45,
   "metadata": {},
   "outputs": [
    {
     "data": {
      "text/plain": [
       "tensor([0, 1, 0, 1, 2, 1, 2, 1, 1, 0, 0, 1, 2, 0, 2, 0, 0, 1, 1, 2, 0, 0, 2, 2,\n",
       "        1, 0, 0, 0, 2, 0, 2, 0, 0, 0, 1, 0, 0, 0, 1, 1, 0, 0, 0, 1, 0, 2, 2, 2,\n",
       "        2, 2, 1, 2, 2, 2, 1, 2, 2, 0, 1, 1, 1, 0, 1, 1, 1, 0, 2, 0, 0, 0, 2, 0,\n",
       "        2, 1, 1, 1, 2, 0, 0, 2, 1, 2, 1, 0, 0, 1, 2, 1, 2, 1, 1, 2, 2, 0, 1, 1,\n",
       "        1, 1, 2, 2])"
      ]
     },
     "execution_count": 45,
     "metadata": {},
     "output_type": "execute_result"
    }
   ],
   "source": [
    "label"
   ]
  },
  {
   "cell_type": "markdown",
   "metadata": {},
   "source": [
    "Let's calcualte the confusion matrix and transform it into a Dataframe that we can then easily plot with seaborn:"
   ]
  },
  {
   "cell_type": "code",
   "execution_count": 46,
   "metadata": {},
   "outputs": [],
   "source": [
    "df_cm = pd.DataFrame(confusion_matrix(pred.argmax(dim=1), label), index = im_type,\n",
    "                  columns = im_type)"
   ]
  },
  {
   "cell_type": "code",
   "execution_count": 47,
   "metadata": {},
   "outputs": [
    {
     "data": {
      "image/png": "[encoded data removed]",
      "text/plain": [
       "<Figure size 720x504 with 2 Axes>"
      ]
     },
     "metadata": {
      "needs_background": "light"
     },
     "output_type": "display_data"
    }
   ],
   "source": [
    "plt.figure(figsize = (10,7))\n",
    "sn.heatmap(df_cm, annot=True);"
   ]
  },
  {
   "cell_type": "markdown",
   "metadata": {},
   "source": [
    "We see that the problem is mostly the circle. Because we use a tiny image, small circles are not smooth and can look like rectangles or triangles."
   ]
  },
  {
   "cell_type": "markdown",
   "metadata": {},
   "source": [
    "## Exercises\n",
    "\n",
    "1. Re-use the network you have create for the exercise 4. Make sure it can take **batches** of 2D images as input.\n",
    "2. Create an image generator which creates black (value=0) images (2D tensors) with a single white (value=1) line which is vertical (class #1) or horizontal (class #2)\n",
    "3. Create training and validation data generators\n",
    "4. Add a training loop and train. Verify that the nework works\n",
    "5. \"Bonus\": try to add various levels of noise to the image and see how prediction is affected"
   ]
  }
 ],
 "metadata": {
  "kernelspec": {
   "display_name": "Python 3",
   "language": "python",
   "name": "python3"
  },
  "language_info": {
   "codemirror_mode": {
    "name": "ipython",
    "version": 3
   },
   "file_extension": ".py",
   "mimetype": "text/x-python",
   "name": "python",
   "nbconvert_exporter": "python",
   "pygments_lexer": "ipython3",
   "version": "3.9.10"
  },
  "toc": {
   "base_numbering": 1,
   "nav_menu": {},
   "number_sections": false,
   "sideBar": true,
   "skip_h1_title": false,
   "title_cell": "Table of Contents",
   "title_sidebar": "Contents",
   "toc_cell": false,
   "toc_position": {},
   "toc_section_display": true,
   "toc_window_display": true
  },
  "varInspector": {
   "cols": {
    "lenName": 16,
    "lenType": 16,
    "lenVar": 40
   },
   "kernels_config": {
    "python": {
     "delete_cmd_postfix": "",
     "delete_cmd_prefix": "del ",
     "library": "var_list.py",
     "varRefreshCmd": "print(var_dic_list())"
    },
    "r": {
     "delete_cmd_postfix": ") ",
     "delete_cmd_prefix": "rm(",
     "library": "var_list.r",
     "varRefreshCmd": "cat(var_dic_list()) "
    }
   },
   "types_to_exclude": [
    "module",
    "function",
    "builtin_function_or_method",
    "instance",
    "_Feature"
   ],
   "window_display": false
  }
 },
 "nbformat": 4,
 "nbformat_minor": 4
}
