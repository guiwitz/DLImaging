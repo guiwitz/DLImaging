{
 "cells": [
  {
   "cell_type": "markdown",
   "metadata": {},
   "source": [
    "[![Open In Colab](https://colab.research.google.com/assets/colab-badge.svg)](https://colab.research.google.com/github/guiwitz/DLImaging/blob/master/notebooks/05-Training.ipynb)"
   ]
  },
  {
   "cell_type": "markdown",
   "metadata": {},
   "source": [
    "# 5. Training a network"
   ]
  },
  {
   "cell_type": "markdown",
   "metadata": {},
   "source": [
    "Now that we know how to create a network, pass an input and an output, we only need to learn how to proceed for training and using it. Let's remember the different steps needed:"
   ]
  },
  {
   "cell_type": "code",
   "execution_count": 1,
   "metadata": {},
   "outputs": [
    {
     "data": {
      "text/html": [
       "<img src=\"https://github.com/guiwitz/DLImaging/raw/master/illustrations/ML_principle.jpg\" width=\"700\"/>"
      ],
      "text/plain": [
       "<IPython.core.display.Image object>"
      ]
     },
     "execution_count": 1,
     "metadata": {},
     "output_type": "execute_result"
    }
   ],
   "source": [
    "from IPython.display import Image\n",
    "\n",
    "# set path containing data folder or use default for Colab (/gdrive/My Drive)\n",
    "local_folder = \"../\"\n",
    "import urllib.request\n",
    "urllib.request.urlretrieve('https://raw.githubusercontent.com/guiwitz/DLImaging/master/utils/check_colab.py', 'check_colab.py')\n",
    "from check_colab import set_datapath\n",
    "colab, datapath = set_datapath(local_folder)\n",
    "\n",
    "Image(url='https://github.com/guiwitz/DLImaging/raw/master/illustrations/ML_principle.jpg',width=700)"
   ]
  },
  {
   "cell_type": "markdown",
   "metadata": {},
   "source": [
    "1. First we will pass training examples *forward* through the network\n",
    "2. We measure an error between prediction and true label, the loss\n",
    "3. We calculate the gradient of the loss respective to each parameter in the model. This is done by *backpropagation*\n",
    "4. We adjust the parameters using the calculated gradient and an optimizer (e.g. SGD)\n",
    "\n",
    "Additionally we will also see in this notebooks additional aspects such as training epochs and validation. The goal here is to once see the whole pipeline in detail before we start using tools that reduce some of the boiler-plate code necessary here."
   ]
  },
  {
   "cell_type": "markdown",
   "metadata": {},
   "source": [
    "## Mini-batches\n",
    "\n",
    "Before we create our network and define a loss, let's remember how training samples are passed through the network. In principle we want to do each optimization step for the **entire dataset** not just a single image as training would have a difficult time to converge. However this is usually not possible and and instead what is generally done is to use **mini-batches**, i.e. the network is iteratively trained on subsets of traininig examples. So now instead of using the gradients produced by a single image, one can use for example the average gradients over the mini-batch:"
   ]
  },
  {
   "cell_type": "code",
   "execution_count": 2,
   "metadata": {},
   "outputs": [
    {
     "data": {
      "text/html": [
       "<img src=\"https://github.com/guiwitz/DLImaging/raw/master/illustrations/batch_processing.jpg\" width=\"700\"/>"
      ],
      "text/plain": [
       "<IPython.core.display.Image object>"
      ]
     },
     "execution_count": 2,
     "metadata": {},
     "output_type": "execute_result"
    }
   ],
   "source": [
    "Image(url='https://github.com/guiwitz/DLImaging/raw/master/illustrations/batch_processing.jpg',width=700) "
   ]
  },
  {
   "cell_type": "markdown",
   "metadata": {},
   "source": [
    "PyTorch is in fact designed to handle batches *by default*. We can see that if we look at the documentation of modules such as ```nn.Linear``` which says that inputs should have the shape ```N x ...``` where ```N``` stands for batch size and ```...``` for other dimensions such as channels, samples etc. This applies in fact to all modules, including those calculating losses. We can therefore feed examples with dimensions ```N x ...``` and PyTorch handles batch calculations for us."
   ]
  },
  {
   "cell_type": "markdown",
   "metadata": {},
   "source": [
    "## Creating the network\n",
    "\n",
    "What does this mean for out network? We only have to make one slight modification. We used ```x.view(-1)``` previously to flatten 32x32 images into vectors of 1024 elements. If we now feed a batch of size Nx32x32, this would generate a long vector of size Nx1024. So we need to adjust the ```view()``` command and specify the size of the first dimension. In such a way only the image dimensions are flattened: ```x.view(batchsize, -1)```. Alternatively we can use ```torch.flatten(start_dim = 1)``` specifying from which dimension we want to start flattening:"
   ]
  },
  {
   "cell_type": "code",
   "execution_count": 3,
   "metadata": {},
   "outputs": [],
   "source": [
    "import torch\n",
    "from torch import nn\n",
    "from torch.functional import F"
   ]
  },
  {
   "cell_type": "code",
   "execution_count": 4,
   "metadata": {},
   "outputs": [],
   "source": [
    "class Mynetwork(nn.Module):\n",
    "    def __init__(self, input_size, num_categories):\n",
    "        super(Mynetwork, self).__init__()\n",
    "        \n",
    "        # define e.g. layers here e.g.\n",
    "        self.layer1 = nn.Linear(input_size, 100)\n",
    "        self.layer2 = nn.Linear(100, 100)\n",
    "        self.layer3 = nn.Linear(100, num_categories)\n",
    "\n",
    "    def forward(self, x):\n",
    "        \n",
    "        # flatten the input\n",
    "        x = x.flatten(start_dim=1)\n",
    "        # define the sequence of operations in the network including e.g. activations\n",
    "        x = F.relu(self.layer1(x))\n",
    "        x = F.relu(self.layer2(x))\n",
    "        x = self.layer3(x)\n",
    "        \n",
    "        return x"
   ]
  },
  {
   "cell_type": "markdown",
   "metadata": {},
   "source": [
    "And now we instantiate it with:"
   ]
  },
  {
   "cell_type": "code",
   "execution_count": 5,
   "metadata": {},
   "outputs": [],
   "source": [
    "model = Mynetwork(1024, 2)"
   ]
  },
  {
   "cell_type": "markdown",
   "metadata": {},
   "source": [
    "Let's check that inputs/outputs work as expected:"
   ]
  },
  {
   "cell_type": "code",
   "execution_count": 6,
   "metadata": {},
   "outputs": [
    {
     "data": {
      "text/plain": [
       "torch.Size([5, 32, 32])"
      ]
     },
     "execution_count": 6,
     "metadata": {},
     "output_type": "execute_result"
    }
   ],
   "source": [
    "myinput = torch.randn((5,32,32))\n",
    "myinput.size()"
   ]
  },
  {
   "cell_type": "code",
   "execution_count": 7,
   "metadata": {},
   "outputs": [
    {
     "data": {
      "text/plain": [
       "torch.Size([5, 2])"
      ]
     },
     "execution_count": 7,
     "metadata": {},
     "output_type": "execute_result"
    }
   ],
   "source": [
    "myoutput = model(myinput)\n",
    "myoutput.size()"
   ]
  },
  {
   "cell_type": "markdown",
   "metadata": {},
   "source": [
    "If we want to pass a single element, e.g. in the inference phase, then we still have to reshape it so that it has dimensions ```N x ...```. The first dimension will just have a size of 1. The simples to do that is to use ```unsqueeze()```:"
   ]
  },
  {
   "cell_type": "code",
   "execution_count": 8,
   "metadata": {},
   "outputs": [
    {
     "data": {
      "text/plain": [
       "torch.Size([32, 32])"
      ]
     },
     "execution_count": 8,
     "metadata": {},
     "output_type": "execute_result"
    }
   ],
   "source": [
    "myimage = torch.randn((32,32))\n",
    "myimage.size()"
   ]
  },
  {
   "cell_type": "code",
   "execution_count": 9,
   "metadata": {},
   "outputs": [
    {
     "data": {
      "text/plain": [
       "torch.Size([1, 32, 32])"
      ]
     },
     "execution_count": 9,
     "metadata": {},
     "output_type": "execute_result"
    }
   ],
   "source": [
    "myimage = myimage.unsqueeze(0)\n",
    "myimage.size()"
   ]
  },
  {
   "cell_type": "code",
   "execution_count": 10,
   "metadata": {},
   "outputs": [
    {
     "data": {
      "text/plain": [
       "torch.Size([1, 2])"
      ]
     },
     "execution_count": 10,
     "metadata": {},
     "output_type": "execute_result"
    }
   ],
   "source": [
    "output = model(myimage)\n",
    "output.size()"
   ]
  },
  {
   "cell_type": "markdown",
   "metadata": {},
   "source": [
    "## Defining a loss function and and backpropagating\n",
    "\n",
    "In this example, we are going to classify images. Therefore we can use a standard loss function like cross-entropy which is also available in the ```torch.nn``` module:"
   ]
  },
  {
   "cell_type": "code",
   "execution_count": 11,
   "metadata": {},
   "outputs": [],
   "source": [
    "criterion = nn.CrossEntropyLoss()"
   ]
  },
  {
   "cell_type": "code",
   "execution_count": 12,
   "metadata": {},
   "outputs": [
    {
     "data": {
      "text/plain": [
       "torch.nn.modules.loss.CrossEntropyLoss"
      ]
     },
     "execution_count": 12,
     "metadata": {},
     "output_type": "execute_result"
    }
   ],
   "source": [
    "type(criterion)"
   ]
  },
  {
   "cell_type": "markdown",
   "metadata": {},
   "source": [
    "We see that the loss function is also a module i.e. it is differentiable and can just be integrated in the network. Also it sticks to the same \"batch-logic\" as the other layers. Therefore it expects inputs whose dimensions start with ```N``` for bactches. What we need here is the output of the network of size ```N x C``` where C is the number of categories (2 in our example) and a list of target labels (\"true\" labels) which have of course to be turned into a tensor.\n",
    "\n",
    "We make up some data here:"
   ]
  },
  {
   "cell_type": "code",
   "execution_count": 13,
   "metadata": {},
   "outputs": [],
   "source": [
    "mysample = torch.randn(3, 32*32)\n",
    "mylabels = torch.tensor([0,1,1])"
   ]
  },
  {
   "cell_type": "markdown",
   "metadata": {},
   "source": [
    "We pass them through the network:"
   ]
  },
  {
   "cell_type": "code",
   "execution_count": 14,
   "metadata": {},
   "outputs": [],
   "source": [
    "output = model(mysample)"
   ]
  },
  {
   "cell_type": "markdown",
   "metadata": {},
   "source": [
    "And compare output to target with the cross-entropy module:"
   ]
  },
  {
   "cell_type": "code",
   "execution_count": 15,
   "metadata": {},
   "outputs": [],
   "source": [
    "loss = criterion(output, mylabels)"
   ]
  },
  {
   "cell_type": "markdown",
   "metadata": {},
   "source": [
    "Note that the ```CrossEntropyLoss``` module **automatically** applies soft-max to the output and then calculates the loss. So we **don't need** to have a soft-max layer at the end of our network."
   ]
  },
  {
   "cell_type": "markdown",
   "metadata": {},
   "source": [
    "Now that we have done the forward pass, we can calculate the gradients of the loss by backpropagation. This is simply done by calling the ```backward``` method:"
   ]
  },
  {
   "cell_type": "code",
   "execution_count": 16,
   "metadata": {},
   "outputs": [],
   "source": [
    "loss.backward()"
   ]
  },
  {
   "cell_type": "markdown",
   "metadata": {},
   "source": [
    "### Optimizer\n",
    "\n",
    "Now that we have an estimate of the loss and gradients, we can optimize all our paramters by using some optimization algorithm. Several are available in ```torch.optim```. We use here the Adam optimizer, one of the \"safest\" choices. As arguments we need to pass a list of parameters that need to be optimized. We can do that by recovering them from our model:"
   ]
  },
  {
   "cell_type": "code",
   "execution_count": 17,
   "metadata": {},
   "outputs": [
    {
     "data": {
      "text/plain": [
       "[Parameter containing:\n",
       " tensor([[ 2.0096e-02,  3.0674e-05,  2.6671e-02,  ...,  6.5770e-03,\n",
       "           7.3955e-03, -1.8081e-02],\n",
       "         [-1.7888e-02, -1.9279e-02, -1.7028e-02,  ..., -3.8475e-03,\n",
       "          -1.7462e-02,  1.4501e-02],\n",
       "         [ 1.5343e-02, -9.3881e-03, -9.9786e-03,  ...,  1.6292e-03,\n",
       "          -3.2812e-03,  6.1001e-03],\n",
       "         ...,\n",
       "         [ 1.5522e-02,  4.7774e-03, -3.8563e-03,  ..., -4.9394e-03,\n",
       "           1.1973e-02,  2.9910e-02],\n",
       "         [-1.1413e-02, -1.0850e-02, -2.5945e-02,  ..., -1.1821e-02,\n",
       "           1.0397e-02,  2.5489e-02],\n",
       "         [-2.7788e-02, -1.0083e-02,  1.9031e-02,  ..., -7.2356e-03,\n",
       "           2.0071e-02,  1.1560e-02]], requires_grad=True),\n",
       " Parameter containing:\n",
       " tensor([ 7.7209e-03,  2.4932e-02, -1.4238e-02, -1.6634e-02, -2.8935e-02,\n",
       "          1.2766e-02, -2.0776e-02,  2.9260e-02, -1.4907e-02, -8.9818e-04,\n",
       "          1.9231e-03, -6.5028e-03, -2.9427e-02,  8.3867e-04,  1.2105e-02,\n",
       "          1.1981e-02,  1.7196e-02,  2.0736e-02, -9.3799e-03,  2.4864e-02,\n",
       "         -2.0869e-02, -7.5096e-03, -2.0373e-02,  1.9844e-02, -1.2224e-02,\n",
       "         -1.2027e-02, -2.0100e-02, -9.6672e-03, -2.6220e-02,  2.5552e-02,\n",
       "         -2.4417e-02,  1.5736e-02,  6.9730e-03,  9.4496e-03, -2.4207e-02,\n",
       "         -1.1894e-02,  1.4290e-02, -1.7734e-02, -8.8290e-03, -2.9528e-02,\n",
       "          2.4942e-02,  2.5130e-02,  1.8410e-02, -2.0887e-02, -1.3651e-02,\n",
       "         -2.9620e-02,  4.7190e-03,  1.7522e-02, -4.3134e-03, -6.0331e-05,\n",
       "          2.2341e-02, -1.7073e-02, -1.0343e-03, -2.9692e-02, -3.5632e-03,\n",
       "         -3.8227e-03, -2.8373e-04,  1.0603e-04, -2.3703e-02,  1.5122e-02,\n",
       "         -2.6131e-02, -1.7449e-02,  1.6811e-02, -2.3028e-02, -2.5156e-02,\n",
       "         -5.6807e-03,  5.9528e-03,  6.3489e-03,  5.4543e-03,  9.7150e-03,\n",
       "          1.1492e-02,  1.9453e-03,  1.1023e-02,  1.3774e-02, -1.6266e-02,\n",
       "         -2.1876e-02, -1.5379e-02,  2.2677e-02, -1.2994e-02,  8.6572e-03,\n",
       "          1.1294e-02,  2.4407e-02,  4.7117e-03, -9.9618e-03,  5.7779e-03,\n",
       "         -8.9867e-03, -1.1312e-02, -8.6595e-03, -3.3287e-03,  5.9114e-03,\n",
       "          1.2269e-02,  2.5026e-02, -2.0863e-03,  2.6398e-02, -1.0442e-02,\n",
       "         -2.4469e-02,  1.0880e-02,  7.5141e-03, -3.0736e-02,  8.9216e-03],\n",
       "        requires_grad=True),\n",
       " Parameter containing:\n",
       " tensor([[ 0.0615, -0.0570, -0.0115,  ..., -0.0404,  0.0366,  0.0340],\n",
       "         [-0.0424, -0.0430,  0.0217,  ..., -0.0945,  0.0753,  0.0345],\n",
       "         [-0.0599,  0.0104, -0.0168,  ...,  0.0150, -0.0543,  0.0745],\n",
       "         ...,\n",
       "         [-0.0336,  0.0955,  0.0475,  ..., -0.0381,  0.0819,  0.0184],\n",
       "         [-0.0674, -0.0082, -0.0029,  ..., -0.0161,  0.0626,  0.0039],\n",
       "         [ 0.0575,  0.0464, -0.0442,  ...,  0.0222,  0.0034, -0.0486]],\n",
       "        requires_grad=True),\n",
       " Parameter containing:\n",
       " tensor([-0.0932, -0.0233,  0.0184,  0.0530, -0.0931, -0.0462, -0.0232, -0.0183,\n",
       "         -0.0833,  0.0932,  0.0846, -0.0992, -0.0546,  0.0305, -0.0917, -0.0055,\n",
       "         -0.0385, -0.0890, -0.0762,  0.0310,  0.0253, -0.0023,  0.0398,  0.0621,\n",
       "          0.0687,  0.0944,  0.0911, -0.0956, -0.0266, -0.0562,  0.0593,  0.0301,\n",
       "         -0.0865,  0.0297,  0.0100,  0.0867,  0.0305,  0.0568, -0.0235, -0.0760,\n",
       "          0.0893, -0.0569, -0.0389, -0.0358,  0.0664,  0.0300,  0.0740, -0.0896,\n",
       "         -0.0177,  0.0874, -0.0278, -0.0761,  0.0530, -0.0306, -0.0100, -0.0776,\n",
       "         -0.0499,  0.0141,  0.0993, -0.0278, -0.0154, -0.0650,  0.0786, -0.0099,\n",
       "         -0.0715,  0.0928,  0.0040, -0.0776,  0.0091,  0.0153, -0.0486,  0.0619,\n",
       "         -0.0576, -0.0776, -0.0790,  0.0824,  0.0067, -0.0238,  0.0267, -0.0023,\n",
       "         -0.0668, -0.0177, -0.0162,  0.0846, -0.0232, -0.0740,  0.0266, -0.0151,\n",
       "          0.0619, -0.0546, -0.0786, -0.0685, -0.0426,  0.0915,  0.0103, -0.0384,\n",
       "          0.0472,  0.0344, -0.0467,  0.0755], requires_grad=True),\n",
       " Parameter containing:\n",
       " tensor([[ 6.5606e-02, -5.0641e-02, -4.4553e-02, -6.8522e-02, -8.6985e-02,\n",
       "           2.3300e-02,  6.7255e-02, -7.6551e-02,  5.5659e-02, -2.4992e-02,\n",
       "          -6.8363e-02, -8.3316e-02, -3.2795e-03, -5.9428e-02,  6.5071e-02,\n",
       "          -3.3140e-02, -8.5052e-03,  3.7094e-02,  7.8014e-02,  5.7353e-02,\n",
       "          -7.2546e-02,  3.4763e-02, -9.0812e-02, -7.0710e-02,  7.8074e-02,\n",
       "           7.8433e-02, -1.6284e-02, -4.8971e-02, -5.2098e-03,  8.6665e-02,\n",
       "           5.2955e-02, -9.1893e-02, -9.1107e-02, -4.5895e-02, -7.1283e-02,\n",
       "           6.2609e-02,  4.2793e-02,  1.7321e-02, -5.3715e-02, -9.8614e-03,\n",
       "          -1.7231e-02, -6.1988e-02, -8.1160e-02,  5.0111e-02,  5.1918e-02,\n",
       "           9.0604e-02,  3.3860e-02,  4.9688e-02,  2.5078e-03,  7.8077e-02,\n",
       "          -2.7477e-02,  2.2147e-02, -4.4922e-04,  5.8734e-02, -2.4451e-02,\n",
       "           1.2447e-02,  5.7344e-02, -6.0107e-02, -8.1746e-02, -7.7935e-02,\n",
       "          -1.3861e-02,  2.9694e-02, -9.9264e-02, -7.1636e-02, -6.5192e-02,\n",
       "           6.3430e-02, -5.7641e-02,  1.6758e-02,  4.7391e-02, -4.9296e-02,\n",
       "           7.9114e-02, -9.3657e-02,  5.1332e-02, -1.8713e-02,  6.8710e-02,\n",
       "           7.6282e-02,  1.9291e-03,  4.3912e-02, -7.9793e-03,  7.4472e-03,\n",
       "          -6.1379e-02, -9.1564e-02,  4.4773e-04,  9.1251e-03,  7.5297e-02,\n",
       "          -8.9551e-02,  3.7104e-02, -8.5293e-02, -9.1996e-02, -3.1305e-02,\n",
       "          -4.3062e-02,  4.3459e-02, -1.7309e-02,  4.0477e-02,  4.9067e-03,\n",
       "          -3.0141e-02, -3.8705e-02, -5.2362e-02,  7.1610e-02, -9.3980e-02],\n",
       "         [ 7.1125e-02, -7.4714e-02, -8.5683e-02, -4.5036e-02, -1.8454e-02,\n",
       "           6.1750e-02,  9.1406e-02,  3.2390e-02,  6.7827e-02, -5.6413e-02,\n",
       "          -1.8700e-02, -4.1599e-02, -7.5128e-02, -3.4962e-03,  2.8468e-02,\n",
       "           3.4724e-02, -3.3955e-02, -6.7575e-02, -4.4694e-02,  3.2546e-02,\n",
       "           4.3997e-02, -3.4262e-02,  1.5453e-02, -7.2631e-02, -7.9618e-02,\n",
       "          -7.7813e-03, -9.9209e-03,  5.6433e-02,  5.9126e-02,  6.1921e-02,\n",
       "           3.8086e-02, -5.2365e-03,  5.0617e-02,  9.0606e-02,  2.2304e-02,\n",
       "          -5.9386e-02,  7.2383e-02,  2.4626e-03, -8.7539e-02,  3.5524e-02,\n",
       "          -7.5824e-02,  2.2815e-02,  4.0460e-02,  1.6408e-02, -5.0570e-02,\n",
       "           6.2677e-02, -4.8802e-02, -9.8503e-02,  7.4579e-02,  8.9813e-02,\n",
       "          -5.0746e-02,  4.9069e-02,  9.5946e-02, -5.6060e-02, -9.7131e-03,\n",
       "           8.0132e-02,  8.1806e-02, -2.5703e-02,  4.2433e-02,  3.6052e-03,\n",
       "          -9.3600e-03,  6.4871e-02, -3.1354e-03,  3.8400e-02, -3.7732e-02,\n",
       "          -4.8844e-02, -7.6407e-02, -8.4311e-02,  6.1517e-03,  4.5203e-05,\n",
       "          -2.6324e-03, -2.6466e-02,  6.2267e-02, -3.5270e-02, -5.3489e-02,\n",
       "           3.8019e-02,  1.2417e-02, -6.7351e-02, -1.4603e-02, -2.5690e-02,\n",
       "           5.4122e-02,  1.8533e-02, -4.6947e-02, -9.4890e-02,  5.9438e-02,\n",
       "           3.8490e-02,  8.5699e-02, -7.5382e-02, -6.9624e-03, -2.8783e-02,\n",
       "          -4.3161e-02, -4.9431e-02, -4.7825e-03,  9.3961e-03, -9.1059e-02,\n",
       "          -3.5627e-02, -8.6812e-02,  5.4014e-02,  3.1240e-02, -8.4004e-02]],\n",
       "        requires_grad=True),\n",
       " Parameter containing:\n",
       " tensor([-0.0204, -0.0083], requires_grad=True)]"
      ]
     },
     "execution_count": 17,
     "metadata": {},
     "output_type": "execute_result"
    }
   ],
   "source": [
    "list(model.parameters())"
   ]
  },
  {
   "cell_type": "code",
   "execution_count": 18,
   "metadata": {},
   "outputs": [],
   "source": [
    "import torch.optim as optim\n",
    "\n",
    "optimizer = optim.Adam(model.parameters(), lr=0.001)"
   ]
  },
  {
   "cell_type": "markdown",
   "metadata": {},
   "source": [
    "Now we have to acutally do one step of optimization using the ```step``` method:"
   ]
  },
  {
   "cell_type": "code",
   "execution_count": 19,
   "metadata": {},
   "outputs": [],
   "source": [
    "optimizer.step()"
   ]
  },
  {
   "cell_type": "markdown",
   "metadata": {},
   "source": [
    "Let's check that some parameters have really changed:"
   ]
  },
  {
   "cell_type": "code",
   "execution_count": 20,
   "metadata": {},
   "outputs": [
    {
     "data": {
      "text/plain": [
       "[Parameter containing:\n",
       " tensor([[ 2.0096e-02,  3.0674e-05,  2.6671e-02,  ...,  6.5770e-03,\n",
       "           7.3955e-03, -1.8081e-02],\n",
       "         [-1.6888e-02, -1.8279e-02, -1.6028e-02,  ..., -4.8475e-03,\n",
       "          -1.8462e-02,  1.5501e-02],\n",
       "         [ 1.4343e-02, -1.0388e-02, -8.9786e-03,  ...,  2.6292e-03,\n",
       "          -2.2812e-03,  5.1001e-03],\n",
       "         ...,\n",
       "         [ 1.4522e-02,  5.7774e-03, -2.8563e-03,  ..., -3.9394e-03,\n",
       "           1.2973e-02,  3.0910e-02],\n",
       "         [-1.2413e-02, -1.1850e-02, -2.6945e-02,  ..., -1.0821e-02,\n",
       "           9.3967e-03,  2.6489e-02],\n",
       "         [-2.8788e-02, -1.1083e-02,  1.8031e-02,  ..., -6.2356e-03,\n",
       "           1.9071e-02,  1.0560e-02]], requires_grad=True),\n",
       " Parameter containing:\n",
       " tensor([ 7.7209e-03,  2.5932e-02, -1.3238e-02, -1.5634e-02, -2.9935e-02,\n",
       "          1.3766e-02, -1.9776e-02,  3.0260e-02, -1.5907e-02, -1.8982e-03,\n",
       "          9.2313e-04, -5.5028e-03, -2.9427e-02, -1.6133e-04,  1.3105e-02,\n",
       "          1.0981e-02,  1.6196e-02,  1.9736e-02, -8.3799e-03,  2.4864e-02,\n",
       "         -1.9869e-02, -7.5096e-03, -1.9373e-02,  1.9844e-02, -1.2224e-02,\n",
       "         -1.2027e-02, -1.9100e-02, -8.6672e-03, -2.6220e-02,  2.4552e-02,\n",
       "         -2.3417e-02,  1.6736e-02,  6.9730e-03,  1.0450e-02, -2.3207e-02,\n",
       "         -1.2894e-02,  1.4290e-02, -1.8734e-02, -8.8290e-03, -2.8528e-02,\n",
       "          2.3942e-02,  2.4130e-02,  1.7410e-02, -2.1887e-02, -1.3651e-02,\n",
       "         -2.8620e-02,  3.7190e-03,  1.6522e-02, -3.3134e-03, -1.0603e-03,\n",
       "          2.3341e-02, -1.8073e-02, -3.4312e-05, -3.0692e-02, -2.5632e-03,\n",
       "         -2.8227e-03,  7.1627e-04,  1.0603e-04, -2.2703e-02,  1.6122e-02,\n",
       "         -2.7131e-02, -1.6449e-02,  1.5811e-02, -2.4028e-02, -2.6156e-02,\n",
       "         -6.6807e-03,  6.9528e-03,  5.3489e-03,  6.4543e-03,  1.0715e-02,\n",
       "          1.1492e-02,  2.9453e-03,  1.0023e-02,  1.3774e-02, -1.5266e-02,\n",
       "         -2.0876e-02, -1.5379e-02,  2.3677e-02, -1.1994e-02,  9.6572e-03,\n",
       "          1.2294e-02,  2.5407e-02,  5.7117e-03, -9.9618e-03,  4.7779e-03,\n",
       "         -7.9867e-03, -1.2312e-02, -7.6595e-03, -2.3288e-03,  4.9114e-03,\n",
       "          1.1269e-02,  2.4026e-02, -3.0863e-03,  2.7398e-02, -1.0442e-02,\n",
       "         -2.3475e-02,  1.0880e-02,  8.5141e-03, -2.9736e-02,  9.9216e-03],\n",
       "        requires_grad=True),\n",
       " Parameter containing:\n",
       " tensor([[ 0.0615, -0.0570, -0.0115,  ..., -0.0404,  0.0366,  0.0340],\n",
       "         [-0.0424, -0.0440,  0.0207,  ..., -0.0955,  0.0753,  0.0335],\n",
       "         [-0.0599,  0.0104, -0.0168,  ...,  0.0150, -0.0543,  0.0745],\n",
       "         ...,\n",
       "         [-0.0336,  0.0965,  0.0485,  ..., -0.0371,  0.0809,  0.0174],\n",
       "         [-0.0674, -0.0092, -0.0039,  ..., -0.0171,  0.0626,  0.0039],\n",
       "         [ 0.0575,  0.0474, -0.0432,  ...,  0.0232,  0.0024, -0.0496]],\n",
       "        requires_grad=True),\n",
       " Parameter containing:\n",
       " tensor([-0.0932, -0.0243,  0.0184,  0.0540, -0.0941, -0.0452, -0.0242, -0.0173,\n",
       "         -0.0823,  0.0942,  0.0836, -0.1002, -0.0556,  0.0305, -0.0917, -0.0055,\n",
       "         -0.0385, -0.0890, -0.0762,  0.0300,  0.0253, -0.0033,  0.0398,  0.0621,\n",
       "          0.0697,  0.0944,  0.0921, -0.0946, -0.0276, -0.0552,  0.0603,  0.0311,\n",
       "         -0.0865,  0.0307,  0.0090,  0.0857,  0.0315,  0.0578, -0.0225, -0.0770,\n",
       "          0.0903, -0.0569, -0.0399, -0.0348,  0.0654,  0.0310,  0.0730, -0.0886,\n",
       "         -0.0177,  0.0874, -0.0278, -0.0751,  0.0540, -0.0306, -0.0100, -0.0786,\n",
       "         -0.0489,  0.0141,  0.1003, -0.0288, -0.0154, -0.0640,  0.0776, -0.0089,\n",
       "         -0.0705,  0.0918,  0.0030, -0.0786,  0.0081,  0.0143, -0.0496,  0.0629,\n",
       "         -0.0566, -0.0766, -0.0800,  0.0814,  0.0057, -0.0248,  0.0277, -0.0013,\n",
       "         -0.0658, -0.0167, -0.0172,  0.0846, -0.0232, -0.0740,  0.0276, -0.0161,\n",
       "          0.0629, -0.0536, -0.0796, -0.0675, -0.0416,  0.0925,  0.0103, -0.0394,\n",
       "          0.0462,  0.0354, -0.0477,  0.0765], requires_grad=True),\n",
       " Parameter containing:\n",
       " tensor([[ 0.0656, -0.0516, -0.0446, -0.0675, -0.0880,  0.0223,  0.0683, -0.0776,\n",
       "           0.0547, -0.0240, -0.0694, -0.0823, -0.0043, -0.0594,  0.0651, -0.0331,\n",
       "          -0.0085,  0.0371,  0.0780,  0.0564, -0.0725,  0.0338, -0.0908, -0.0707,\n",
       "           0.0771,  0.0784, -0.0153, -0.0500, -0.0042,  0.0877,  0.0540, -0.0929,\n",
       "          -0.0911, -0.0469, -0.0723,  0.0616,  0.0418,  0.0183, -0.0547, -0.0089,\n",
       "          -0.0182, -0.0620, -0.0802,  0.0511,  0.0509,  0.0896,  0.0329,  0.0507,\n",
       "           0.0025,  0.0781, -0.0275,  0.0211, -0.0014,  0.0587, -0.0245,  0.0114,\n",
       "           0.0563, -0.0601, -0.0827, -0.0769, -0.0139,  0.0287, -0.1003, -0.0726,\n",
       "          -0.0662,  0.0624, -0.0586,  0.0158,  0.0464, -0.0483,  0.0781, -0.0947,\n",
       "           0.0503, -0.0197,  0.0677,  0.0773,  0.0029,  0.0429, -0.0090,  0.0084,\n",
       "          -0.0624, -0.0906, -0.0006,  0.0091,  0.0753, -0.0896,  0.0361, -0.0843,\n",
       "          -0.0910, -0.0323, -0.0441,  0.0445, -0.0183,  0.0395,  0.0049, -0.0311,\n",
       "          -0.0397, -0.0534,  0.0706, -0.0950],\n",
       "         [ 0.0711, -0.0737, -0.0857, -0.0460, -0.0175,  0.0627,  0.0904,  0.0334,\n",
       "           0.0688, -0.0574, -0.0177, -0.0426, -0.0741, -0.0035,  0.0285,  0.0347,\n",
       "          -0.0340, -0.0676, -0.0447,  0.0335,  0.0440, -0.0333,  0.0155, -0.0726,\n",
       "          -0.0786, -0.0078, -0.0109,  0.0574,  0.0581,  0.0609,  0.0371, -0.0042,\n",
       "           0.0506,  0.0916,  0.0233, -0.0584,  0.0734,  0.0015, -0.0865,  0.0345,\n",
       "          -0.0748,  0.0228,  0.0395,  0.0154, -0.0496,  0.0637, -0.0478, -0.0995,\n",
       "           0.0746,  0.0898, -0.0507,  0.0501,  0.0969, -0.0561, -0.0097,  0.0811,\n",
       "           0.0828, -0.0257,  0.0434,  0.0026, -0.0094,  0.0659, -0.0021,  0.0394,\n",
       "          -0.0367, -0.0478, -0.0754, -0.0833,  0.0072, -0.0010, -0.0016, -0.0255,\n",
       "           0.0633, -0.0343, -0.0525,  0.0370,  0.0114, -0.0664, -0.0136, -0.0267,\n",
       "           0.0551,  0.0175, -0.0459, -0.0949,  0.0594,  0.0385,  0.0867, -0.0764,\n",
       "          -0.0080, -0.0278, -0.0422, -0.0504, -0.0038,  0.0104, -0.0911, -0.0346,\n",
       "          -0.0858,  0.0550,  0.0322, -0.0830]], requires_grad=True),\n",
       " Parameter containing:\n",
       " tensor([-0.0214, -0.0073], requires_grad=True)]"
      ]
     },
     "execution_count": 20,
     "metadata": {},
     "output_type": "execute_result"
    }
   ],
   "source": [
    "list(model.parameters())"
   ]
  },
  {
   "cell_type": "markdown",
   "metadata": {},
   "source": [
    "## Measuring accuracy\n",
    "\n",
    "We use the cross-entropy as loss because it allows us to optimize our network. However what we are ultimately interested in is the **accuracy** of our model i.e. whether the correct label has been found or not. Such a binary answer is not useful for optimization but is what we want to monitor in the end. Let's generate some random data and see how we can calculate this:"
   ]
  },
  {
   "cell_type": "code",
   "execution_count": 21,
   "metadata": {},
   "outputs": [],
   "source": [
    "myimages = torch.randn((3,32,32))\n",
    "labels = torch.randint(0,2,(3,))"
   ]
  },
  {
   "cell_type": "code",
   "execution_count": 22,
   "metadata": {},
   "outputs": [
    {
     "data": {
      "text/plain": [
       "tensor([1, 1, 0])"
      ]
     },
     "execution_count": 22,
     "metadata": {},
     "output_type": "execute_result"
    }
   ],
   "source": [
    "labels"
   ]
  },
  {
   "cell_type": "code",
   "execution_count": 23,
   "metadata": {},
   "outputs": [
    {
     "data": {
      "text/plain": [
       "tensor([[-0.0419, -0.1089],\n",
       "        [-0.3458, -0.0347],\n",
       "        [-0.2012,  0.0032]], grad_fn=<AddmmBackward0>)"
      ]
     },
     "execution_count": 23,
     "metadata": {},
     "output_type": "execute_result"
    }
   ],
   "source": [
    "output = model(myimages)\n",
    "output"
   ]
  },
  {
   "cell_type": "markdown",
   "metadata": {},
   "source": [
    "The predicted category is the one with the highest probability (not normalized here but it doesn't matter). We can therefore just look for the index of the maximum value along the horizontal dimension:"
   ]
  },
  {
   "cell_type": "code",
   "execution_count": 24,
   "metadata": {},
   "outputs": [
    {
     "data": {
      "text/plain": [
       "tensor([0, 1, 1])"
      ]
     },
     "execution_count": 24,
     "metadata": {},
     "output_type": "execute_result"
    }
   ],
   "source": [
    "output.argmax(dim=1)"
   ]
  },
  {
   "cell_type": "markdown",
   "metadata": {},
   "source": [
    "Now we can compare prediction and true label:"
   ]
  },
  {
   "cell_type": "code",
   "execution_count": 25,
   "metadata": {},
   "outputs": [
    {
     "data": {
      "text/plain": [
       "tensor([False,  True, False])"
      ]
     },
     "execution_count": 25,
     "metadata": {},
     "output_type": "execute_result"
    }
   ],
   "source": [
    "labels == output.argmax(dim=1)"
   ]
  },
  {
   "cell_type": "markdown",
   "metadata": {},
   "source": [
    "If we take the sum over this tensor, it tells us how many samples in the batch were correctly predicted and the average accuracy is:"
   ]
  },
  {
   "cell_type": "code",
   "execution_count": 26,
   "metadata": {},
   "outputs": [
    {
     "data": {
      "text/plain": [
       "tensor(0.3333)"
      ]
     },
     "execution_count": 26,
     "metadata": {},
     "output_type": "execute_result"
    }
   ],
   "source": [
    "(labels == output.argmax(dim=1)).sum()/3"
   ]
  },
  {
   "cell_type": "markdown",
   "metadata": {},
   "source": [
    "## Dataset\n",
    "\n",
    "Now that we know that all steps work, we want to test our network. We will create a synthetic dataset for that using ```skimage.draw```. We will just generate random images with either circles or triangles. As we have an \"infinite\" amount of data available, we just artificially set a size for our dataset.\n",
    "\n",
    "Don't forget that we need a training and a validation dataset. Every time we have trained the network with the whole training dataset we check prediction quality with the validation dataset to make sure e.g. we are not over-fitting."
   ]
  },
  {
   "cell_type": "code",
   "execution_count": 27,
   "metadata": {},
   "outputs": [],
   "source": [
    "from skimage.draw import random_shapes\n",
    "import matplotlib.pyplot as plt\n",
    "import numpy as np"
   ]
  },
  {
   "cell_type": "markdown",
   "metadata": {},
   "source": [
    "The following function takes as input a keyword - ```triangle```, ```circle```, etc. - and outputs an image with that object as a PyTorch tensor:"
   ]
  },
  {
   "cell_type": "code",
   "execution_count": 31,
   "metadata": {},
   "outputs": [],
   "source": [
    "def make_image(shape, imsize):\n",
    "    \"\"\"Generate image of given shape scaled 0-1.\n",
    "    shape: str\n",
    "        shape to draw (circle, triangle, rectangle)\n",
    "    imsize: int\n",
    "        size of image\n",
    "    \"\"\"\n",
    "    \n",
    "    image, _ = random_shapes(\n",
    "        image_shape=(imsize,imsize),max_shapes=1, min_shapes=1,\n",
    "        num_channels=1, channel_axis=None, shape=shape, min_size=8)\n",
    "    #normalize\n",
    "    image = (255-image)/255\n",
    "\n",
    "    # turn into tensor\n",
    "    image_tensor = torch.tensor(image,dtype=torch.float32)\n",
    "    \n",
    "    return image_tensor"
   ]
  },
  {
   "cell_type": "markdown",
   "metadata": {},
   "source": [
    "To create pairs of images and labels we simply create a list of possible shapes and randomly pick values from there. We should also not forget to transform the label into a tensor. Let's make a single image:"
   ]
  },
  {
   "cell_type": "code",
   "execution_count": 35,
   "metadata": {},
   "outputs": [],
   "source": [
    "im_type = ['circle', 'triangle','rectangle']\n",
    "num_cat = len(im_type)\n",
    "image_size = 32\n",
    "\n",
    "label = torch.randint(0,num_cat,(1,))\n",
    "image = make_image(im_type[label], image_size)"
   ]
  },
  {
   "cell_type": "code",
   "execution_count": 36,
   "metadata": {},
   "outputs": [
    {
     "data": {
      "image/png": "[encoded data removed]",
      "text/plain": [
       "<Figure size 432x288 with 1 Axes>"
      ]
     },
     "metadata": {
      "needs_background": "light"
     },
     "output_type": "display_data"
    }
   ],
   "source": [
    "fig, ax = plt.subplots()\n",
    "ax.imshow(image)\n",
    "ax.set_title(im_type[label]);"
   ]
  },
  {
   "cell_type": "markdown",
   "metadata": {},
   "source": [
    "We want to train our network using mini-batches, and each batch should have a size ```N x H x W``` where ```N``` is the batch size and ```H,W``` the image dimension. We can create a batch by stacking multiple 2D tensors together:"
   ]
  },
  {
   "cell_type": "code",
   "execution_count": 37,
   "metadata": {},
   "outputs": [
    {
     "data": {
      "text/plain": [
       "torch.Size([10, 32, 32])"
      ]
     },
     "execution_count": 37,
     "metadata": {},
     "output_type": "execute_result"
    }
   ],
   "source": [
    "batch_size = 10\n",
    "single_batch = torch.stack([make_image('circle', image_size) for x in range(batch_size)])\n",
    "single_batch.size()"
   ]
  },
  {
   "cell_type": "markdown",
   "metadata": {},
   "source": [
    "Of course we want to mix the different image types, so we generate labels of size ```batch_size``` as well:"
   ]
  },
  {
   "cell_type": "code",
   "execution_count": 38,
   "metadata": {},
   "outputs": [
    {
     "data": {
      "image/png": "[encoded data removed]",
      "text/plain": [
       "<Figure size 432x288 with 4 Axes>"
      ]
     },
     "metadata": {
      "needs_background": "light"
     },
     "output_type": "display_data"
    }
   ],
   "source": [
    "label = torch.randint(0,num_cat,(batch_size,))\n",
    "single_batch = torch.stack([make_image(im_type[x], image_size) for x in label])\n",
    "\n",
    "fig, ax = plt.subplots(1,4)\n",
    "for x in range(4):\n",
    "    ax[x].imshow(single_batch[x,:,:])"
   ]
  },
  {
   "cell_type": "markdown",
   "metadata": {},
   "source": [
    "Finally we can create our full dataset (as a list of tensors) by generating ```M``` bachtes in order to have ```M x N``` training examples:"
   ]
  },
  {
   "cell_type": "code",
   "execution_count": 39,
   "metadata": {},
   "outputs": [],
   "source": [
    "# size of training dataset\n",
    "batch_size = 10\n",
    "training_size = 5000\n",
    "validation_size = 100\n",
    "train_batch_number = int(training_size/batch_size)\n",
    "validation_batch_number = int(validation_size/batch_size)\n",
    "\n",
    "training_label = [torch.randint(0,num_cat,(batch_size,)) for i in range(train_batch_number)]\n",
    "validation_label = [torch.randint(0,num_cat,(batch_size,)) for i in range(validation_batch_number)]\n",
    "\n",
    "train_batches = [torch.stack([make_image(im_type[x], image_size) for x in lab]) for lab in training_label]\n",
    "valid_batches = [torch.stack([make_image(im_type[x], image_size) for x in lab]) for lab in validation_label]\n"
   ]
  },
  {
   "cell_type": "markdown",
   "metadata": {},
   "source": [
    "## Training loop\n",
    "\n",
    "Now we can create a loop where we iterate through our batches to train our network and go through the steps defined above. We will do two loops: \n",
    "1. Over epochs: one epoch representing a training step over **all batches**\n",
    "2. Over batches\n",
    "\n",
    "We do validation only once per epoch to see how training goes."
   ]
  },
  {
   "cell_type": "code",
   "execution_count": 40,
   "metadata": {},
   "outputs": [
    {
     "name": "stdout",
     "output_type": "stream",
     "text": [
      "epoch: 0\n",
      "valid_accuracy: 0.7099999189376831\n",
      "epoch: 1\n",
      "valid_accuracy: 0.7500000596046448\n",
      "epoch: 2\n",
      "valid_accuracy: 0.7800000309944153\n",
      "epoch: 3\n",
      "valid_accuracy: 0.8399999737739563\n",
      "epoch: 4\n",
      "valid_accuracy: 0.8500000238418579\n",
      "epoch: 5\n",
      "valid_accuracy: 0.9199999570846558\n",
      "epoch: 6\n",
      "valid_accuracy: 0.8899999856948853\n",
      "epoch: 7\n",
      "valid_accuracy: 0.9199999570846558\n",
      "epoch: 8\n",
      "valid_accuracy: 0.9199999570846558\n",
      "epoch: 9\n",
      "valid_accuracy: 0.9199999570846558\n"
     ]
    }
   ],
   "source": [
    "#del model\n",
    "model = Mynetwork(1024, 3)\n",
    "optimizer = optim.Adam(model.parameters(), lr=0.001)\n",
    "\n",
    "for epoch in range(10):\n",
    "    \n",
    "    print(f'epoch: {epoch}')\n",
    "    \n",
    "    # initialize running accuracy\n",
    "    running_accuracy = 0\n",
    "    \n",
    "    for t in range(train_batch_number):\n",
    "    \n",
    "        # get batch\n",
    "        label = training_label[t]\n",
    "        mybatch = train_batches[t]\n",
    "\n",
    "        # calculate predicted label and calculate loss\n",
    "        pred = model(mybatch)\n",
    "        loss = criterion(pred, label)\n",
    "\n",
    "        # backpropagate the loss\n",
    "        loss.backward()\n",
    "\n",
    "        # do the optimization step\n",
    "        optimizer.step()\n",
    "\n",
    "        # set gradients to zero as PyTorch accumulates them otherwise\n",
    "        optimizer.zero_grad()\n",
    "\n",
    "        # calculate accuracy\n",
    "        mean_accuracy = (torch.argmax(pred,dim=1) == label).sum()/batch_size\n",
    "        running_accuracy+=mean_accuracy\n",
    "\n",
    "        every_nth = 1000\n",
    "        if t % every_nth == every_nth-1: \n",
    "            print(f'accuracy: {running_accuracy/every_nth}')\n",
    "            running_accuracy = 0.0\n",
    "    \n",
    "    # validation\n",
    "    valid_accuracy = 0\n",
    "    for t in range(validation_batch_number):\n",
    "    \n",
    "        # get batch\n",
    "        label = validation_label[t]\n",
    "        mybatch = valid_batches[t]\n",
    "\n",
    "        # calculate predicted label\n",
    "        pred = model(mybatch)\n",
    "        # calculate accuracy\n",
    "        mean_accuracy = (torch.argmax(pred,dim=1) == label).sum()/batch_size\n",
    "        valid_accuracy += mean_accuracy\n",
    "    valid_accuracy = valid_accuracy/validation_batch_number\n",
    "    print(f'valid_accuracy: {valid_accuracy}')"
   ]
  },
  {
   "cell_type": "markdown",
   "metadata": {},
   "source": [
    "We see that accuracy improves but not to a perfect level. We can try to increase the number of epochs or the training size. We can also try to understand where the problem is. For example we can try to find out which images are most mis-classified using a confusion matrix from scikit-learn."
   ]
  },
  {
   "cell_type": "code",
   "execution_count": 41,
   "metadata": {},
   "outputs": [],
   "source": [
    "from sklearn.metrics import confusion_matrix\n",
    "import pandas as pd\n",
    "import seaborn as sn"
   ]
  },
  {
   "cell_type": "markdown",
   "metadata": {},
   "source": [
    "We generate a test batch and obtain a prediction with our model:"
   ]
  },
  {
   "cell_type": "code",
   "execution_count": 42,
   "metadata": {},
   "outputs": [],
   "source": [
    "label = torch.randint(0,len(im_type),(100,))\n",
    "mybatch = torch.stack([make_image(im_type[x], image_size) for x in label])\n",
    "pred = model(mybatch)"
   ]
  },
  {
   "cell_type": "markdown",
   "metadata": {},
   "source": [
    "Again the maximum index for each element of the batch gives us the final class:"
   ]
  },
  {
   "cell_type": "code",
   "execution_count": 43,
   "metadata": {},
   "outputs": [
    {
     "data": {
      "text/plain": [
       "tensor([0, 2, 1, 1, 1, 1, 1, 2, 2, 2, 1, 0, 0, 1, 2, 1, 0, 1, 1, 1, 0, 2, 0, 2,\n",
       "        0, 1, 2, 1, 2, 1, 2, 2, 1, 1, 0, 2, 0, 0, 1, 0, 1, 1, 0, 2, 0, 2, 0, 1,\n",
       "        2, 1, 2, 1, 1, 2, 2, 0, 1, 1, 2, 2, 0, 2, 2, 1, 2, 2, 1, 1, 1, 2, 1, 0,\n",
       "        2, 1, 2, 1, 0, 0, 0, 1, 0, 1, 0, 0, 1, 1, 2, 1, 1, 0, 0, 2, 1, 0, 1, 2,\n",
       "        2, 0, 2, 1])"
      ]
     },
     "execution_count": 43,
     "metadata": {},
     "output_type": "execute_result"
    }
   ],
   "source": [
    "pred.argmax(dim=1)"
   ]
  },
  {
   "cell_type": "code",
   "execution_count": 44,
   "metadata": {},
   "outputs": [
    {
     "data": {
      "text/plain": [
       "tensor([0, 2, 1, 1, 1, 1, 1, 2, 2, 2, 1, 0, 0, 1, 2, 1, 0, 1, 1, 1, 0, 2, 2, 2,\n",
       "        0, 1, 2, 1, 2, 1, 2, 2, 1, 1, 0, 2, 0, 0, 1, 0, 1, 0, 0, 2, 0, 0, 0, 1,\n",
       "        2, 1, 2, 1, 1, 2, 2, 0, 1, 1, 0, 2, 0, 2, 2, 0, 2, 2, 1, 1, 1, 2, 1, 0,\n",
       "        2, 1, 2, 1, 0, 0, 0, 0, 0, 1, 0, 0, 1, 1, 2, 1, 1, 0, 0, 2, 1, 0, 1, 2,\n",
       "        0, 0, 2, 1])"
      ]
     },
     "execution_count": 44,
     "metadata": {},
     "output_type": "execute_result"
    }
   ],
   "source": [
    "label"
   ]
  },
  {
   "cell_type": "markdown",
   "metadata": {},
   "source": [
    "Let's calcualte the confusion matrix and transform it into a Dataframe that we can then easily plot with seaborn:"
   ]
  },
  {
   "cell_type": "code",
   "execution_count": 45,
   "metadata": {},
   "outputs": [],
   "source": [
    "df_cm = pd.DataFrame(confusion_matrix(pred.argmax(dim=1), label), index = im_type,\n",
    "                  columns = im_type)"
   ]
  },
  {
   "cell_type": "code",
   "execution_count": 46,
   "metadata": {},
   "outputs": [
    {
     "data": {
      "image/png": "[encoded data removed]",
      "text/plain": [
       "<Figure size 720x504 with 2 Axes>"
      ]
     },
     "metadata": {
      "needs_background": "light"
     },
     "output_type": "display_data"
    }
   ],
   "source": [
    "plt.figure(figsize = (10,7))\n",
    "sn.heatmap(df_cm, annot=True);"
   ]
  },
  {
   "cell_type": "markdown",
   "metadata": {},
   "source": [
    "We see that the problem is mostly the circle. Because we use a tiny image, small circles are not smooth and can look like rectangles or triangles."
   ]
  },
  {
   "cell_type": "markdown",
   "metadata": {},
   "source": [
    "## Exercises\n",
    "\n",
    "1. Re-use the network you have create for the exercise 4. Make sure it can take **batches** of 2D images as input.\n",
    "2. Create an image generator which creates black (value=0) images (2D tensors) with a single white (value=1) line which is vertical (class #1) or horizontal (class #2)\n",
    "3. Create training and validation data generators\n",
    "4. Add a training loop and train. Verify that the nework works\n",
    "5. \"Bonus\": try to add various levels of noise to the image and see how prediction is affected"
   ]
  }
 ],
 "metadata": {
  "kernelspec": {
   "display_name": "Python 3",
   "language": "python",
   "name": "python3"
  },
  "language_info": {
   "codemirror_mode": {
    "name": "ipython",
    "version": 3
   },
   "file_extension": ".py",
   "mimetype": "text/x-python",
   "name": "python",
   "nbconvert_exporter": "python",
   "pygments_lexer": "ipython3",
   "version": "3.9.10"
  },
  "toc": {
   "base_numbering": 1,
   "nav_menu": {},
   "number_sections": false,
   "sideBar": true,
   "skip_h1_title": false,
   "title_cell": "Table of Contents",
   "title_sidebar": "Contents",
   "toc_cell": false,
   "toc_position": {},
   "toc_section_display": true,
   "toc_window_display": true
  },
  "varInspector": {
   "cols": {
    "lenName": 16,
    "lenType": 16,
    "lenVar": 40
   },
   "kernels_config": {
    "python": {
     "delete_cmd_postfix": "",
     "delete_cmd_prefix": "del ",
     "library": "var_list.py",
     "varRefreshCmd": "print(var_dic_list())"
    },
    "r": {
     "delete_cmd_postfix": ") ",
     "delete_cmd_prefix": "rm(",
     "library": "var_list.r",
     "varRefreshCmd": "cat(var_dic_list()) "
    }
   },
   "types_to_exclude": [
    "module",
    "function",
    "builtin_function_or_method",
    "instance",
    "_Feature"
   ],
   "window_display": false
  }
 },
 "nbformat": 4,
 "nbformat_minor": 4
}
